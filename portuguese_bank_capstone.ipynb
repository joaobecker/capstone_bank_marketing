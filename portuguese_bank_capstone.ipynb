{
 "cells": [
  {
   "cell_type": "markdown",
   "metadata": {},
   "source": [
    "#  ***Bank Marketing Campaign - Exploratory Data Analysis*** \n",
    "    \n",
    "- In this part of the project I will explore the portuguese bank marketing campaign dataset with some visualiazation techniques in order to define the selection of variables that are going to be used for the machine learning section. \n",
    "\n",
    "## Marketing Campaign Recap:\n",
    "\n",
    "- The research focus on targeting through telemarketing phone calls to sell long-term deposits with attractive interest rates. In the campaign,\n",
    "    the bank agent execute phone calls to a list of clients to see if they are interested to subscribe for a \n",
    "    long-term deposit. The result is a binary answer, 'yes' or 'no'.\n",
    "    \n",
    "## The Dataset:\n",
    "\n",
    "- The dataset is composed of 21 variables, 20 independent variables ranging from numeric to categorical, such as\n",
    "    job, marital status, month, amount of times client was contacted, age and others. And 1 binary dependent \n",
    "    variable, if client subscribed 'yes' or 'no'.\n",
    "\n",
    "\n",
    "## Findings:\n",
    "\n",
    " - The exploration analysis was able to identify variables that have a meaningful impact in subscribing a \n",
    "    client to a long term deposit, these variables are: job category, month of the year, call duration, if they have \n",
    "    previously subscribed to a campaign, quaterly interest rate and quaterly number of employed.\n",
    "    \n",
    "    1. Job category - The categories with the highest subscribed rate were students (31%), retired (25%) and unemployed (14%). Interesting enough, these are the categories of people that do not have a job.\n",
    "    \n",
    "    2. Month of the year - It was interesting to notice that some months had over 50% subscribed rate, such as March, December and September. Also, May, the month with the highest amount of subscribers had the worst subscribed rate with only 6.4% subscribing.\n",
    "    \n",
    "    3. Call Duration - The duration of the call has a significant impact in subscribing a client. The most of the calls that didn't end in subscription last at most 279 seconds, while the lower quartile of the calls that got people subscribed was 253 seconds. Therefore, the longer the agent stayed on the month with the client, the higher the chance on subscribing.\n",
    "    \n",
    "    4. If client previously subscribed to a campaign - If a client had previously subscribed to a campaign from this bank, there is a high chance of subscribing again, as 65% of those who have subscribed to a previous campaign have subscribed again.\n",
    "    \n",
    "    5. Interest rate (Daily indicator) - There is a significant correlation that the lower the interest rate the more subscribers. This could be because the long term deposit with high interest rate becomes more enticing with the low average interest rates. In addition, there is a strong correlation between the months with the highest subscribed rate and low interest rate. \n",
    "    \n",
    "    6. Number of employed (Quaterly indicator) - The less people employed in the economy, the more subscribers. Similar to what the job category shows, the people that are most likely to subscribed are the people without job. Thus, a higher number of unemployed people, the higher the subscribed rate.\n",
    "    \n",
    "\n",
    "## What's Next:\n",
    "- Given the findings above, the next step is to use machine learning to identify how strong these correlations are and if we are able to predict what clients are going to subscribe.\n",
    "\n",
    "    \n",
    "## The Experiments and the Data:\n"
   ]
  },
  {
   "cell_type": "markdown",
   "metadata": {},
   "source": [
    "### Importing Libraries"
   ]
  },
  {
   "cell_type": "code",
   "execution_count": 115,
   "metadata": {},
   "outputs": [],
   "source": [
    "import matplotlib.pyplot as plt\n",
    "import pandas as pd\n",
    "import numpy as np"
   ]
  },
  {
   "cell_type": "markdown",
   "metadata": {},
   "source": [
    "### Converting the dataset from CSV to Dataframe, using pandas."
   ]
  },
  {
   "cell_type": "code",
   "execution_count": 4,
   "metadata": {
    "scrolled": false
   },
   "outputs": [
    {
     "data": {
      "text/html": [
       "<div>\n",
       "<style scoped>\n",
       "    .dataframe tbody tr th:only-of-type {\n",
       "        vertical-align: middle;\n",
       "    }\n",
       "\n",
       "    .dataframe tbody tr th {\n",
       "        vertical-align: top;\n",
       "    }\n",
       "\n",
       "    .dataframe thead th {\n",
       "        text-align: right;\n",
       "    }\n",
       "</style>\n",
       "<table border=\"1\" class=\"dataframe\">\n",
       "  <thead>\n",
       "    <tr style=\"text-align: right;\">\n",
       "      <th></th>\n",
       "      <th>age</th>\n",
       "      <th>job</th>\n",
       "      <th>marital</th>\n",
       "      <th>education</th>\n",
       "      <th>default</th>\n",
       "      <th>housing</th>\n",
       "      <th>loan</th>\n",
       "      <th>contact</th>\n",
       "      <th>month</th>\n",
       "      <th>day_of_week</th>\n",
       "      <th>...</th>\n",
       "      <th>campaign</th>\n",
       "      <th>pdays</th>\n",
       "      <th>previous</th>\n",
       "      <th>poutcome</th>\n",
       "      <th>emp.var.rate</th>\n",
       "      <th>cons.price.idx</th>\n",
       "      <th>cons.conf.idx</th>\n",
       "      <th>euribor3m</th>\n",
       "      <th>nr.employed</th>\n",
       "      <th>y</th>\n",
       "    </tr>\n",
       "  </thead>\n",
       "  <tbody>\n",
       "    <tr>\n",
       "      <th>0</th>\n",
       "      <td>56</td>\n",
       "      <td>housemaid</td>\n",
       "      <td>married</td>\n",
       "      <td>basic.4y</td>\n",
       "      <td>no</td>\n",
       "      <td>no</td>\n",
       "      <td>no</td>\n",
       "      <td>telephone</td>\n",
       "      <td>may</td>\n",
       "      <td>mon</td>\n",
       "      <td>...</td>\n",
       "      <td>1</td>\n",
       "      <td>999</td>\n",
       "      <td>0</td>\n",
       "      <td>nonexistent</td>\n",
       "      <td>1.1</td>\n",
       "      <td>93.994</td>\n",
       "      <td>-36.4</td>\n",
       "      <td>4.857</td>\n",
       "      <td>5191.0</td>\n",
       "      <td>no</td>\n",
       "    </tr>\n",
       "    <tr>\n",
       "      <th>1</th>\n",
       "      <td>57</td>\n",
       "      <td>services</td>\n",
       "      <td>married</td>\n",
       "      <td>high.school</td>\n",
       "      <td>unknown</td>\n",
       "      <td>no</td>\n",
       "      <td>no</td>\n",
       "      <td>telephone</td>\n",
       "      <td>may</td>\n",
       "      <td>mon</td>\n",
       "      <td>...</td>\n",
       "      <td>1</td>\n",
       "      <td>999</td>\n",
       "      <td>0</td>\n",
       "      <td>nonexistent</td>\n",
       "      <td>1.1</td>\n",
       "      <td>93.994</td>\n",
       "      <td>-36.4</td>\n",
       "      <td>4.857</td>\n",
       "      <td>5191.0</td>\n",
       "      <td>no</td>\n",
       "    </tr>\n",
       "    <tr>\n",
       "      <th>2</th>\n",
       "      <td>37</td>\n",
       "      <td>services</td>\n",
       "      <td>married</td>\n",
       "      <td>high.school</td>\n",
       "      <td>no</td>\n",
       "      <td>yes</td>\n",
       "      <td>no</td>\n",
       "      <td>telephone</td>\n",
       "      <td>may</td>\n",
       "      <td>mon</td>\n",
       "      <td>...</td>\n",
       "      <td>1</td>\n",
       "      <td>999</td>\n",
       "      <td>0</td>\n",
       "      <td>nonexistent</td>\n",
       "      <td>1.1</td>\n",
       "      <td>93.994</td>\n",
       "      <td>-36.4</td>\n",
       "      <td>4.857</td>\n",
       "      <td>5191.0</td>\n",
       "      <td>no</td>\n",
       "    </tr>\n",
       "    <tr>\n",
       "      <th>3</th>\n",
       "      <td>40</td>\n",
       "      <td>admin.</td>\n",
       "      <td>married</td>\n",
       "      <td>basic.6y</td>\n",
       "      <td>no</td>\n",
       "      <td>no</td>\n",
       "      <td>no</td>\n",
       "      <td>telephone</td>\n",
       "      <td>may</td>\n",
       "      <td>mon</td>\n",
       "      <td>...</td>\n",
       "      <td>1</td>\n",
       "      <td>999</td>\n",
       "      <td>0</td>\n",
       "      <td>nonexistent</td>\n",
       "      <td>1.1</td>\n",
       "      <td>93.994</td>\n",
       "      <td>-36.4</td>\n",
       "      <td>4.857</td>\n",
       "      <td>5191.0</td>\n",
       "      <td>no</td>\n",
       "    </tr>\n",
       "    <tr>\n",
       "      <th>4</th>\n",
       "      <td>56</td>\n",
       "      <td>services</td>\n",
       "      <td>married</td>\n",
       "      <td>high.school</td>\n",
       "      <td>no</td>\n",
       "      <td>no</td>\n",
       "      <td>yes</td>\n",
       "      <td>telephone</td>\n",
       "      <td>may</td>\n",
       "      <td>mon</td>\n",
       "      <td>...</td>\n",
       "      <td>1</td>\n",
       "      <td>999</td>\n",
       "      <td>0</td>\n",
       "      <td>nonexistent</td>\n",
       "      <td>1.1</td>\n",
       "      <td>93.994</td>\n",
       "      <td>-36.4</td>\n",
       "      <td>4.857</td>\n",
       "      <td>5191.0</td>\n",
       "      <td>no</td>\n",
       "    </tr>\n",
       "  </tbody>\n",
       "</table>\n",
       "<p>5 rows × 21 columns</p>\n",
       "</div>"
      ],
      "text/plain": [
       "   age        job  marital    education  default housing loan    contact  \\\n",
       "0   56  housemaid  married     basic.4y       no      no   no  telephone   \n",
       "1   57   services  married  high.school  unknown      no   no  telephone   \n",
       "2   37   services  married  high.school       no     yes   no  telephone   \n",
       "3   40     admin.  married     basic.6y       no      no   no  telephone   \n",
       "4   56   services  married  high.school       no      no  yes  telephone   \n",
       "\n",
       "  month day_of_week ...  campaign  pdays  previous     poutcome emp.var.rate  \\\n",
       "0   may         mon ...         1    999         0  nonexistent          1.1   \n",
       "1   may         mon ...         1    999         0  nonexistent          1.1   \n",
       "2   may         mon ...         1    999         0  nonexistent          1.1   \n",
       "3   may         mon ...         1    999         0  nonexistent          1.1   \n",
       "4   may         mon ...         1    999         0  nonexistent          1.1   \n",
       "\n",
       "   cons.price.idx  cons.conf.idx  euribor3m  nr.employed   y  \n",
       "0          93.994          -36.4      4.857       5191.0  no  \n",
       "1          93.994          -36.4      4.857       5191.0  no  \n",
       "2          93.994          -36.4      4.857       5191.0  no  \n",
       "3          93.994          -36.4      4.857       5191.0  no  \n",
       "4          93.994          -36.4      4.857       5191.0  no  \n",
       "\n",
       "[5 rows x 21 columns]"
      ]
     },
     "execution_count": 4,
     "metadata": {},
     "output_type": "execute_result"
    }
   ],
   "source": [
    "bank = pd.read_csv('Desktop/Data Science - Springboard/Capstone Project - 1/portuguese_bank_project/bank-additional-full.csv', sep=';')\n",
    "bank.head()"
   ]
  },
  {
   "cell_type": "markdown",
   "metadata": {},
   "source": [
    "### Analyzing data types"
   ]
  },
  {
   "cell_type": "code",
   "execution_count": 5,
   "metadata": {},
   "outputs": [
    {
     "name": "stdout",
     "output_type": "stream",
     "text": [
      "<class 'pandas.core.frame.DataFrame'>\n",
      "RangeIndex: 41188 entries, 0 to 41187\n",
      "Data columns (total 21 columns):\n",
      "age               41188 non-null int64\n",
      "job               41188 non-null object\n",
      "marital           41188 non-null object\n",
      "education         41188 non-null object\n",
      "default           41188 non-null object\n",
      "housing           41188 non-null object\n",
      "loan              41188 non-null object\n",
      "contact           41188 non-null object\n",
      "month             41188 non-null object\n",
      "day_of_week       41188 non-null object\n",
      "duration          41188 non-null int64\n",
      "campaign          41188 non-null int64\n",
      "pdays             41188 non-null int64\n",
      "previous          41188 non-null int64\n",
      "poutcome          41188 non-null object\n",
      "emp.var.rate      41188 non-null float64\n",
      "cons.price.idx    41188 non-null float64\n",
      "cons.conf.idx     41188 non-null float64\n",
      "euribor3m         41188 non-null float64\n",
      "nr.employed       41188 non-null float64\n",
      "y                 41188 non-null object\n",
      "dtypes: float64(5), int64(5), object(11)\n",
      "memory usage: 6.6+ MB\n"
     ]
    }
   ],
   "source": [
    "bank.info()"
   ]
  },
  {
   "cell_type": "markdown",
   "metadata": {},
   "source": [
    "### Convert data types for easier data manipulation\n",
    "1. Convert all the numeric columns to integers\n",
    "2. Convert string columns into categorical columns"
   ]
  },
  {
   "cell_type": "code",
   "execution_count": 6,
   "metadata": {},
   "outputs": [],
   "source": [
    "bank_int = bank[['age','campaign', 'pdays', 'emp.var.rate', 'cons.price.idx', 'cons.conf.idx', 'euribor3m', 'nr.employed']]\n",
    "\n",
    "for i in bank_int:\n",
    "    bank[i] = pd.to_numeric(bank[i])"
   ]
  },
  {
   "cell_type": "code",
   "execution_count": 84,
   "metadata": {},
   "outputs": [],
   "source": [
    "bank_category = bank[['job', 'marital', 'education', 'contact', 'month', 'day_of_week']]\n",
    "\n",
    "for i in bank_category:\n",
    "    bank[i] = bank_category[i].astype('category')"
   ]
  },
  {
   "cell_type": "markdown",
   "metadata": {},
   "source": [
    "### Functions and data samples used in the project\n",
    "- Two functions were created to facilitate the exploration analysis.\n",
    "    1. percentage() - It's a function to get the percentage of a value in a data sample against the \n",
    "        value in the dataset. \n",
    "    2. boxplot_stats() - This function will print a short stats summary from a boxplot: lower and \n",
    "        upper quartile and median values.\n",
    "- Two data samples were created to distinguish the binary output in the dependent variable:\n",
    "    - bank_y - It's a data sample containing only those who have subscribed to the program.\n",
    "    - bank_n - It's a data sample containging only those who didn't subscribed to the program."
   ]
  },
  {
   "cell_type": "code",
   "execution_count": 8,
   "metadata": {},
   "outputs": [],
   "source": [
    "# Functions\n",
    "def percentage(df, column, df_1):\n",
    "    # The goal of this function is to get the percentage of a value in a data sample against the value in the whole\n",
    "    # data set.\n",
    "    # This will be done by calculating the value counts in a population sample divided by the value counts\n",
    "    # in the population.\n",
    "    \n",
    "    return df[column].value_counts() / df_1[column].value_counts() * 100\n",
    "\n",
    "def boxplot_stats(type_subscribed, df, column):\n",
    "    # Print boxplot stats - lower and upper quartile, and median values.\n",
    "    \n",
    "    print('{} Boxplot stats: \\n'.format(type_subscribed))\n",
    "    print('Median - {}'.format(df[column].median()))\n",
    "    print('Lower Quartile - {}'.format(df[column].quantile(0.25)))\n",
    "    print('Upper Quartile - {}'.format(df[column].quantile(0.75)))\n",
    "    \n",
    "# Data samples\n",
    "bank_y = bank[bank.y == 'yes']  # Subscribed to the campaign\n",
    "bank_n = bank[bank.y == 'no']   # Didn't subscribe to the campaign    \n"
   ]
  },
  {
   "cell_type": "markdown",
   "metadata": {},
   "source": [
    "## ***Exploring Bank Services Variables*** "
   ]
  },
  {
   "cell_type": "markdown",
   "metadata": {},
   "source": [
    "### Clients who have defaulted in a loan over subscribing:\n",
    "- Default Loan - Most of the people that subscribed to the program have not defaulted \n",
    "    on their loan. "
   ]
  },
  {
   "cell_type": "code",
   "execution_count": 9,
   "metadata": {},
   "outputs": [
    {
     "data": {
      "text/plain": [
       "no         4197\n",
       "unknown     443\n",
       "Name: default, dtype: int64"
      ]
     },
     "execution_count": 9,
     "metadata": {},
     "output_type": "execute_result"
    }
   ],
   "source": [
    "bank_y['default'].value_counts()"
   ]
  },
  {
   "cell_type": "code",
   "execution_count": 10,
   "metadata": {},
   "outputs": [
    {
     "data": {
      "text/plain": [
       "no         12.878974\n",
       "unknown     5.152960\n",
       "yes              NaN\n",
       "Name: default, dtype: float64"
      ]
     },
     "execution_count": 10,
     "metadata": {},
     "output_type": "execute_result"
    }
   ],
   "source": [
    "percentage(bank_y, 'default', bank)"
   ]
  },
  {
   "cell_type": "markdown",
   "metadata": {},
   "source": [
    "### Clients who have a housing loan over subscribing\n",
    "- Housing Loan - The amount of people that have or dont have a housing loan and participated are very similar.\n",
    "    Therefore, no correlation that having housing loan makes someone more likely to subscribed."
   ]
  },
  {
   "cell_type": "code",
   "execution_count": 11,
   "metadata": {},
   "outputs": [
    {
     "data": {
      "text/plain": [
       "yes        2507\n",
       "no         2026\n",
       "unknown     107\n",
       "Name: housing, dtype: int64"
      ]
     },
     "execution_count": 11,
     "metadata": {},
     "output_type": "execute_result"
    }
   ],
   "source": [
    "bank_y['housing'].value_counts()"
   ]
  },
  {
   "cell_type": "code",
   "execution_count": 12,
   "metadata": {},
   "outputs": [
    {
     "data": {
      "text/plain": [
       "yes        11.619392\n",
       "no         10.879605\n",
       "unknown    10.808081\n",
       "Name: housing, dtype: float64"
      ]
     },
     "execution_count": 12,
     "metadata": {},
     "output_type": "execute_result"
    }
   ],
   "source": [
    "percentage(bank_y, 'housing', bank)"
   ]
  },
  {
   "cell_type": "markdown",
   "metadata": {},
   "source": [
    "### Clients who have a loan over subscribing\n",
    "- Most people that have subscribed to the program have a loan with the bank.\n",
    "    - However, the population percentage is not that great."
   ]
  },
  {
   "cell_type": "code",
   "execution_count": 13,
   "metadata": {},
   "outputs": [
    {
     "data": {
      "text/plain": [
       "no         3850\n",
       "yes         683\n",
       "unknown     107\n",
       "Name: loan, dtype: int64"
      ]
     },
     "execution_count": 13,
     "metadata": {},
     "output_type": "execute_result"
    }
   ],
   "source": [
    "bank_y['loan'].value_counts()"
   ]
  },
  {
   "cell_type": "code",
   "execution_count": 14,
   "metadata": {},
   "outputs": [
    {
     "data": {
      "text/plain": [
       "no         11.340206\n",
       "yes        10.931498\n",
       "unknown    10.808081\n",
       "Name: loan, dtype: float64"
      ]
     },
     "execution_count": 14,
     "metadata": {},
     "output_type": "execute_result"
    }
   ],
   "source": [
    "percentage(bank_y, 'loan', bank)"
   ]
  },
  {
   "cell_type": "markdown",
   "metadata": {},
   "source": [
    "## ***Exploring categorical variables***\n"
   ]
  },
  {
   "cell_type": "markdown",
   "metadata": {},
   "source": [
    "### Job category over subscribing\n",
    "- Most people that have subscribed to the program have an admin job. \n",
    "- However, an interesting finding is that the job categories that are most likely to subscribe to the program\n",
    "    are student, retired and unemployed. Thus, this data shows that there might be a correlation with those that \n",
    "    are not working with subscribing to the program."
   ]
  },
  {
   "cell_type": "code",
   "execution_count": 15,
   "metadata": {},
   "outputs": [
    {
     "data": {
      "text/plain": [
       "admin.           1352\n",
       "technician        730\n",
       "blue-collar       638\n",
       "retired           434\n",
       "management        328\n",
       "services          323\n",
       "student           275\n",
       "self-employed     149\n",
       "unemployed        144\n",
       "entrepreneur      124\n",
       "housemaid         106\n",
       "unknown            37\n",
       "Name: job, dtype: int64"
      ]
     },
     "execution_count": 15,
     "metadata": {},
     "output_type": "execute_result"
    }
   ],
   "source": [
    "bank_y.job.value_counts()"
   ]
  },
  {
   "cell_type": "code",
   "execution_count": 16,
   "metadata": {},
   "outputs": [
    {
     "data": {
      "text/plain": [
       "student          31.428571\n",
       "retired          25.232558\n",
       "unemployed       14.201183\n",
       "admin.           12.972558\n",
       "management       11.217510\n",
       "unknown          11.212121\n",
       "technician       10.826042\n",
       "self-employed    10.485574\n",
       "housemaid        10.000000\n",
       "entrepreneur      8.516484\n",
       "services          8.138070\n",
       "blue-collar       6.894316\n",
       "Name: job, dtype: float64"
      ]
     },
     "execution_count": 16,
     "metadata": {},
     "output_type": "execute_result"
    }
   ],
   "source": [
    "pct_job = percentage(bank_y, 'job', bank).sort_values(ascending=False)\n",
    "pct_job"
   ]
  },
  {
   "cell_type": "code",
   "execution_count": 79,
   "metadata": {},
   "outputs": [
    {
     "data": {
      "image/png": "[encoded data removed]",
      "text/plain": [
       "<Figure size 432x288 with 1 Axes>"
      ]
     },
     "metadata": {
      "needs_background": "light"
     },
     "output_type": "display_data"
    }
   ],
   "source": [
    "plt.barh(pct_job.index, pct_job.values)\n",
    "plt.xlabel('Success Percentage For Each Job Category')\n",
    "plt.ylabel('Job Categories')\n",
    "plt.title('Job Category Over Subscribing')\n",
    "plt.gca().invert_yaxis()\n",
    "plt.show()"
   ]
  },
  {
   "cell_type": "markdown",
   "metadata": {},
   "source": [
    "### Level of education over subscribing\n",
    "- Most people that subscribed have a university degree.\n",
    "- However, when comparing against the whole data set, Illiterate has the highest subscribing percentage, \n",
    "    with 22% subscribing to the program. While university degree has a 13% subscription rate. "
   ]
  },
  {
   "cell_type": "code",
   "execution_count": 18,
   "metadata": {},
   "outputs": [
    {
     "data": {
      "text/plain": [
       "university.degree      1670\n",
       "high.school            1031\n",
       "professional.course     595\n",
       "basic.9y                473\n",
       "basic.4y                428\n",
       "unknown                 251\n",
       "basic.6y                188\n",
       "illiterate                4\n",
       "Name: education, dtype: int64"
      ]
     },
     "execution_count": 18,
     "metadata": {},
     "output_type": "execute_result"
    }
   ],
   "source": [
    "bank_y.education.value_counts()"
   ]
  },
  {
   "cell_type": "code",
   "execution_count": 19,
   "metadata": {},
   "outputs": [
    {
     "data": {
      "text/plain": [
       "basic.4y               10.249042\n",
       "basic.6y                8.202443\n",
       "basic.9y                7.824648\n",
       "high.school            10.835523\n",
       "illiterate             22.222222\n",
       "professional.course    11.348465\n",
       "university.degree      13.724523\n",
       "unknown                14.500289\n",
       "Name: education, dtype: float64"
      ]
     },
     "execution_count": 19,
     "metadata": {},
     "output_type": "execute_result"
    }
   ],
   "source": [
    "percentage(bank_y, 'education', bank)"
   ]
  },
  {
   "cell_type": "markdown",
   "metadata": {},
   "source": [
    "### Type of contact over subscribing\n",
    "- 83% of the subscription were obtained by calling to client's cellular phones\n",
    "    - Calls to cellular have a total subscription rate of 14% while telephone has only 5%. "
   ]
  },
  {
   "cell_type": "code",
   "execution_count": 20,
   "metadata": {},
   "outputs": [
    {
     "data": {
      "text/plain": [
       "cellular     3853\n",
       "telephone     787\n",
       "Name: contact, dtype: int64"
      ]
     },
     "execution_count": 20,
     "metadata": {},
     "output_type": "execute_result"
    }
   ],
   "source": [
    "bank_y.contact.value_counts()"
   ]
  },
  {
   "cell_type": "code",
   "execution_count": 21,
   "metadata": {},
   "outputs": [
    {
     "data": {
      "text/plain": [
       "cellular     83.038793\n",
       "telephone    16.961207\n",
       "Name: contact, dtype: float64"
      ]
     },
     "execution_count": 21,
     "metadata": {},
     "output_type": "execute_result"
    }
   ],
   "source": [
    "bank_y.contact.value_counts(normalize=True) * 100"
   ]
  },
  {
   "cell_type": "code",
   "execution_count": 22,
   "metadata": {},
   "outputs": [
    {
     "data": {
      "text/plain": [
       "cellular     14.737607\n",
       "telephone     5.231321\n",
       "Name: contact, dtype: float64"
      ]
     },
     "execution_count": 22,
     "metadata": {},
     "output_type": "execute_result"
    }
   ],
   "source": [
    "percentage(bank_y, 'contact', bank)"
   ]
  },
  {
   "cell_type": "markdown",
   "metadata": {},
   "source": [
    "### Month of the year over subscribing\n",
    "- May was the month with the most subscription, however it was also the month with the lowest subscription \n",
    "    rate, with only 6% subscribing.\n",
    "- The months with the best subscription rate were March, September, October and December. These months \n",
    "    had a success rate of near 50%!"
   ]
  },
  {
   "cell_type": "code",
   "execution_count": 23,
   "metadata": {},
   "outputs": [
    {
     "data": {
      "text/plain": [
       "may    886\n",
       "aug    655\n",
       "jul    649\n",
       "jun    559\n",
       "apr    539\n",
       "nov    416\n",
       "oct    315\n",
       "mar    276\n",
       "sep    256\n",
       "dec     89\n",
       "Name: month, dtype: int64"
      ]
     },
     "execution_count": 23,
     "metadata": {},
     "output_type": "execute_result"
    }
   ],
   "source": [
    "bank_y.month.value_counts()"
   ]
  },
  {
   "cell_type": "code",
   "execution_count": 24,
   "metadata": {},
   "outputs": [
    {
     "data": {
      "text/plain": [
       "may    19.094828\n",
       "aug    14.116379\n",
       "jul    13.987069\n",
       "jun    12.047414\n",
       "apr    11.616379\n",
       "nov     8.965517\n",
       "oct     6.788793\n",
       "mar     5.948276\n",
       "sep     5.517241\n",
       "dec     1.918103\n",
       "Name: month, dtype: float64"
      ]
     },
     "execution_count": 24,
     "metadata": {},
     "output_type": "execute_result"
    }
   ],
   "source": [
    "bank_y.month.value_counts(normalize=True) * 100"
   ]
  },
  {
   "cell_type": "code",
   "execution_count": 82,
   "metadata": {},
   "outputs": [
    {
     "data": {
      "text/plain": [
       "mar    50.549451\n",
       "dec    48.901099\n",
       "sep    44.912281\n",
       "oct    43.871866\n",
       "apr    20.478723\n",
       "aug    10.602137\n",
       "jun    10.511470\n",
       "nov    10.143867\n",
       "jul     9.046557\n",
       "may     6.434745\n",
       "Name: month, dtype: float64"
      ]
     },
     "execution_count": 82,
     "metadata": {},
     "output_type": "execute_result"
    }
   ],
   "source": [
    "pct_month = percentage(bank_y, 'month', bank).sort_values(ascending=False)\n",
    "pct_month"
   ]
  },
  {
   "cell_type": "code",
   "execution_count": 80,
   "metadata": {},
   "outputs": [
    {
     "data": {
      "image/png": "[encoded data removed]",
      "text/plain": [
       "<Figure size 432x288 with 1 Axes>"
      ]
     },
     "metadata": {
      "needs_background": "light"
     },
     "output_type": "display_data"
    }
   ],
   "source": [
    "plt.bar(pct_month.index, pct_month.values)\n",
    "plt.title('Subscribed - Best Months Percentage ')\n",
    "plt.ylabel('Percentage of Subscribers')\n",
    "plt.xlabel('Months')\n",
    "plt.show()"
   ]
  },
  {
   "cell_type": "markdown",
   "metadata": {},
   "source": [
    "### Day of the week over subscribing\n",
    "- The data for the day of the week is well distributed, not showing any significant impact on subscription."
   ]
  },
  {
   "cell_type": "code",
   "execution_count": 26,
   "metadata": {},
   "outputs": [
    {
     "data": {
      "text/plain": [
       "thu    1045\n",
       "tue     953\n",
       "wed     949\n",
       "mon     847\n",
       "fri     846\n",
       "Name: day_of_week, dtype: int64"
      ]
     },
     "execution_count": 26,
     "metadata": {},
     "output_type": "execute_result"
    }
   ],
   "source": [
    "bank_y.day_of_week.value_counts()"
   ]
  },
  {
   "cell_type": "code",
   "execution_count": 27,
   "metadata": {},
   "outputs": [
    {
     "data": {
      "text/plain": [
       "fri    10.808739\n",
       "mon     9.948320\n",
       "thu    12.118752\n",
       "tue    11.779975\n",
       "wed    11.667076\n",
       "Name: day_of_week, dtype: float64"
      ]
     },
     "execution_count": 27,
     "metadata": {},
     "output_type": "execute_result"
    }
   ],
   "source": [
    "percentage(bank_y, 'day_of_week', bank)"
   ]
  },
  {
   "cell_type": "markdown",
   "metadata": {},
   "source": [
    "## ***Exploring Numeric variables***"
   ]
  },
  {
   "cell_type": "markdown",
   "metadata": {},
   "source": [
    "### Client's age over subscribing\n",
    "- Most subscribers are around 30 years old. \n",
    "- However, when comparing the subscribed data sample with the dataset, age doesn't seem to have a \n",
    "    significant impact."
   ]
  },
  {
   "cell_type": "code",
   "execution_count": 28,
   "metadata": {},
   "outputs": [],
   "source": [
    "age_y = bank_y.age.value_counts()\n",
    "age_y = age_y.sort_index()"
   ]
  },
  {
   "cell_type": "code",
   "execution_count": 29,
   "metadata": {},
   "outputs": [
    {
     "data": {
      "image/png": "[encoded data removed]",
      "text/plain": [
       "<Figure size 432x288 with 1 Axes>"
      ]
     },
     "metadata": {
      "needs_background": "light"
     },
     "output_type": "display_data"
    }
   ],
   "source": [
    "plt.scatter(age_y.index, age_y.values)\n",
    "plt.title('Subscribed People\\'s Age')\n",
    "plt.ylabel('Total Amount of People')\n",
    "plt.xlabel('Age')\n",
    "plt.show()"
   ]
  },
  {
   "cell_type": "code",
   "execution_count": 30,
   "metadata": {},
   "outputs": [
    {
     "data": {
      "image/png": "[encoded data removed]",
      "text/plain": [
       "<Figure size 432x288 with 1 Axes>"
      ]
     },
     "metadata": {
      "needs_background": "light"
     },
     "output_type": "display_data"
    }
   ],
   "source": [
    "age_bank_comp = [bank_y.age, bank_n.age]\n",
    "plt.boxplot(age_bank_comp)\n",
    "plt.title('Population Age')\n",
    "plt.xticks([1,2], ['Subscribed', 'Didn\\'t Subscribe'])\n",
    "plt.ylabel('Age')\n",
    "plt.show()"
   ]
  },
  {
   "cell_type": "code",
   "execution_count": 31,
   "metadata": {},
   "outputs": [
    {
     "name": "stdout",
     "output_type": "stream",
     "text": [
      "Subscribed Boxplot stats: \n",
      "\n",
      "Median - 37.0\n",
      "Lower Quartile - 31.0\n",
      "Upper Quartile - 50.0\n"
     ]
    }
   ],
   "source": [
    "boxplot_stats('Subscribed', bank_y, 'age')"
   ]
  },
  {
   "cell_type": "code",
   "execution_count": 32,
   "metadata": {},
   "outputs": [
    {
     "name": "stdout",
     "output_type": "stream",
     "text": [
      "Didn't Subscribed Boxplot stats: \n",
      "\n",
      "Median - 38.0\n",
      "Lower Quartile - 32.0\n",
      "Upper Quartile - 47.0\n"
     ]
    }
   ],
   "source": [
    "boxplot_stats('Didn\\'t Subscribed', bank_n, 'age')"
   ]
  },
  {
   "cell_type": "markdown",
   "metadata": {},
   "source": [
    "#### Call duration over subscribing\n",
    "- There seems to be a high correlation with longer calls and of client subscribing. \n",
    "- The median duration of calls in the subscribed data sample is of 449 seconds, while the median in the \n",
    "    dataset is only 163, which is the less than the lower quartile of subscribed data sample."
   ]
  },
  {
   "cell_type": "code",
   "execution_count": 33,
   "metadata": {},
   "outputs": [
    {
     "data": {
      "image/png": "[encoded data removed]",
      "text/plain": [
       "<Figure size 432x288 with 1 Axes>"
      ]
     },
     "metadata": {
      "needs_background": "light"
     },
     "output_type": "display_data"
    }
   ],
   "source": [
    "duration_comp = [bank_y.duration, bank_n.duration]\n",
    "plt.boxplot(duration_comp)\n",
    "plt.title('Call Duration')\n",
    "plt.xticks([1,2], ['Subscribed', 'Didn\\'t Subscribe'])\n",
    "plt.ylabel('Duration in seconds')\n",
    "plt.show()"
   ]
  },
  {
   "cell_type": "code",
   "execution_count": 34,
   "metadata": {},
   "outputs": [
    {
     "name": "stdout",
     "output_type": "stream",
     "text": [
      "Subscribed Boxplot stats: \n",
      "\n",
      "Median - 449.0\n",
      "Lower Quartile - 253.0\n",
      "Upper Quartile - 741.25\n"
     ]
    }
   ],
   "source": [
    "boxplot_stats('Subscribed', bank_y, 'duration')"
   ]
  },
  {
   "cell_type": "code",
   "execution_count": 35,
   "metadata": {},
   "outputs": [
    {
     "name": "stdout",
     "output_type": "stream",
     "text": [
      "Didn't Subscribe Boxplot stats: \n",
      "\n",
      "Median - 163.5\n",
      "Lower Quartile - 95.0\n",
      "Upper Quartile - 279.0\n"
     ]
    }
   ],
   "source": [
    "boxplot_stats('Didn\\'t Subscribe', bank_n, 'duration')"
   ]
  },
  {
   "cell_type": "markdown",
   "metadata": {},
   "source": [
    "### Number of calls over subscribing\n",
    "- Most clients subscribed with less than 2 calls. \n",
    "    - With the scatterplot we can see that the amount of subscribers decline significantly when more \n",
    "        than 2 calls were made."
   ]
  },
  {
   "cell_type": "code",
   "execution_count": 36,
   "metadata": {},
   "outputs": [
    {
     "data": {
      "image/png": "[encoded data removed]",
      "text/plain": [
       "<Figure size 432x288 with 2 Axes>"
      ]
     },
     "metadata": {
      "needs_background": "light"
     },
     "output_type": "display_data"
    }
   ],
   "source": [
    "plt.subplot(1,2,1)\n",
    "plt.boxplot(bank_y.campaign)\n",
    "plt.title('Number of Calls')\n",
    "plt.xticks([1], ['Subscribed'])\n",
    "plt.ylabel('Total Calls')\n",
    "plt.subplot(1,2,2)\n",
    "plt.boxplot(bank_n.campaign[bank_n.campaign < 30])\n",
    "plt.xticks([1], ['Didn\\'t Subscribe'])\n",
    "plt.title('Number of Calls')\n",
    "plt.show()\n",
    "\n"
   ]
  },
  {
   "cell_type": "code",
   "execution_count": 37,
   "metadata": {},
   "outputs": [
    {
     "name": "stdout",
     "output_type": "stream",
     "text": [
      "Subscribed Boxplot stats: \n",
      "\n",
      "Median - 2.0\n",
      "Lower Quartile - 1.0\n",
      "Upper Quartile - 2.0\n"
     ]
    }
   ],
   "source": [
    "boxplot_stats('Subscribed', bank_y, 'campaign')"
   ]
  },
  {
   "cell_type": "code",
   "execution_count": 38,
   "metadata": {},
   "outputs": [
    {
     "name": "stdout",
     "output_type": "stream",
     "text": [
      "Didn't Subscribe Boxplot stats: \n",
      "\n",
      "Median - 2.0\n",
      "Lower Quartile - 1.0\n",
      "Upper Quartile - 3.0\n"
     ]
    }
   ],
   "source": [
    "boxplot_stats('Didn\\'t Subscribe', bank_n, 'campaign')"
   ]
  },
  {
   "cell_type": "code",
   "execution_count": 39,
   "metadata": {},
   "outputs": [
    {
     "data": {
      "image/png": "[encoded data removed]",
      "text/plain": [
       "<Figure size 432x288 with 1 Axes>"
      ]
     },
     "metadata": {
      "needs_background": "light"
     },
     "output_type": "display_data"
    }
   ],
   "source": [
    "number_contacts = bank_y.campaign.value_counts()\n",
    "\n",
    "plt.scatter(number_contacts.index, number_contacts.values)\n",
    "plt.title('Subscribed & Number of Calls')\n",
    "plt.xlabel('Number of Calls')\n",
    "plt.ylabel('Total Amount')\n",
    "plt.show()"
   ]
  },
  {
   "cell_type": "markdown",
   "metadata": {},
   "source": [
    "### Number of days passed by after client was last contact over subscribing\n",
    "- Most of the clients who have signed up were not contacted previously.\n",
    "    - 999 means that they were not contacted previously by the bank.\n",
    "- If the client hasn't been contacted by the bank previously, the ideal time to contact a client is after 3-6 \n",
    "    from the last campaign.\n",
    "    - Contacting a lead 1 day after the last contact, seems to decrease the chance of subscribing"
   ]
  },
  {
   "cell_type": "code",
   "execution_count": 40,
   "metadata": {},
   "outputs": [
    {
     "data": {
      "text/plain": [
       "999    3673\n",
       "3       298\n",
       "6       289\n",
       "4        63\n",
       "7        40\n",
       "2        37\n",
       "9        35\n",
       "10       30\n",
       "5        29\n",
       "13       28\n",
       "Name: pdays, dtype: int64"
      ]
     },
     "execution_count": 40,
     "metadata": {},
     "output_type": "execute_result"
    }
   ],
   "source": [
    "bank_y.pdays.value_counts().head(10)"
   ]
  },
  {
   "cell_type": "code",
   "execution_count": 70,
   "metadata": {},
   "outputs": [
    {
     "data": {
      "text/plain": [
       "999    79.159483\n",
       "3       6.422414\n",
       "6       6.228448\n",
       "4       1.357759\n",
       "7       0.862069\n",
       "2       0.797414\n",
       "9       0.754310\n",
       "10      0.646552\n",
       "5       0.625000\n",
       "13      0.603448\n",
       "Name: pdays, dtype: float64"
      ]
     },
     "execution_count": 70,
     "metadata": {},
     "output_type": "execute_result"
    }
   ],
   "source": [
    "bank_y.pdays.value_counts(normalize=True).head(10)*100"
   ]
  },
  {
   "cell_type": "code",
   "execution_count": 41,
   "metadata": {},
   "outputs": [
    {
     "data": {
      "image/png": "[encoded data removed]",
      "text/plain": [
       "<Figure size 432x288 with 1 Axes>"
      ]
     },
     "metadata": {
      "needs_background": "light"
     },
     "output_type": "display_data"
    }
   ],
   "source": [
    "pdays_comp = [bank_y.pdays[bank_y.pdays != 999], bank_n.pdays[bank_n.pdays != 999]]\n",
    "plt.boxplot(pdays_comp)\n",
    "plt.title('Days Passed After Last Campaign')\n",
    "plt.xticks([1,2], ['Subscribed', 'Didn\\'t Subscribe'])\n",
    "plt.ylabel('Days Passed By')\n",
    "plt.show()"
   ]
  },
  {
   "cell_type": "code",
   "execution_count": 42,
   "metadata": {},
   "outputs": [
    {
     "name": "stdout",
     "output_type": "stream",
     "text": [
      "Subscribed Boxplot stats: \n",
      "\n",
      "Median - 6.0\n",
      "Lower Quartile - 3.0\n",
      "Upper Quartile - 6.0\n"
     ]
    }
   ],
   "source": [
    "boxplot_stats('Subscribed', bank_y.pdays, bank_y.pdays != 999)"
   ]
  },
  {
   "cell_type": "code",
   "execution_count": 43,
   "metadata": {},
   "outputs": [
    {
     "name": "stdout",
     "output_type": "stream",
     "text": [
      "Didn't Subscribe Boxplot stats: \n",
      "\n",
      "Median - 6.0\n",
      "Lower Quartile - 3.0\n",
      "Upper Quartile - 9.0\n"
     ]
    }
   ],
   "source": [
    "boxplot_stats('Didn\\'t Subscribe', bank_n.pdays, bank_n.pdays != 999)"
   ]
  },
  {
   "cell_type": "markdown",
   "metadata": {},
   "source": [
    "### If client has previously subscribed to a campaign over subscribing (current campaign)\n",
    "- Most of the signups came from those who were not offered anything previously.\n",
    "- 65% of the clients that have previously subscribed to a campaign have enrolled in the current campaign."
   ]
  },
  {
   "cell_type": "code",
   "execution_count": 44,
   "metadata": {},
   "outputs": [
    {
     "data": {
      "text/plain": [
       "nonexistent    3141\n",
       "success         894\n",
       "failure         605\n",
       "Name: poutcome, dtype: int64"
      ]
     },
     "execution_count": 44,
     "metadata": {},
     "output_type": "execute_result"
    }
   ],
   "source": [
    "bank_y.poutcome.value_counts()"
   ]
  },
  {
   "cell_type": "code",
   "execution_count": 45,
   "metadata": {},
   "outputs": [
    {
     "data": {
      "text/plain": [
       "failure        14.228598\n",
       "nonexistent     8.832213\n",
       "success        65.112891\n",
       "Name: poutcome, dtype: float64"
      ]
     },
     "execution_count": 45,
     "metadata": {},
     "output_type": "execute_result"
    }
   ],
   "source": [
    "percentage(bank_y, 'poutcome', bank)"
   ]
  },
  {
   "cell_type": "markdown",
   "metadata": {},
   "source": [
    "## ***Exploring Economic Indicator variables***"
   ]
  },
  {
   "cell_type": "markdown",
   "metadata": {},
   "source": [
    "### Employment variation rate (Quaterly Indicator) over subscribing\n",
    "- The lower the employment variation rate the more subscribers. "
   ]
  },
  {
   "cell_type": "code",
   "execution_count": 88,
   "metadata": {},
   "outputs": [
    {
     "data": {
      "image/png": "[encoded data removed]",
      "text/plain": [
       "<Figure size 432x288 with 1 Axes>"
      ]
     },
     "metadata": {
      "needs_background": "light"
     },
     "output_type": "display_data"
    }
   ],
   "source": [
    "pct_employment = percentage(bank_y, 'emp.var.rate', bank)\n",
    "\n",
    "plt.scatter(pct_employment.values,pct_employment.index)\n",
    "plt.title('Employment Variation Impact on Subscription')\n",
    "plt.ylabel('Employment Variation Rate')\n",
    "plt.xlabel('Amount of Subscribers')\n",
    "plt.show()"
   ]
  },
  {
   "cell_type": "code",
   "execution_count": 47,
   "metadata": {},
   "outputs": [
    {
     "data": {
      "image/png": "[encoded data removed]",
      "text/plain": [
       "<Figure size 432x288 with 1 Axes>"
      ]
     },
     "metadata": {
      "needs_background": "light"
     },
     "output_type": "display_data"
    }
   ],
   "source": [
    "emp_var_comp = [bank_y['emp.var.rate'], bank_n['emp.var.rate']]\n",
    "plt.boxplot(emp_var_comp)\n",
    "plt.title('Employment Variation Rate')\n",
    "plt.xticks([1,2], ['Subscribed', 'Didn\\'t Subscribe'])\n",
    "plt.ylabel('Employment Variation Rate')\n",
    "plt.show()"
   ]
  },
  {
   "cell_type": "code",
   "execution_count": 48,
   "metadata": {},
   "outputs": [
    {
     "name": "stdout",
     "output_type": "stream",
     "text": [
      "Subscribed Boxplot stats: \n",
      "\n",
      "Median - -1.8\n",
      "Lower Quartile - -1.8\n",
      "Upper Quartile - -0.1\n"
     ]
    }
   ],
   "source": [
    "boxplot_stats('Subscribed', bank_y, 'emp.var.rate')"
   ]
  },
  {
   "cell_type": "code",
   "execution_count": 49,
   "metadata": {},
   "outputs": [
    {
     "name": "stdout",
     "output_type": "stream",
     "text": [
      "Didn't Subscribe Boxplot stats: \n",
      "\n",
      "Median - 1.1\n",
      "Lower Quartile - -1.8\n",
      "Upper Quartile - 1.4\n"
     ]
    }
   ],
   "source": [
    "boxplot_stats('Didn\\'t Subscribe', bank_n, 'emp.var.rate')"
   ]
  },
  {
   "cell_type": "markdown",
   "metadata": {},
   "source": [
    "### Consumer price index (Monthly Indicator) over subscribing\n",
    "- There seems to be a small correlation with lower Consumer Price Index and subscribing"
   ]
  },
  {
   "cell_type": "code",
   "execution_count": 50,
   "metadata": {},
   "outputs": [
    {
     "data": {
      "text/plain": [
       "92.201    264\n",
       "92.379    106\n",
       "92.431    180\n",
       "92.469     66\n",
       "92.649    168\n",
       "Name: cons.price.idx, dtype: int64"
      ]
     },
     "execution_count": 50,
     "metadata": {},
     "output_type": "execute_result"
    }
   ],
   "source": [
    "consumer_idx = bank_y['cons.price.idx'].value_counts().sort_index()\n",
    "consumer_idx.head()"
   ]
  },
  {
   "cell_type": "code",
   "execution_count": 51,
   "metadata": {},
   "outputs": [
    {
     "data": {
      "image/png": "[encoded data removed]",
      "text/plain": [
       "<Figure size 432x288 with 1 Axes>"
      ]
     },
     "metadata": {
      "needs_background": "light"
     },
     "output_type": "display_data"
    }
   ],
   "source": [
    "consumer_idx = [bank_y['cons.price.idx'], bank_n['cons.price.idx']]\n",
    "plt.boxplot(consumer_idx)\n",
    "plt.title('Consumer Price Index Impact on Subscription')\n",
    "plt.xticks([1,2], ['Subscribed', 'Didn\\'t Subscribe'])\n",
    "plt.ylabel('Consumer Price Index')\n",
    "plt.show()"
   ]
  },
  {
   "cell_type": "code",
   "execution_count": 52,
   "metadata": {},
   "outputs": [
    {
     "name": "stdout",
     "output_type": "stream",
     "text": [
      "Subscribed Boxplot stats: \n",
      "\n",
      "Median - 93.2\n",
      "Lower Quartile - 92.89299999999999\n",
      "Upper Quartile - 93.91799999999999\n"
     ]
    }
   ],
   "source": [
    "boxplot_stats('Subscribed', bank_y, 'cons.price.idx')"
   ]
  },
  {
   "cell_type": "code",
   "execution_count": 53,
   "metadata": {},
   "outputs": [
    {
     "name": "stdout",
     "output_type": "stream",
     "text": [
      "Didn't Subscribe Boxplot stats: \n",
      "\n",
      "Median - 93.91799999999999\n",
      "Lower Quartile - 93.075\n",
      "Upper Quartile - 93.994\n"
     ]
    }
   ],
   "source": [
    "boxplot_stats('Didn\\'t Subscribe', bank_n, 'cons.price.idx')"
   ]
  },
  {
   "cell_type": "markdown",
   "metadata": {},
   "source": [
    "### Consumer confidence index (Monthly Indicator) over subscribing"
   ]
  },
  {
   "cell_type": "code",
   "execution_count": 73,
   "metadata": {
    "scrolled": true
   },
   "outputs": [
    {
     "data": {
      "text/plain": [
       "-50.8    45.312500\n",
       "-50.0    44.680851\n",
       "-49.5    45.588235\n",
       "-47.1    17.982099\n",
       "-46.2     9.043838\n",
       "Name: cons.conf.idx, dtype: float64"
      ]
     },
     "execution_count": 73,
     "metadata": {},
     "output_type": "execute_result"
    }
   ],
   "source": [
    "percentage(bank_y, 'cons.conf.idx', bank).head()"
   ]
  },
  {
   "cell_type": "code",
   "execution_count": 74,
   "metadata": {},
   "outputs": [
    {
     "data": {
      "image/png": "[encoded data removed]",
      "text/plain": [
       "<Figure size 432x288 with 1 Axes>"
      ]
     },
     "metadata": {
      "needs_background": "light"
     },
     "output_type": "display_data"
    }
   ],
   "source": [
    "consumer_conf_idx = [bank_y['cons.conf.idx'], bank_n['cons.conf.idx']]\n",
    "plt.boxplot(consumer_conf_idx)\n",
    "plt.title('Consumer Confidence Index')\n",
    "plt.xticks([1,2], ['Subscribed', 'Didn\\'t Subscribe'])\n",
    "plt.show()"
   ]
  },
  {
   "cell_type": "code",
   "execution_count": 75,
   "metadata": {},
   "outputs": [
    {
     "name": "stdout",
     "output_type": "stream",
     "text": [
      "Subscribed Boxplot stats: \n",
      "\n",
      "Median - -40.4\n",
      "Lower Quartile - -46.2\n",
      "Upper Quartile - -36.1\n"
     ]
    }
   ],
   "source": [
    "boxplot_stats('Subscribed', bank_y, 'cons.conf.idx')"
   ]
  },
  {
   "cell_type": "code",
   "execution_count": 76,
   "metadata": {},
   "outputs": [
    {
     "name": "stdout",
     "output_type": "stream",
     "text": [
      "Didn't Subscribe Boxplot stats: \n",
      "\n",
      "Median - -41.8\n",
      "Lower Quartile - -42.7\n",
      "Upper Quartile - -36.4\n"
     ]
    }
   ],
   "source": [
    "boxplot_stats('Didn\\'t Subscribe', bank_n, 'cons.conf.idx')"
   ]
  },
  {
   "cell_type": "markdown",
   "metadata": {},
   "source": [
    "### Interest rate (Daily Indicator) over subscribing\n",
    "- There boxplot shows that there were more subscribers when interest rates were low.\n",
    "- Since the program is offering 'attractive interest rates' as you deposit money into the bank, it \n",
    "    makes sense the lower the interest rate of the Central Bank the more appealing the interest bank \n",
    "    from the bank will be."
   ]
  },
  {
   "cell_type": "code",
   "execution_count": 78,
   "metadata": {},
   "outputs": [
    {
     "data": {
      "image/png": "[encoded data removed]",
      "text/plain": [
       "<Figure size 432x288 with 1 Axes>"
      ]
     },
     "metadata": {
      "needs_background": "light"
     },
     "output_type": "display_data"
    }
   ],
   "source": [
    "int_rate_comp = [bank_y['euribor3m'], bank_n['euribor3m']]\n",
    "plt.boxplot(int_rate_comp)\n",
    "plt.title('Interest Rate Impact on Subscribing')\n",
    "plt.xticks([1,2], ['Subscribed', 'Didn\\'t Subscribe'])\n",
    "plt.ylabel('Interest Rates')\n",
    "plt.show()"
   ]
  },
  {
   "cell_type": "code",
   "execution_count": 60,
   "metadata": {},
   "outputs": [
    {
     "name": "stdout",
     "output_type": "stream",
     "text": [
      "Subscribed Boxplot stats: \n",
      "\n",
      "Median - 1.266\n",
      "Lower Quartile - 0.8490000000000001\n",
      "Upper Quartile - 4.406000000000001\n"
     ]
    }
   ],
   "source": [
    "boxplot_stats('Subscribed', bank_y, 'euribor3m')"
   ]
  },
  {
   "cell_type": "code",
   "execution_count": 61,
   "metadata": {},
   "outputs": [
    {
     "name": "stdout",
     "output_type": "stream",
     "text": [
      "Didn't Subscribe Boxplot stats: \n",
      "\n",
      "Median - 1.266\n",
      "Lower Quartile - 0.8490000000000001\n",
      "Upper Quartile - 4.406000000000001\n"
     ]
    }
   ],
   "source": [
    "boxplot_stats('Didn\\'t Subscribe', bank_y, 'euribor3m')"
   ]
  },
  {
   "cell_type": "markdown",
   "metadata": {},
   "source": [
    "### Employment  number (Quaterly Indicator) over subscribing\n",
    "- The lower the employment number is, the more subscribers."
   ]
  },
  {
   "cell_type": "code",
   "execution_count": 62,
   "metadata": {},
   "outputs": [
    {
     "data": {
      "image/png": "[encoded data removed]",
      "text/plain": [
       "<Figure size 432x288 with 1 Axes>"
      ]
     },
     "metadata": {
      "needs_background": "light"
     },
     "output_type": "display_data"
    }
   ],
   "source": [
    "employed_comp = [bank_y['nr.employed'], bank_n['nr.employed']]\n",
    "plt.boxplot(employed_comp)\n",
    "plt.title('Employed Number Impact on Subscribing')\n",
    "plt.xticks([1,2], ['Subscribed', 'Didn\\'t Subscribe'])\n",
    "plt.ylabel('Employed Number')\n",
    "plt.show()"
   ]
  },
  {
   "cell_type": "code",
   "execution_count": 63,
   "metadata": {},
   "outputs": [
    {
     "name": "stdout",
     "output_type": "stream",
     "text": [
      "Subscribed Boxplot stats: \n",
      "\n",
      "Median - 5099.1\n",
      "Lower Quartile - 5017.5\n",
      "Upper Quartile - 5191.0\n"
     ]
    }
   ],
   "source": [
    "boxplot_stats('Subscribed', bank_y, 'nr.employed')"
   ]
  },
  {
   "cell_type": "code",
   "execution_count": 64,
   "metadata": {},
   "outputs": [
    {
     "name": "stdout",
     "output_type": "stream",
     "text": [
      "Didn't Subscribe Boxplot stats: \n",
      "\n",
      "Median - 5099.1\n",
      "Lower Quartile - 5017.5\n",
      "Upper Quartile - 5191.0\n"
     ]
    }
   ],
   "source": [
    "boxplot_stats('Didn\\'t Subscribe', bank_y, 'nr.employed')"
   ]
  },
  {
   "cell_type": "markdown",
   "metadata": {},
   "source": [
    "### Worst & Best Months Over Economic Indicators\n",
    "- Worst months:\n",
    "    - May, July & Nov\n",
    "- Best Months: \n",
    "    - March, Dec & Sep\n",
    "- We can see that the best months had much lower interest rates than the worst months.\n",
    "- Also, number of employed people are lower on the best months. "
   ]
  },
  {
   "cell_type": "code",
   "execution_count": 65,
   "metadata": {},
   "outputs": [],
   "source": [
    "# Worst Months\n",
    "bank_may = bank[bank.month == 'may']\n",
    "bank_jul = bank[bank.month == 'jul']\n",
    "bank_nov = bank[bank.month == 'nov']\n",
    "worst_months_int = [bank_may['euribor3m'], bank_jul['euribor3m'], bank_nov['euribor3m']]\n",
    "worst_months_employed = [bank_may['nr.employed'], bank_jul['nr.employed'], bank_nov['nr.employed']]"
   ]
  },
  {
   "cell_type": "code",
   "execution_count": 66,
   "metadata": {},
   "outputs": [],
   "source": [
    "#Best Months\n",
    "bank_mar = bank[bank.month == 'mar']\n",
    "bank_dec = bank[bank.month == 'dec']\n",
    "bank_sep = bank[bank.month == 'sep']\n",
    "best_months_int = [bank_mar['euribor3m'], bank_dec['euribor3m'], bank_sep['euribor3m']]\n",
    "best_months_employed = [bank_mar['nr.employed'], bank_dec['nr.employed'], bank_sep['nr.employed']]"
   ]
  },
  {
   "cell_type": "code",
   "execution_count": 67,
   "metadata": {},
   "outputs": [
    {
     "data": {
      "image/png": "[encoded data removed]",
      "text/plain": [
       "<Figure size 432x288 with 2 Axes>"
      ]
     },
     "metadata": {
      "needs_background": "light"
     },
     "output_type": "display_data"
    }
   ],
   "source": [
    "plt.subplot(1,2,1)\n",
    "plt.boxplot(worst_months_int)\n",
    "plt.xticks([1,2,3], ['may', 'jul', 'nov'])\n",
    "plt.title('Subscribed Worst Months')\n",
    "plt.ylabel('Interest Rates')\n",
    "\n",
    "plt.subplot(1,2,2)\n",
    "plt.boxplot(best_months_int)\n",
    "plt.xticks([1,2,3], ['mar', 'dec', 'sep'])\n",
    "plt.title('Subscribed Best Months')\n",
    "plt.show()"
   ]
  },
  {
   "cell_type": "code",
   "execution_count": 68,
   "metadata": {},
   "outputs": [
    {
     "data": {
      "image/png": "[encoded data removed]",
      "text/plain": [
       "<Figure size 432x288 with 2 Axes>"
      ]
     },
     "metadata": {
      "needs_background": "light"
     },
     "output_type": "display_data"
    }
   ],
   "source": [
    "plt.subplot(1,2,1)\n",
    "plt.boxplot(worst_months_employed)\n",
    "plt.xticks([1,2,3], ['may', 'jul', 'nov'])\n",
    "plt.title('Subscribed Worst Months')\n",
    "plt.ylabel('Employed Number')\n",
    "\n",
    "plt.subplot(1,2,2)\n",
    "plt.boxplot(best_months_employed)\n",
    "plt.xticks([1,2,3], ['mar', 'dec', 'sep'])\n",
    "plt.title('Subscribed Best Months')\n",
    "plt.show()"
   ]
  }
 ],
 "metadata": {
  "kernelspec": {
   "display_name": "springboard",
   "language": "python",
   "name": "springboard"
  },
  "language_info": {
   "codemirror_mode": {
    "name": "ipython",
    "version": 3
   },
   "file_extension": ".py",
   "mimetype": "text/x-python",
   "name": "python",
   "nbconvert_exporter": "python",
   "pygments_lexer": "ipython3",
   "version": "3.6.6"
  }
 },
 "nbformat": 4,
 "nbformat_minor": 2
}
