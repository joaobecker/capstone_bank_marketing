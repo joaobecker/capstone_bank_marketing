{
 "cells": [
  {
   "cell_type": "code",
   "execution_count": 1,
   "metadata": {},
   "outputs": [
    {
     "name": "stdout",
     "output_type": "stream",
     "text": [
      "/Users/joaobecker\n"
     ]
    }
   ],
   "source": [
    "cd"
   ]
  },
  {
   "cell_type": "markdown",
   "metadata": {},
   "source": [
    "#  ***Bank Marketing Campaign - Exploratory Data Analysis*** \n",
    "    \n",
    "- In this part of the project, I will explore a Portuguese bank marketing campaign dataset with visualization techniques. The visualization techniques will help define the variables that are going to be used in the machine learning section. \n",
    "\n",
    "## Marketing Campaign Recap:\n",
    "\n",
    "-  The marketing campaign goal is to sell long-term deposits through telemarketing phone calls. The bank agents execute phone calls to a list of clients to see if they are interested in subscribing for a long-term deposit. The result is a binary answer, 'yes' or 'no.'\n",
    "    \n",
    "## The Dataset:\n",
    "\n",
    "-  The dataset is composed of 21 variables. There are 20 independent variables, ranging from numeric to categorical, such as job, marital status, month, amount of times the client was contacted, age and others. And 1 binary dependent variable, if client subscribed 'yes' or 'no'.\n",
    "\n",
    "\n",
    "## Findings:\n",
    "\n",
    " - The exploration analysis was able to identify a few variables that have a meaningful impact in a client subscribing to a long-term deposit. These variables are: job category, the month of the year, call duration, if they have \n",
    "    previously subscribed to a campaign, quarterly interest rate and quarterly number of employed.\n",
    "    \n",
    "    1. Job category - The categories with the highest subscribed rate were students (31%), retired (25%) and unemployed (14%). An interesting fact is that these are the categories of people that do not have a job.\n",
    "    \n",
    "    2. Month of the year - It was interesting to notice that some months had over 50% subscribed rate, such as March, December and September. Also, May, the month with the highest amount of subscribers, had the worst subscribed rate with only 6.4% subscribing to a long-term deposit.\n",
    "    \n",
    "    3. Call Duration - The duration of the call has a significant impact on subscribing a client. Most of the calls that didn't end up in subscription last at most 279 seconds, while the lower quartile of the calls that got people subscribed was 253 seconds. Therefore, the longer the agent stayed on the call with the client, the higher the chance on subscribing to a long-term deposit.\n",
    "    \n",
    "    4. If a client previously subscribed to a bank campaign - If a client previously subscribed to a campaign from this bank, there is a high chance of them subscribing again. 65% of those who have subscribed to a previous campaign, subscribed to the long-term deposit.\n",
    "    \n",
    "    5. Interest rate (Daily indicator) - There is a significant correlation that the lower the interbank interest rate is, the more subscribers. The reason why people subscribe during a lower interest rate might be because they want to take advantage of the long-term high-interest rate, while all the other banks are offering low-interest rate on their money.\n",
    "    \n",
    "    6. Number of employed (Quarterly indicator) - The fewer people employed in the economy, the more subscribers. Similar to what job category shows, the people that are most likely to subscribed are the people without a job. Thus, a higher number of unemployed people, the higher the subscribed rate.\n",
    "\n",
    "## What's Next:\n",
    "- Given the findings above, the next step is to use machine learning to identify how strong these correlations are and predict what clients are going to subscribe.\n",
    "\n",
    "    \n",
    "## The Experiments and the Data:\n"
   ]
  },
  {
   "cell_type": "markdown",
   "metadata": {},
   "source": [
    "### Importing Libraries"
   ]
  },
  {
   "cell_type": "code",
   "execution_count": 2,
   "metadata": {},
   "outputs": [],
   "source": [
    "import matplotlib.pyplot as plt\n",
    "%matplotlib inline\n",
    "import pandas as pd\n",
    "import numpy as np\n",
    "import datetime \n",
    "import seaborn as sns\n",
    "sns.set()"
   ]
  },
  {
   "cell_type": "markdown",
   "metadata": {},
   "source": [
    "### Converting the dataset from CSV to Dataframe, using pandas."
   ]
  },
  {
   "cell_type": "code",
   "execution_count": 3,
   "metadata": {
    "scrolled": false
   },
   "outputs": [
    {
     "data": {
      "text/html": [
       "<div>\n",
       "<style scoped>\n",
       "    .dataframe tbody tr th:only-of-type {\n",
       "        vertical-align: middle;\n",
       "    }\n",
       "\n",
       "    .dataframe tbody tr th {\n",
       "        vertical-align: top;\n",
       "    }\n",
       "\n",
       "    .dataframe thead th {\n",
       "        text-align: right;\n",
       "    }\n",
       "</style>\n",
       "<table border=\"1\" class=\"dataframe\">\n",
       "  <thead>\n",
       "    <tr style=\"text-align: right;\">\n",
       "      <th></th>\n",
       "      <th>age</th>\n",
       "      <th>job</th>\n",
       "      <th>marital</th>\n",
       "      <th>education</th>\n",
       "      <th>default</th>\n",
       "      <th>housing</th>\n",
       "      <th>loan</th>\n",
       "      <th>contact</th>\n",
       "      <th>month</th>\n",
       "      <th>day_of_week</th>\n",
       "      <th>...</th>\n",
       "      <th>campaign</th>\n",
       "      <th>pdays</th>\n",
       "      <th>previous</th>\n",
       "      <th>poutcome</th>\n",
       "      <th>emp.var.rate</th>\n",
       "      <th>cons.price.idx</th>\n",
       "      <th>cons.conf.idx</th>\n",
       "      <th>euribor3m</th>\n",
       "      <th>nr.employed</th>\n",
       "      <th>y</th>\n",
       "    </tr>\n",
       "  </thead>\n",
       "  <tbody>\n",
       "    <tr>\n",
       "      <th>0</th>\n",
       "      <td>56</td>\n",
       "      <td>housemaid</td>\n",
       "      <td>married</td>\n",
       "      <td>basic.4y</td>\n",
       "      <td>no</td>\n",
       "      <td>no</td>\n",
       "      <td>no</td>\n",
       "      <td>telephone</td>\n",
       "      <td>may</td>\n",
       "      <td>mon</td>\n",
       "      <td>...</td>\n",
       "      <td>1</td>\n",
       "      <td>999</td>\n",
       "      <td>0</td>\n",
       "      <td>nonexistent</td>\n",
       "      <td>1.1</td>\n",
       "      <td>93.994</td>\n",
       "      <td>-36.4</td>\n",
       "      <td>4.857</td>\n",
       "      <td>5191.0</td>\n",
       "      <td>no</td>\n",
       "    </tr>\n",
       "    <tr>\n",
       "      <th>1</th>\n",
       "      <td>57</td>\n",
       "      <td>services</td>\n",
       "      <td>married</td>\n",
       "      <td>high.school</td>\n",
       "      <td>unknown</td>\n",
       "      <td>no</td>\n",
       "      <td>no</td>\n",
       "      <td>telephone</td>\n",
       "      <td>may</td>\n",
       "      <td>mon</td>\n",
       "      <td>...</td>\n",
       "      <td>1</td>\n",
       "      <td>999</td>\n",
       "      <td>0</td>\n",
       "      <td>nonexistent</td>\n",
       "      <td>1.1</td>\n",
       "      <td>93.994</td>\n",
       "      <td>-36.4</td>\n",
       "      <td>4.857</td>\n",
       "      <td>5191.0</td>\n",
       "      <td>no</td>\n",
       "    </tr>\n",
       "    <tr>\n",
       "      <th>2</th>\n",
       "      <td>37</td>\n",
       "      <td>services</td>\n",
       "      <td>married</td>\n",
       "      <td>high.school</td>\n",
       "      <td>no</td>\n",
       "      <td>yes</td>\n",
       "      <td>no</td>\n",
       "      <td>telephone</td>\n",
       "      <td>may</td>\n",
       "      <td>mon</td>\n",
       "      <td>...</td>\n",
       "      <td>1</td>\n",
       "      <td>999</td>\n",
       "      <td>0</td>\n",
       "      <td>nonexistent</td>\n",
       "      <td>1.1</td>\n",
       "      <td>93.994</td>\n",
       "      <td>-36.4</td>\n",
       "      <td>4.857</td>\n",
       "      <td>5191.0</td>\n",
       "      <td>no</td>\n",
       "    </tr>\n",
       "    <tr>\n",
       "      <th>3</th>\n",
       "      <td>40</td>\n",
       "      <td>admin.</td>\n",
       "      <td>married</td>\n",
       "      <td>basic.6y</td>\n",
       "      <td>no</td>\n",
       "      <td>no</td>\n",
       "      <td>no</td>\n",
       "      <td>telephone</td>\n",
       "      <td>may</td>\n",
       "      <td>mon</td>\n",
       "      <td>...</td>\n",
       "      <td>1</td>\n",
       "      <td>999</td>\n",
       "      <td>0</td>\n",
       "      <td>nonexistent</td>\n",
       "      <td>1.1</td>\n",
       "      <td>93.994</td>\n",
       "      <td>-36.4</td>\n",
       "      <td>4.857</td>\n",
       "      <td>5191.0</td>\n",
       "      <td>no</td>\n",
       "    </tr>\n",
       "    <tr>\n",
       "      <th>4</th>\n",
       "      <td>56</td>\n",
       "      <td>services</td>\n",
       "      <td>married</td>\n",
       "      <td>high.school</td>\n",
       "      <td>no</td>\n",
       "      <td>no</td>\n",
       "      <td>yes</td>\n",
       "      <td>telephone</td>\n",
       "      <td>may</td>\n",
       "      <td>mon</td>\n",
       "      <td>...</td>\n",
       "      <td>1</td>\n",
       "      <td>999</td>\n",
       "      <td>0</td>\n",
       "      <td>nonexistent</td>\n",
       "      <td>1.1</td>\n",
       "      <td>93.994</td>\n",
       "      <td>-36.4</td>\n",
       "      <td>4.857</td>\n",
       "      <td>5191.0</td>\n",
       "      <td>no</td>\n",
       "    </tr>\n",
       "  </tbody>\n",
       "</table>\n",
       "<p>5 rows × 21 columns</p>\n",
       "</div>"
      ],
      "text/plain": [
       "   age        job  marital    education  default housing loan    contact  \\\n",
       "0   56  housemaid  married     basic.4y       no      no   no  telephone   \n",
       "1   57   services  married  high.school  unknown      no   no  telephone   \n",
       "2   37   services  married  high.school       no     yes   no  telephone   \n",
       "3   40     admin.  married     basic.6y       no      no   no  telephone   \n",
       "4   56   services  married  high.school       no      no  yes  telephone   \n",
       "\n",
       "  month day_of_week ...  campaign  pdays  previous     poutcome emp.var.rate  \\\n",
       "0   may         mon ...         1    999         0  nonexistent          1.1   \n",
       "1   may         mon ...         1    999         0  nonexistent          1.1   \n",
       "2   may         mon ...         1    999         0  nonexistent          1.1   \n",
       "3   may         mon ...         1    999         0  nonexistent          1.1   \n",
       "4   may         mon ...         1    999         0  nonexistent          1.1   \n",
       "\n",
       "   cons.price.idx  cons.conf.idx  euribor3m  nr.employed   y  \n",
       "0          93.994          -36.4      4.857       5191.0  no  \n",
       "1          93.994          -36.4      4.857       5191.0  no  \n",
       "2          93.994          -36.4      4.857       5191.0  no  \n",
       "3          93.994          -36.4      4.857       5191.0  no  \n",
       "4          93.994          -36.4      4.857       5191.0  no  \n",
       "\n",
       "[5 rows x 21 columns]"
      ]
     },
     "execution_count": 3,
     "metadata": {},
     "output_type": "execute_result"
    }
   ],
   "source": [
    "bank = pd.read_csv('Desktop/Data Science - Springboard/Capstone Project - 1/portuguese_bank_project/bank-additional-full.csv', sep=';')\n",
    "bank.head()"
   ]
  },
  {
   "cell_type": "markdown",
   "metadata": {},
   "source": [
    "### Analyzing data types"
   ]
  },
  {
   "cell_type": "code",
   "execution_count": 4,
   "metadata": {},
   "outputs": [
    {
     "name": "stdout",
     "output_type": "stream",
     "text": [
      "<class 'pandas.core.frame.DataFrame'>\n",
      "RangeIndex: 41188 entries, 0 to 41187\n",
      "Data columns (total 21 columns):\n",
      "age               41188 non-null int64\n",
      "job               41188 non-null object\n",
      "marital           41188 non-null object\n",
      "education         41188 non-null object\n",
      "default           41188 non-null object\n",
      "housing           41188 non-null object\n",
      "loan              41188 non-null object\n",
      "contact           41188 non-null object\n",
      "month             41188 non-null object\n",
      "day_of_week       41188 non-null object\n",
      "duration          41188 non-null int64\n",
      "campaign          41188 non-null int64\n",
      "pdays             41188 non-null int64\n",
      "previous          41188 non-null int64\n",
      "poutcome          41188 non-null object\n",
      "emp.var.rate      41188 non-null float64\n",
      "cons.price.idx    41188 non-null float64\n",
      "cons.conf.idx     41188 non-null float64\n",
      "euribor3m         41188 non-null float64\n",
      "nr.employed       41188 non-null float64\n",
      "y                 41188 non-null object\n",
      "dtypes: float64(5), int64(5), object(11)\n",
      "memory usage: 6.6+ MB\n"
     ]
    }
   ],
   "source": [
    "bank.info()"
   ]
  },
  {
   "cell_type": "markdown",
   "metadata": {},
   "source": [
    "### Convert data types for easier data manipulation\n",
    "1. Convert all the numeric columns to integers\n",
    "2. Convert string columns into categorical columns"
   ]
  },
  {
   "cell_type": "code",
   "execution_count": 5,
   "metadata": {},
   "outputs": [],
   "source": [
    "bank_int = bank[['age','campaign', 'pdays', 'emp.var.rate', 'cons.price.idx', 'cons.conf.idx', 'euribor3m', 'nr.employed']]\n",
    "\n",
    "for i in bank_int:\n",
    "    bank[i] = pd.to_numeric(bank[i])"
   ]
  },
  {
   "cell_type": "code",
   "execution_count": 6,
   "metadata": {},
   "outputs": [],
   "source": [
    "bank_category = bank[['job', 'marital', 'education', 'contact', 'month', 'day_of_week']]\n",
    "\n",
    "for i in bank_category:\n",
    "    bank[i] = bank_category[i].astype('category')"
   ]
  },
  {
   "cell_type": "markdown",
   "metadata": {},
   "source": [
    "### Function and data samples used in the project\n",
    "- A function was created to facilitate the exploration analysis.\n",
    "    1. percentage() - The goal of this function is to get the percentage of a value in a data sample against the \n",
    "        value in the dataset. \n",
    "- Two data samples were created to distinguish the binary output in the dependent variable:\n",
    "    - bank_y - It's a data sample containing only those who have subscribed to the program.\n",
    "    - bank_n - It's a data sample containging only those who didn't subscribed to the program."
   ]
  },
  {
   "cell_type": "code",
   "execution_count": 7,
   "metadata": {},
   "outputs": [],
   "source": [
    "# Function\n",
    "def percentage(df_sample, variable, df):\n",
    "    \"\"\"\" The goal of this funcion is to return the percentage of a specific variable (variable) \n",
    "    in a data sample (df_sample), against the same variable in the population data set (df).\n",
    "    \"\"\"\n",
    "    return df_sample[variable].value_counts() / df[variable].value_counts() * 100\n"
   ]
  },
  {
   "cell_type": "code",
   "execution_count": 8,
   "metadata": {},
   "outputs": [],
   "source": [
    "# Data samples\n",
    "\n",
    "bank_y = bank[bank.y == 'yes']  # Subscribed to the campaign\\n\",\n",
    "bank_n = bank[bank.y == 'no']   # Didn't subscribe to the campaign"
   ]
  },
  {
   "cell_type": "markdown",
   "metadata": {},
   "source": [
    "## ***Exploring Bank Services Variables*** "
   ]
  },
  {
   "cell_type": "markdown",
   "metadata": {},
   "source": [
    "### Clients who have defaulted in a loan over subscribing:\n",
    "- Default Loan - Most of the people that subscribed to the program have not defaulted \n",
    "    on their loan. "
   ]
  },
  {
   "cell_type": "code",
   "execution_count": 9,
   "metadata": {},
   "outputs": [
    {
     "data": {
      "text/plain": [
       "no         4197\n",
       "unknown     443\n",
       "Name: default, dtype: int64"
      ]
     },
     "execution_count": 9,
     "metadata": {},
     "output_type": "execute_result"
    }
   ],
   "source": [
    "bank_y['default'].value_counts()"
   ]
  },
  {
   "cell_type": "code",
   "execution_count": 10,
   "metadata": {},
   "outputs": [
    {
     "data": {
      "text/plain": [
       "no         12.878974\n",
       "unknown     5.152960\n",
       "yes              NaN\n",
       "Name: default, dtype: float64"
      ]
     },
     "execution_count": 10,
     "metadata": {},
     "output_type": "execute_result"
    }
   ],
   "source": [
    "percentage(bank_y, 'default', bank)"
   ]
  },
  {
   "cell_type": "markdown",
   "metadata": {},
   "source": [
    "### Clients who have a housing loan over subscribing\n",
    "- Housing Loan - The amount of people that have or dont have a housing loan and participated are very similar.\n",
    "    Therefore, no correlation that having housing loan makes someone more likely to subscribed."
   ]
  },
  {
   "cell_type": "code",
   "execution_count": 11,
   "metadata": {},
   "outputs": [
    {
     "data": {
      "text/plain": [
       "yes        2507\n",
       "no         2026\n",
       "unknown     107\n",
       "Name: housing, dtype: int64"
      ]
     },
     "execution_count": 11,
     "metadata": {},
     "output_type": "execute_result"
    }
   ],
   "source": [
    "bank_y['housing'].value_counts()"
   ]
  },
  {
   "cell_type": "code",
   "execution_count": 12,
   "metadata": {},
   "outputs": [
    {
     "data": {
      "text/plain": [
       "yes        11.619392\n",
       "no         10.879605\n",
       "unknown    10.808081\n",
       "Name: housing, dtype: float64"
      ]
     },
     "execution_count": 12,
     "metadata": {},
     "output_type": "execute_result"
    }
   ],
   "source": [
    "percentage(bank_y, 'housing', bank)"
   ]
  },
  {
   "cell_type": "markdown",
   "metadata": {},
   "source": [
    "### Clients who have a loan over subscribing\n",
    "- Most people that have subscribed to the program have a loan with the bank.\n",
    "    - However, the population percentage is not that great."
   ]
  },
  {
   "cell_type": "code",
   "execution_count": 13,
   "metadata": {},
   "outputs": [
    {
     "data": {
      "text/plain": [
       "no         3850\n",
       "yes         683\n",
       "unknown     107\n",
       "Name: loan, dtype: int64"
      ]
     },
     "execution_count": 13,
     "metadata": {},
     "output_type": "execute_result"
    }
   ],
   "source": [
    "bank_y['loan'].value_counts()"
   ]
  },
  {
   "cell_type": "code",
   "execution_count": 14,
   "metadata": {},
   "outputs": [
    {
     "data": {
      "text/plain": [
       "no         11.340206\n",
       "yes        10.931498\n",
       "unknown    10.808081\n",
       "Name: loan, dtype: float64"
      ]
     },
     "execution_count": 14,
     "metadata": {},
     "output_type": "execute_result"
    }
   ],
   "source": [
    "percentage(bank_y, 'loan', bank)"
   ]
  },
  {
   "cell_type": "markdown",
   "metadata": {},
   "source": [
    "## ***Exploring categorical variables***\n"
   ]
  },
  {
   "cell_type": "markdown",
   "metadata": {},
   "source": [
    "### Job category over subscribing\n",
    "- Most people that have subscribed to the program have an admin job. \n",
    "- However, an interesting finding is that the job categories that are most likely to subscribe to the program\n",
    "    are student, retired and unemployed. Thus, this data shows that there might be a correlation with those that \n",
    "    are not working with subscribing to the program."
   ]
  },
  {
   "cell_type": "code",
   "execution_count": 15,
   "metadata": {},
   "outputs": [
    {
     "data": {
      "text/plain": [
       "admin.           0.291379\n",
       "technician       0.157328\n",
       "blue-collar      0.137500\n",
       "retired          0.093534\n",
       "management       0.070690\n",
       "services         0.069612\n",
       "student          0.059267\n",
       "self-employed    0.032112\n",
       "unemployed       0.031034\n",
       "entrepreneur     0.026724\n",
       "housemaid        0.022845\n",
       "unknown          0.007974\n",
       "Name: job, dtype: float64"
      ]
     },
     "execution_count": 15,
     "metadata": {},
     "output_type": "execute_result"
    }
   ],
   "source": [
    "bank_y.job.value_counts(normalize=True)"
   ]
  },
  {
   "cell_type": "code",
   "execution_count": 16,
   "metadata": {},
   "outputs": [
    {
     "data": {
      "image/png": "[encoded data removed]",
      "text/plain": [
       "<Figure size 720x360 with 1 Axes>"
      ]
     },
     "metadata": {
      "needs_background": "light"
     },
     "output_type": "display_data"
    }
   ],
   "source": [
    "plt.figure(figsize=(10, 5))\n",
    "bank_y.job.value_counts(ascending=True).plot(kind='barh', color = 'blue')\n",
    "plt.ylabel('Job Category')\n",
    "plt.xlabel('Total Subscribers')\n",
    "plt.title('Total Subscribers - Job Category')\n",
    "plt.show()"
   ]
  },
  {
   "cell_type": "code",
   "execution_count": 17,
   "metadata": {},
   "outputs": [
    {
     "data": {
      "text/plain": [
       "student          31.428571\n",
       "retired          25.232558\n",
       "unemployed       14.201183\n",
       "admin.           12.972558\n",
       "management       11.217510\n",
       "unknown          11.212121\n",
       "technician       10.826042\n",
       "self-employed    10.485574\n",
       "housemaid        10.000000\n",
       "entrepreneur      8.516484\n",
       "services          8.138070\n",
       "blue-collar       6.894316\n",
       "Name: job, dtype: float64"
      ]
     },
     "execution_count": 17,
     "metadata": {},
     "output_type": "execute_result"
    }
   ],
   "source": [
    "pct_job = percentage(bank_y, 'job', bank).sort_values(ascending=False)\n",
    "pct_job"
   ]
  },
  {
   "cell_type": "code",
   "execution_count": 18,
   "metadata": {},
   "outputs": [
    {
     "data": {
      "image/png": "[encoded data removed]",
      "text/plain": [
       "<Figure size 720x360 with 1 Axes>"
      ]
     },
     "metadata": {
      "needs_background": "light"
     },
     "output_type": "display_data"
    }
   ],
   "source": [
    "plt.figure(figsize=(10, 5))\n",
    "plt.barh(pct_job.index, pct_job.values)\n",
    "plt.xlabel('Subscribed Job Category Rate')\n",
    "plt.ylabel('Job Categories')\n",
    "plt.title('Job Category Rate Over Subscribing')\n",
    "plt.gca().invert_yaxis()\n",
    "plt.show()"
   ]
  },
  {
   "cell_type": "markdown",
   "metadata": {},
   "source": [
    "### Level of education over subscribing\n",
    "- Most people that subscribed have a university degree.\n",
    "- However, when comparing against the whole data set, Illiterate has the highest subscribing percentage, \n",
    "    with 22% subscribing to the program. While university degree has a 13% subscription rate. "
   ]
  },
  {
   "cell_type": "code",
   "execution_count": 19,
   "metadata": {},
   "outputs": [
    {
     "data": {
      "text/plain": [
       "university.degree      1670\n",
       "high.school            1031\n",
       "professional.course     595\n",
       "basic.9y                473\n",
       "basic.4y                428\n",
       "unknown                 251\n",
       "basic.6y                188\n",
       "illiterate                4\n",
       "Name: education, dtype: int64"
      ]
     },
     "execution_count": 19,
     "metadata": {},
     "output_type": "execute_result"
    }
   ],
   "source": [
    "bank_y.education.value_counts()"
   ]
  },
  {
   "cell_type": "code",
   "execution_count": 20,
   "metadata": {},
   "outputs": [
    {
     "data": {
      "text/plain": [
       "basic.4y               10.249042\n",
       "basic.6y                8.202443\n",
       "basic.9y                7.824648\n",
       "high.school            10.835523\n",
       "illiterate             22.222222\n",
       "professional.course    11.348465\n",
       "university.degree      13.724523\n",
       "unknown                14.500289\n",
       "Name: education, dtype: float64"
      ]
     },
     "execution_count": 20,
     "metadata": {},
     "output_type": "execute_result"
    }
   ],
   "source": [
    "percentage(bank_y, 'education', bank)"
   ]
  },
  {
   "cell_type": "markdown",
   "metadata": {},
   "source": [
    "### Type of contact over subscribing\n",
    "- 83% of the subscription were obtained by calling to client's cellular phones\n",
    "    - Calls to cellular have a total subscription rate of 14% while telephone has only 5%. "
   ]
  },
  {
   "cell_type": "code",
   "execution_count": 21,
   "metadata": {},
   "outputs": [
    {
     "data": {
      "text/plain": [
       "cellular     3853\n",
       "telephone     787\n",
       "Name: contact, dtype: int64"
      ]
     },
     "execution_count": 21,
     "metadata": {},
     "output_type": "execute_result"
    }
   ],
   "source": [
    "bank_y.contact.value_counts()"
   ]
  },
  {
   "cell_type": "code",
   "execution_count": 22,
   "metadata": {},
   "outputs": [
    {
     "data": {
      "text/plain": [
       "cellular     83.038793\n",
       "telephone    16.961207\n",
       "Name: contact, dtype: float64"
      ]
     },
     "execution_count": 22,
     "metadata": {},
     "output_type": "execute_result"
    }
   ],
   "source": [
    "bank_y.contact.value_counts(normalize=True) * 100"
   ]
  },
  {
   "cell_type": "code",
   "execution_count": 23,
   "metadata": {},
   "outputs": [
    {
     "data": {
      "image/png": "[encoded data removed]",
      "text/plain": [
       "<Figure size 720x360 with 1 Axes>"
      ]
     },
     "metadata": {
      "needs_background": "light"
     },
     "output_type": "display_data"
    }
   ],
   "source": [
    "plt.figure(figsize=(10, 5))\n",
    "bank_y.contact.value_counts().plot(kind='bar')\n",
    "plt.show()"
   ]
  },
  {
   "cell_type": "code",
   "execution_count": 24,
   "metadata": {},
   "outputs": [
    {
     "data": {
      "text/plain": [
       "cellular     14.737607\n",
       "telephone     5.231321\n",
       "Name: contact, dtype: float64"
      ]
     },
     "execution_count": 24,
     "metadata": {},
     "output_type": "execute_result"
    }
   ],
   "source": [
    "percentage(bank_y, 'contact', bank)"
   ]
  },
  {
   "cell_type": "markdown",
   "metadata": {},
   "source": [
    "### Month of the year over subscribing\n",
    "- May was the month with the most subscription. However it was also the month with the lowest subscription \n",
    "    rate, with only 6% subscribing.\n",
    "- The months with the best subscription rate were March, September, October and December. These months \n",
    "    had a success rate of near 50%!"
   ]
  },
  {
   "cell_type": "code",
   "execution_count": 25,
   "metadata": {},
   "outputs": [
    {
     "data": {
      "text/plain": [
       "may    19.094828\n",
       "aug    14.116379\n",
       "jul    13.987069\n",
       "jun    12.047414\n",
       "apr    11.616379\n",
       "nov     8.965517\n",
       "oct     6.788793\n",
       "mar     5.948276\n",
       "sep     5.517241\n",
       "dec     1.918103\n",
       "Name: month, dtype: float64"
      ]
     },
     "execution_count": 25,
     "metadata": {},
     "output_type": "execute_result"
    }
   ],
   "source": [
    "total_month = bank_y.month.value_counts(normalize=True) * 100\n",
    "total_month"
   ]
  },
  {
   "cell_type": "code",
   "execution_count": 26,
   "metadata": {},
   "outputs": [
    {
     "data": {
      "image/png": "[encoded data removed]",
      "text/plain": [
       "<Figure size 720x360 with 1 Axes>"
      ]
     },
     "metadata": {
      "needs_background": "light"
     },
     "output_type": "display_data"
    }
   ],
   "source": [
    "plt.figure(figsize=(10, 5))\n",
    "plt.bar(total_month.index, total_month.values)\n",
    "plt.title('Subscribed -  Months with Most Subscribers')\n",
    "plt.ylabel('Percentage of Subscribers')\n",
    "plt.xlabel('Months')\n",
    "plt.show()"
   ]
  },
  {
   "cell_type": "code",
   "execution_count": 27,
   "metadata": {},
   "outputs": [
    {
     "data": {
      "text/plain": [
       "mar    50.549451\n",
       "dec    48.901099\n",
       "sep    44.912281\n",
       "oct    43.871866\n",
       "apr    20.478723\n",
       "aug    10.602137\n",
       "jun    10.511470\n",
       "nov    10.143867\n",
       "jul     9.046557\n",
       "may     6.434745\n",
       "Name: month, dtype: float64"
      ]
     },
     "execution_count": 27,
     "metadata": {},
     "output_type": "execute_result"
    }
   ],
   "source": [
    "pct_month = percentage(bank_y, 'month', bank).sort_values(ascending=False)\n",
    "pct_month"
   ]
  },
  {
   "cell_type": "code",
   "execution_count": 28,
   "metadata": {},
   "outputs": [
    {
     "data": {
      "image/png": "[encoded data removed]",
      "text/plain": [
       "<Figure size 720x360 with 1 Axes>"
      ]
     },
     "metadata": {
      "needs_background": "light"
     },
     "output_type": "display_data"
    }
   ],
   "source": [
    "plt.figure(figsize=(10, 5))\n",
    "plt.bar(pct_month.index, pct_month.values)\n",
    "plt.title('Months Subscribed Rate')\n",
    "plt.ylabel('Subscribed Rate')\n",
    "plt.xlabel('Months')\n",
    "plt.show()"
   ]
  },
  {
   "cell_type": "markdown",
   "metadata": {},
   "source": [
    "### Day of the week over subscribing\n",
    "- The data for the day of the week is well distributed, not showing any significant impact on subscription."
   ]
  },
  {
   "cell_type": "code",
   "execution_count": 29,
   "metadata": {},
   "outputs": [
    {
     "data": {
      "text/plain": [
       "thu    1045\n",
       "tue     953\n",
       "wed     949\n",
       "mon     847\n",
       "fri     846\n",
       "Name: day_of_week, dtype: int64"
      ]
     },
     "execution_count": 29,
     "metadata": {},
     "output_type": "execute_result"
    }
   ],
   "source": [
    "bank_y.day_of_week.value_counts()"
   ]
  },
  {
   "cell_type": "code",
   "execution_count": 30,
   "metadata": {},
   "outputs": [
    {
     "data": {
      "text/plain": [
       "fri    10.808739\n",
       "mon     9.948320\n",
       "thu    12.118752\n",
       "tue    11.779975\n",
       "wed    11.667076\n",
       "Name: day_of_week, dtype: float64"
      ]
     },
     "execution_count": 30,
     "metadata": {},
     "output_type": "execute_result"
    }
   ],
   "source": [
    "percentage(bank_y, 'day_of_week', bank)"
   ]
  },
  {
   "cell_type": "markdown",
   "metadata": {},
   "source": [
    "## ***Exploring Numeric variables***"
   ]
  },
  {
   "cell_type": "markdown",
   "metadata": {},
   "source": [
    "### Client's age over subscribing\n",
    "- Most subscribers are around 30 years old. \n",
    "- However, when comparing the subscribed data sample with the dataset, age doesn't seem to have a \n",
    "    significant impact."
   ]
  },
  {
   "cell_type": "code",
   "execution_count": 31,
   "metadata": {},
   "outputs": [],
   "source": [
    "age_y = bank_y.age.value_counts()\n",
    "age_y = age_y.sort_index()"
   ]
  },
  {
   "cell_type": "code",
   "execution_count": 32,
   "metadata": {
    "scrolled": true
   },
   "outputs": [
    {
     "data": {
      "image/png": "[encoded data removed]",
      "text/plain": [
       "<Figure size 720x360 with 1 Axes>"
      ]
     },
     "metadata": {
      "needs_background": "light"
     },
     "output_type": "display_data"
    }
   ],
   "source": [
    "plt.figure(figsize=(10, 5))\n",
    "bank_y.age.hist(alpha=0.8)\n",
    "#plt.grid(False)\n",
    "plt.title('Subscribed People\\'s Age')\n",
    "plt.ylabel('Total Amount of People')\n",
    "plt.xlabel('Age')\n",
    "plt.show()"
   ]
  },
  {
   "cell_type": "code",
   "execution_count": 33,
   "metadata": {},
   "outputs": [
    {
     "data": {
      "text/html": [
       "<div>\n",
       "<style scoped>\n",
       "    .dataframe tbody tr th:only-of-type {\n",
       "        vertical-align: middle;\n",
       "    }\n",
       "\n",
       "    .dataframe tbody tr th {\n",
       "        vertical-align: top;\n",
       "    }\n",
       "\n",
       "    .dataframe thead th {\n",
       "        text-align: right;\n",
       "    }\n",
       "</style>\n",
       "<table border=\"1\" class=\"dataframe\">\n",
       "  <thead>\n",
       "    <tr style=\"text-align: right;\">\n",
       "      <th></th>\n",
       "      <th>age</th>\n",
       "      <th>job</th>\n",
       "      <th>marital</th>\n",
       "      <th>education</th>\n",
       "      <th>default</th>\n",
       "      <th>housing</th>\n",
       "      <th>loan</th>\n",
       "      <th>contact</th>\n",
       "      <th>month</th>\n",
       "      <th>day_of_week</th>\n",
       "      <th>...</th>\n",
       "      <th>campaign</th>\n",
       "      <th>pdays</th>\n",
       "      <th>previous</th>\n",
       "      <th>poutcome</th>\n",
       "      <th>emp.var.rate</th>\n",
       "      <th>cons.price.idx</th>\n",
       "      <th>cons.conf.idx</th>\n",
       "      <th>euribor3m</th>\n",
       "      <th>nr.employed</th>\n",
       "      <th>y</th>\n",
       "    </tr>\n",
       "  </thead>\n",
       "  <tbody>\n",
       "    <tr>\n",
       "      <th>0</th>\n",
       "      <td>56</td>\n",
       "      <td>housemaid</td>\n",
       "      <td>married</td>\n",
       "      <td>basic.4y</td>\n",
       "      <td>no</td>\n",
       "      <td>no</td>\n",
       "      <td>no</td>\n",
       "      <td>telephone</td>\n",
       "      <td>may</td>\n",
       "      <td>mon</td>\n",
       "      <td>...</td>\n",
       "      <td>1</td>\n",
       "      <td>999</td>\n",
       "      <td>0</td>\n",
       "      <td>nonexistent</td>\n",
       "      <td>1.1</td>\n",
       "      <td>93.994</td>\n",
       "      <td>-36.4</td>\n",
       "      <td>4.857</td>\n",
       "      <td>5191.0</td>\n",
       "      <td>no</td>\n",
       "    </tr>\n",
       "    <tr>\n",
       "      <th>1</th>\n",
       "      <td>57</td>\n",
       "      <td>services</td>\n",
       "      <td>married</td>\n",
       "      <td>high.school</td>\n",
       "      <td>unknown</td>\n",
       "      <td>no</td>\n",
       "      <td>no</td>\n",
       "      <td>telephone</td>\n",
       "      <td>may</td>\n",
       "      <td>mon</td>\n",
       "      <td>...</td>\n",
       "      <td>1</td>\n",
       "      <td>999</td>\n",
       "      <td>0</td>\n",
       "      <td>nonexistent</td>\n",
       "      <td>1.1</td>\n",
       "      <td>93.994</td>\n",
       "      <td>-36.4</td>\n",
       "      <td>4.857</td>\n",
       "      <td>5191.0</td>\n",
       "      <td>no</td>\n",
       "    </tr>\n",
       "    <tr>\n",
       "      <th>2</th>\n",
       "      <td>37</td>\n",
       "      <td>services</td>\n",
       "      <td>married</td>\n",
       "      <td>high.school</td>\n",
       "      <td>no</td>\n",
       "      <td>yes</td>\n",
       "      <td>no</td>\n",
       "      <td>telephone</td>\n",
       "      <td>may</td>\n",
       "      <td>mon</td>\n",
       "      <td>...</td>\n",
       "      <td>1</td>\n",
       "      <td>999</td>\n",
       "      <td>0</td>\n",
       "      <td>nonexistent</td>\n",
       "      <td>1.1</td>\n",
       "      <td>93.994</td>\n",
       "      <td>-36.4</td>\n",
       "      <td>4.857</td>\n",
       "      <td>5191.0</td>\n",
       "      <td>no</td>\n",
       "    </tr>\n",
       "    <tr>\n",
       "      <th>3</th>\n",
       "      <td>40</td>\n",
       "      <td>admin.</td>\n",
       "      <td>married</td>\n",
       "      <td>basic.6y</td>\n",
       "      <td>no</td>\n",
       "      <td>no</td>\n",
       "      <td>no</td>\n",
       "      <td>telephone</td>\n",
       "      <td>may</td>\n",
       "      <td>mon</td>\n",
       "      <td>...</td>\n",
       "      <td>1</td>\n",
       "      <td>999</td>\n",
       "      <td>0</td>\n",
       "      <td>nonexistent</td>\n",
       "      <td>1.1</td>\n",
       "      <td>93.994</td>\n",
       "      <td>-36.4</td>\n",
       "      <td>4.857</td>\n",
       "      <td>5191.0</td>\n",
       "      <td>no</td>\n",
       "    </tr>\n",
       "    <tr>\n",
       "      <th>4</th>\n",
       "      <td>56</td>\n",
       "      <td>services</td>\n",
       "      <td>married</td>\n",
       "      <td>high.school</td>\n",
       "      <td>no</td>\n",
       "      <td>no</td>\n",
       "      <td>yes</td>\n",
       "      <td>telephone</td>\n",
       "      <td>may</td>\n",
       "      <td>mon</td>\n",
       "      <td>...</td>\n",
       "      <td>1</td>\n",
       "      <td>999</td>\n",
       "      <td>0</td>\n",
       "      <td>nonexistent</td>\n",
       "      <td>1.1</td>\n",
       "      <td>93.994</td>\n",
       "      <td>-36.4</td>\n",
       "      <td>4.857</td>\n",
       "      <td>5191.0</td>\n",
       "      <td>no</td>\n",
       "    </tr>\n",
       "  </tbody>\n",
       "</table>\n",
       "<p>5 rows × 21 columns</p>\n",
       "</div>"
      ],
      "text/plain": [
       "   age        job  marital    education  default housing loan    contact  \\\n",
       "0   56  housemaid  married     basic.4y       no      no   no  telephone   \n",
       "1   57   services  married  high.school  unknown      no   no  telephone   \n",
       "2   37   services  married  high.school       no     yes   no  telephone   \n",
       "3   40     admin.  married     basic.6y       no      no   no  telephone   \n",
       "4   56   services  married  high.school       no      no  yes  telephone   \n",
       "\n",
       "  month day_of_week ...  campaign  pdays  previous     poutcome emp.var.rate  \\\n",
       "0   may         mon ...         1    999         0  nonexistent          1.1   \n",
       "1   may         mon ...         1    999         0  nonexistent          1.1   \n",
       "2   may         mon ...         1    999         0  nonexistent          1.1   \n",
       "3   may         mon ...         1    999         0  nonexistent          1.1   \n",
       "4   may         mon ...         1    999         0  nonexistent          1.1   \n",
       "\n",
       "   cons.price.idx  cons.conf.idx  euribor3m  nr.employed   y  \n",
       "0          93.994          -36.4      4.857       5191.0  no  \n",
       "1          93.994          -36.4      4.857       5191.0  no  \n",
       "2          93.994          -36.4      4.857       5191.0  no  \n",
       "3          93.994          -36.4      4.857       5191.0  no  \n",
       "4          93.994          -36.4      4.857       5191.0  no  \n",
       "\n",
       "[5 rows x 21 columns]"
      ]
     },
     "execution_count": 33,
     "metadata": {},
     "output_type": "execute_result"
    }
   ],
   "source": [
    "bank.head()"
   ]
  },
  {
   "cell_type": "code",
   "execution_count": 34,
   "metadata": {
    "scrolled": false
   },
   "outputs": [
    {
     "data": {
      "image/png": "[encoded data removed]",
      "text/plain": [
       "<Figure size 720x360 with 1 Axes>"
      ]
     },
     "metadata": {
      "needs_background": "light"
     },
     "output_type": "display_data"
    }
   ],
   "source": [
    "age_bank_comp = [bank_y.age, bank_n.age]\n",
    "\n",
    "plt.figure(figsize=(10, 5))\n",
    "plt.boxplot(age_bank_comp)\n",
    "plt.title('Population Age')\n",
    "plt.xticks([1,2], ['Subscribed', 'Didn\\'t Subscribe'])\n",
    "plt.ylabel('Age')\n",
    "plt.show()"
   ]
  },
  {
   "cell_type": "code",
   "execution_count": 35,
   "metadata": {},
   "outputs": [
    {
     "name": "stdout",
     "output_type": "stream",
     "text": [
      "Age Subscribed\n",
      "count    4640.000000\n",
      "mean       40.913147\n",
      "std        13.837476\n",
      "min        17.000000\n",
      "25%        31.000000\n",
      "50%        37.000000\n",
      "75%        50.000000\n",
      "max        98.000000\n",
      "Name: age, dtype: float64\n"
     ]
    }
   ],
   "source": [
    "print('Age Subscribed')\n",
    "print(bank_y.age.describe())"
   ]
  },
  {
   "cell_type": "code",
   "execution_count": 36,
   "metadata": {},
   "outputs": [
    {
     "name": "stdout",
     "output_type": "stream",
     "text": [
      "Age Didn't Subscribe\n",
      "count    36548.000000\n",
      "mean        39.911185\n",
      "std          9.898132\n",
      "min         17.000000\n",
      "25%         32.000000\n",
      "50%         38.000000\n",
      "75%         47.000000\n",
      "max         95.000000\n",
      "Name: age, dtype: float64\n"
     ]
    }
   ],
   "source": [
    "print('Age Didn\\'t Subscribe')\n",
    "print(bank_n.age.describe())"
   ]
  },
  {
   "cell_type": "markdown",
   "metadata": {},
   "source": [
    "#### Call duration over subscribing\n",
    "- There seems to be a high correlation with longer calls and of client subscribing. \n",
    "- The median duration of calls in the subscribed data sample is of 449 seconds, while the median in the \n",
    "    dataset is only 163, which is the less than the lower quartile of subscribed data sample."
   ]
  },
  {
   "cell_type": "code",
   "execution_count": 37,
   "metadata": {
    "scrolled": true
   },
   "outputs": [
    {
     "data": {
      "image/png": "[encoded data removed]",
      "text/plain": [
       "<Figure size 720x360 with 1 Axes>"
      ]
     },
     "metadata": {
      "needs_background": "light"
     },
     "output_type": "display_data"
    }
   ],
   "source": [
    "duration_comp = [bank_y.duration, bank_n.duration]\n",
    "plt.figure(figsize=(10, 5))\n",
    "plt.boxplot(duration_comp)\n",
    "plt.title('Call Duration')\n",
    "plt.xticks([1,2], ['Subscribed', 'Didn\\'t Subscribe'])\n",
    "plt.ylabel('Duration in seconds')\n",
    "plt.show()"
   ]
  },
  {
   "cell_type": "code",
   "execution_count": 38,
   "metadata": {},
   "outputs": [
    {
     "name": "stdout",
     "output_type": "stream",
     "text": [
      "Duration Subscribed\n",
      "count    4640.000000\n",
      "mean      553.191164\n",
      "std       401.171871\n",
      "min        37.000000\n",
      "25%       253.000000\n",
      "50%       449.000000\n",
      "75%       741.250000\n",
      "max      4199.000000\n",
      "Name: duration, dtype: float64\n"
     ]
    }
   ],
   "source": [
    "print('Duration Subscribed')\n",
    "print(bank_y.duration.describe())"
   ]
  },
  {
   "cell_type": "code",
   "execution_count": 39,
   "metadata": {},
   "outputs": [
    {
     "name": "stdout",
     "output_type": "stream",
     "text": [
      "Duration Didn't Subscribe\n",
      "count    36548.000000\n",
      "mean       220.844807\n",
      "std        207.096293\n",
      "min          0.000000\n",
      "25%         95.000000\n",
      "50%        163.500000\n",
      "75%        279.000000\n",
      "max       4918.000000\n",
      "Name: duration, dtype: float64\n"
     ]
    }
   ],
   "source": [
    "print('Duration Didn\\'t Subscribe')\n",
    "print(bank_n.duration.describe())"
   ]
  },
  {
   "cell_type": "markdown",
   "metadata": {},
   "source": [
    "### Number of calls over subscribing\n",
    "- Most clients subscribed with less than 2 calls. \n",
    "    - With the scatterplot we can see that the amount of subscribers decline significantly when more \n",
    "        than 2 calls were made."
   ]
  },
  {
   "cell_type": "code",
   "execution_count": 40,
   "metadata": {},
   "outputs": [
    {
     "data": {
      "image/png": "[encoded data removed]",
      "text/plain": [
       "<Figure size 720x360 with 1 Axes>"
      ]
     },
     "metadata": {
      "needs_background": "light"
     },
     "output_type": "display_data"
    }
   ],
   "source": [
    "number_calls = [bank_y.campaign, bank_n.campaign[bank_n.campaign < 30]]\n",
    "plt.figure(figsize=(10, 5))\n",
    "plt.boxplot(number_calls)\n",
    "plt.title('Number of Calls')\n",
    "plt.xticks([1,2], ['Subscribed', 'Didn\\'t Subscribe'])\n",
    "plt.ylabel('Total Calls')\n",
    "plt.show()"
   ]
  },
  {
   "cell_type": "code",
   "execution_count": 41,
   "metadata": {},
   "outputs": [
    {
     "name": "stdout",
     "output_type": "stream",
     "text": [
      "Number of Calls Subscribed\n",
      "count    4640.000000\n",
      "mean        2.051724\n",
      "std         1.666245\n",
      "min         1.000000\n",
      "25%         1.000000\n",
      "50%         2.000000\n",
      "75%         2.000000\n",
      "max        23.000000\n",
      "Name: campaign, dtype: float64\n"
     ]
    }
   ],
   "source": [
    "print('Number of Calls Subscribed')\n",
    "print(bank_y.campaign.describe())"
   ]
  },
  {
   "cell_type": "code",
   "execution_count": 42,
   "metadata": {},
   "outputs": [
    {
     "name": "stdout",
     "output_type": "stream",
     "text": [
      "Number of Calls Didn't Subscribe\n",
      "count    36548.000000\n",
      "mean         2.633085\n",
      "std          2.873438\n",
      "min          1.000000\n",
      "25%          1.000000\n",
      "50%          2.000000\n",
      "75%          3.000000\n",
      "max         56.000000\n",
      "Name: campaign, dtype: float64\n"
     ]
    }
   ],
   "source": [
    "print('Number of Calls Didn\\'t Subscribe')\n",
    "print(bank_n.campaign.describe())"
   ]
  },
  {
   "cell_type": "code",
   "execution_count": 43,
   "metadata": {},
   "outputs": [
    {
     "data": {
      "image/png": "[encoded data removed]",
      "text/plain": [
       "<Figure size 720x360 with 1 Axes>"
      ]
     },
     "metadata": {
      "needs_background": "light"
     },
     "output_type": "display_data"
    }
   ],
   "source": [
    "plt.figure(figsize=(10, 5))\n",
    "bank_y.campaign.hist(grid=False)\n",
    "plt.title('Subscribed & Number of Calls')\n",
    "plt.xlabel('Number of Calls')\n",
    "plt.ylabel('Total Amount')\n",
    "plt.show()"
   ]
  },
  {
   "cell_type": "markdown",
   "metadata": {},
   "source": [
    "### Number of days passed by after client was last contact over subscribing\n",
    "- Most of the clients who have signed up were not contacted previously.\n",
    "    - 999 means that they were not contacted previously by the bank.\n",
    "- If the client has been contacted by the bank previously, the ideal time to contact a client is after 3-6 \n",
    "    from the last campaign.\n",
    "    - Contacting a lead 1 day after, seems to decrease chance of subscribing"
   ]
  },
  {
   "cell_type": "code",
   "execution_count": 44,
   "metadata": {},
   "outputs": [
    {
     "data": {
      "text/plain": [
       "999    79.159483\n",
       "3       6.422414\n",
       "6       6.228448\n",
       "4       1.357759\n",
       "7       0.862069\n",
       "2       0.797414\n",
       "9       0.754310\n",
       "10      0.646552\n",
       "5       0.625000\n",
       "13      0.603448\n",
       "Name: pdays, dtype: float64"
      ]
     },
     "execution_count": 44,
     "metadata": {},
     "output_type": "execute_result"
    }
   ],
   "source": [
    "bank_y.pdays.value_counts(normalize=True).head(10)*100"
   ]
  },
  {
   "cell_type": "code",
   "execution_count": 45,
   "metadata": {},
   "outputs": [
    {
     "data": {
      "image/png": "[encoded data removed]",
      "text/plain": [
       "<Figure size 720x360 with 1 Axes>"
      ]
     },
     "metadata": {
      "needs_background": "light"
     },
     "output_type": "display_data"
    }
   ],
   "source": [
    "pdays_comp = [bank_y.pdays[bank_y.pdays != 999], bank_n.pdays[bank_n.pdays != 999]]\n",
    "plt.figure(figsize=(10, 5))\n",
    "plt.boxplot(pdays_comp)\n",
    "plt.title('Days Passed After Last Campaign')\n",
    "plt.xticks([1,2], ['Subscribed', 'Didn\\'t Subscribe'])\n",
    "plt.ylabel('Days Passed By')\n",
    "plt.show()"
   ]
  },
  {
   "cell_type": "code",
   "execution_count": 46,
   "metadata": {},
   "outputs": [
    {
     "name": "stdout",
     "output_type": "stream",
     "text": [
      "Days passed after last campaign Subscribed\n",
      "count    967.000000\n",
      "mean       5.913133\n",
      "std        3.727896\n",
      "min        0.000000\n",
      "25%        3.000000\n",
      "50%        6.000000\n",
      "75%        6.000000\n",
      "max       27.000000\n",
      "Name: pdays, dtype: float64\n"
     ]
    }
   ],
   "source": [
    "print('Days passed after last campaign Subscribed')\n",
    "print(bank_y.pdays[bank_y.pdays != 999].describe())"
   ]
  },
  {
   "cell_type": "code",
   "execution_count": 47,
   "metadata": {},
   "outputs": [
    {
     "name": "stdout",
     "output_type": "stream",
     "text": [
      "Days passed after last campaign Didn't Subscribe\n",
      "count    548.000000\n",
      "mean       6.193431\n",
      "std        3.987525\n",
      "min        0.000000\n",
      "25%        3.000000\n",
      "50%        6.000000\n",
      "75%        9.000000\n",
      "max       22.000000\n",
      "Name: pdays, dtype: float64\n"
     ]
    }
   ],
   "source": [
    "print('Days passed after last campaign Didn\\'t Subscribe')\n",
    "print(bank_n.pdays[bank_n.pdays != 999].describe())"
   ]
  },
  {
   "cell_type": "markdown",
   "metadata": {},
   "source": [
    "### If client has previously subscribed to a campaign over subscribing (current campaign)\n",
    "- Most of the signups came from those who were not offered anything previously.\n",
    "- 65% of the clients that have previously subscribed to a campaign have enrolled in the current campaign."
   ]
  },
  {
   "cell_type": "code",
   "execution_count": 48,
   "metadata": {},
   "outputs": [
    {
     "data": {
      "text/plain": [
       "nonexistent    3141\n",
       "success         894\n",
       "failure         605\n",
       "Name: poutcome, dtype: int64"
      ]
     },
     "execution_count": 48,
     "metadata": {},
     "output_type": "execute_result"
    }
   ],
   "source": [
    "bank_y.poutcome.value_counts()"
   ]
  },
  {
   "cell_type": "code",
   "execution_count": 49,
   "metadata": {},
   "outputs": [
    {
     "data": {
      "text/plain": [
       "failure        14.228598\n",
       "nonexistent     8.832213\n",
       "success        65.112891\n",
       "Name: poutcome, dtype: float64"
      ]
     },
     "execution_count": 49,
     "metadata": {},
     "output_type": "execute_result"
    }
   ],
   "source": [
    "percentage(bank_y, 'poutcome', bank)"
   ]
  },
  {
   "cell_type": "markdown",
   "metadata": {},
   "source": [
    "## ***Exploring Economic Indicator Variables***"
   ]
  },
  {
   "cell_type": "markdown",
   "metadata": {},
   "source": [
    "### Employment variation rate (Quaterly Indicator) over subscribing\n",
    "- The lower the employment variation rate the more subscribers. "
   ]
  },
  {
   "cell_type": "code",
   "execution_count": 50,
   "metadata": {},
   "outputs": [
    {
     "data": {
      "image/png": "[encoded data removed]",
      "text/plain": [
       "<Figure size 720x360 with 1 Axes>"
      ]
     },
     "metadata": {
      "needs_background": "light"
     },
     "output_type": "display_data"
    }
   ],
   "source": [
    "plt.figure(figsize=(10, 5))\n",
    "bank_y['emp.var.rate'].hist(bins=5, grid=False)\n",
    "plt.title('Employment Variation Impact on Subscription')\n",
    "plt.ylabel('Employment Variation Rate')\n",
    "plt.xlabel('Amount of Subscribers')\n",
    "plt.show()"
   ]
  },
  {
   "cell_type": "code",
   "execution_count": 51,
   "metadata": {},
   "outputs": [
    {
     "data": {
      "image/png": "[encoded data removed]",
      "text/plain": [
       "<Figure size 720x360 with 1 Axes>"
      ]
     },
     "metadata": {
      "needs_background": "light"
     },
     "output_type": "display_data"
    }
   ],
   "source": [
    "emp_var_comp = [bank_y['emp.var.rate'], bank_n['emp.var.rate']]\n",
    "plt.figure(figsize=(10, 5))\n",
    "plt.boxplot(emp_var_comp)\n",
    "plt.title('Employment Variation Rate')\n",
    "plt.xticks([1,2], ['Subscribed', 'Didn\\'t Subscribe'])\n",
    "plt.ylabel('Employment Variation Rate')\n",
    "plt.show()"
   ]
  },
  {
   "cell_type": "code",
   "execution_count": 52,
   "metadata": {},
   "outputs": [
    {
     "name": "stdout",
     "output_type": "stream",
     "text": [
      "Employment Variation Rate Subscribed\n",
      "count    4640.000000\n",
      "mean       -1.233448\n",
      "std         1.623626\n",
      "min        -3.400000\n",
      "25%        -1.800000\n",
      "50%        -1.800000\n",
      "75%        -0.100000\n",
      "max         1.400000\n",
      "Name: emp.var.rate, dtype: float64\n"
     ]
    }
   ],
   "source": [
    "print('Employment Variation Rate Subscribed')\n",
    "print(bank_y['emp.var.rate'].describe())"
   ]
  },
  {
   "cell_type": "code",
   "execution_count": 53,
   "metadata": {},
   "outputs": [
    {
     "name": "stdout",
     "output_type": "stream",
     "text": [
      "Employment Variation Rate Didn't Subscribe\n",
      "count    36548.000000\n",
      "mean         0.248875\n",
      "std          1.482932\n",
      "min         -3.400000\n",
      "25%         -1.800000\n",
      "50%          1.100000\n",
      "75%          1.400000\n",
      "max          1.400000\n",
      "Name: emp.var.rate, dtype: float64\n"
     ]
    }
   ],
   "source": [
    "print('Employment Variation Rate Didn\\'t Subscribe')\n",
    "print(bank_n['emp.var.rate'].describe())"
   ]
  },
  {
   "cell_type": "markdown",
   "metadata": {},
   "source": [
    "### Consumer price index (Monthly Indicator) over subscribing\n",
    "- There seems to be a small correlation with lower Consumer Price Index and subscribing"
   ]
  },
  {
   "cell_type": "code",
   "execution_count": 54,
   "metadata": {},
   "outputs": [
    {
     "data": {
      "text/plain": [
       "92.201    264\n",
       "92.379    106\n",
       "92.431    180\n",
       "92.469     66\n",
       "92.649    168\n",
       "Name: cons.price.idx, dtype: int64"
      ]
     },
     "execution_count": 54,
     "metadata": {},
     "output_type": "execute_result"
    }
   ],
   "source": [
    "consumer_idx = bank_y['cons.price.idx'].value_counts().sort_index()\n",
    "consumer_idx.head()"
   ]
  },
  {
   "cell_type": "code",
   "execution_count": 55,
   "metadata": {},
   "outputs": [
    {
     "data": {
      "image/png": "[encoded data removed]",
      "text/plain": [
       "<Figure size 720x360 with 1 Axes>"
      ]
     },
     "metadata": {
      "needs_background": "light"
     },
     "output_type": "display_data"
    }
   ],
   "source": [
    "consumer_idx = [bank_y['cons.price.idx'], bank_n['cons.price.idx']]\n",
    "plt.figure(figsize=(10, 5))\n",
    "plt.boxplot(consumer_idx)\n",
    "plt.title('Consumer Price Index Impact on Subscription')\n",
    "plt.xticks([1,2], ['Subscribed', 'Didn\\'t Subscribe'])\n",
    "plt.ylabel('Consumer Price Index')\n",
    "plt.show()"
   ]
  },
  {
   "cell_type": "code",
   "execution_count": 56,
   "metadata": {},
   "outputs": [
    {
     "name": "stdout",
     "output_type": "stream",
     "text": [
      "Consumer Price Index Subscribed\n",
      "count    4640.000000\n",
      "mean       93.354386\n",
      "std         0.676644\n",
      "min        92.201000\n",
      "25%        92.893000\n",
      "50%        93.200000\n",
      "75%        93.918000\n",
      "max        94.767000\n",
      "Name: cons.price.idx, dtype: float64\n"
     ]
    }
   ],
   "source": [
    "print('Consumer Price Index Subscribed')\n",
    "print(bank_y['cons.price.idx'].describe())"
   ]
  },
  {
   "cell_type": "code",
   "execution_count": 57,
   "metadata": {},
   "outputs": [
    {
     "name": "stdout",
     "output_type": "stream",
     "text": [
      "Consumer Price Index Didn't Subscribe\n",
      "count    36548.000000\n",
      "mean        93.603757\n",
      "std          0.558993\n",
      "min         92.201000\n",
      "25%         93.075000\n",
      "50%         93.918000\n",
      "75%         93.994000\n",
      "max         94.767000\n",
      "Name: cons.price.idx, dtype: float64\n"
     ]
    }
   ],
   "source": [
    "print('Consumer Price Index Didn\\'t Subscribe')\n",
    "print(bank_n['cons.price.idx'].describe())"
   ]
  },
  {
   "cell_type": "markdown",
   "metadata": {},
   "source": [
    "### Consumer confidence index (Monthly Indicator) over subscribing"
   ]
  },
  {
   "cell_type": "code",
   "execution_count": 58,
   "metadata": {
    "scrolled": true
   },
   "outputs": [
    {
     "data": {
      "text/plain": [
       "-50.8    45.312500\n",
       "-50.0    44.680851\n",
       "-49.5    45.588235\n",
       "-47.1    17.982099\n",
       "-46.2     9.043838\n",
       "Name: cons.conf.idx, dtype: float64"
      ]
     },
     "execution_count": 58,
     "metadata": {},
     "output_type": "execute_result"
    }
   ],
   "source": [
    "percentage(bank_y, 'cons.conf.idx', bank).head()"
   ]
  },
  {
   "cell_type": "code",
   "execution_count": 59,
   "metadata": {},
   "outputs": [
    {
     "data": {
      "image/png": "[encoded data removed]",
      "text/plain": [
       "<Figure size 720x360 with 1 Axes>"
      ]
     },
     "metadata": {
      "needs_background": "light"
     },
     "output_type": "display_data"
    }
   ],
   "source": [
    "consumer_conf_idx = [bank_y['cons.conf.idx'], bank_n['cons.conf.idx']]\n",
    "plt.figure(figsize=(10, 5))\n",
    "plt.boxplot(consumer_conf_idx)\n",
    "plt.title('Consumer Confidence Index')\n",
    "plt.xticks([1,2], ['Subscribed', 'Didn\\'t Subscribe'])\n",
    "plt.show()"
   ]
  },
  {
   "cell_type": "code",
   "execution_count": 60,
   "metadata": {},
   "outputs": [
    {
     "name": "stdout",
     "output_type": "stream",
     "text": [
      "Consumer Confidence Index Subscribed\n",
      "count    4640.000000\n",
      "mean      -39.789784\n",
      "std         6.139668\n",
      "min       -50.800000\n",
      "25%       -46.200000\n",
      "50%       -40.400000\n",
      "75%       -36.100000\n",
      "max       -26.900000\n",
      "Name: cons.conf.idx, dtype: float64\n"
     ]
    }
   ],
   "source": [
    "print('Consumer Confidence Index Subscribed')\n",
    "print(bank_y['cons.conf.idx'].describe())"
   ]
  },
  {
   "cell_type": "code",
   "execution_count": 61,
   "metadata": {},
   "outputs": [
    {
     "name": "stdout",
     "output_type": "stream",
     "text": [
      "Consumer Confidence Index Didn't Subscribe\n",
      "count    36548.000000\n",
      "mean       -40.593097\n",
      "std          4.391155\n",
      "min        -50.800000\n",
      "25%        -42.700000\n",
      "50%        -41.800000\n",
      "75%        -36.400000\n",
      "max        -26.900000\n",
      "Name: cons.conf.idx, dtype: float64\n"
     ]
    }
   ],
   "source": [
    "print('Consumer Confidence Index Didn\\'t Subscribe')\n",
    "print(bank_n['cons.conf.idx'].describe())"
   ]
  },
  {
   "cell_type": "markdown",
   "metadata": {},
   "source": [
    "### Interest rate (Daily Indicator) over subscribing\n",
    "- There boxplot shows that there were more subscribers when interest rates were low.\n",
    "- Since the program is offering 'attractive interest rates' as you deposit money into the bank, it \n",
    "    makes sense the lower the interest rate of the Central Bank the more appealing the interest bank \n",
    "    from the bank will be."
   ]
  },
  {
   "cell_type": "code",
   "execution_count": 62,
   "metadata": {},
   "outputs": [
    {
     "data": {
      "image/png": "[encoded data removed]",
      "text/plain": [
       "<Figure size 720x360 with 1 Axes>"
      ]
     },
     "metadata": {
      "needs_background": "light"
     },
     "output_type": "display_data"
    }
   ],
   "source": [
    "int_rate_comp = [bank_y['euribor3m'], bank_n['euribor3m']]\n",
    "\n",
    "plt.figure(figsize=(10, 5))\n",
    "plt.boxplot(int_rate_comp)\n",
    "plt.title('Interest Rate Impact on Subscribing')\n",
    "plt.xticks([1,2], ['Subscribed', 'Didn\\'t Subscribe'])\n",
    "plt.ylabel('Interest Rates')\n",
    "plt.show()"
   ]
  },
  {
   "cell_type": "code",
   "execution_count": 63,
   "metadata": {},
   "outputs": [
    {
     "name": "stdout",
     "output_type": "stream",
     "text": [
      "Euribor Interbank Rate (Interest Rate) Subscribed\n",
      "count    4640.000000\n",
      "mean        2.123135\n",
      "std         1.742598\n",
      "min         0.634000\n",
      "25%         0.849000\n",
      "50%         1.266000\n",
      "75%         4.406000\n",
      "max         5.045000\n",
      "Name: euribor3m, dtype: float64\n"
     ]
    }
   ],
   "source": [
    "print('Euribor Interbank Rate (Interest Rate) Subscribed')\n",
    "print(bank_y['euribor3m'].describe())"
   ]
  },
  {
   "cell_type": "code",
   "execution_count": 64,
   "metadata": {},
   "outputs": [
    {
     "name": "stdout",
     "output_type": "stream",
     "text": [
      "Euribor Interbank Rate (Interest Rate) Didn't Subscribe\n",
      "count    36548.000000\n",
      "mean         3.811491\n",
      "std          1.638187\n",
      "min          0.634000\n",
      "25%          1.405000\n",
      "50%          4.857000\n",
      "75%          4.962000\n",
      "max          5.045000\n",
      "Name: euribor3m, dtype: float64\n"
     ]
    }
   ],
   "source": [
    "print('Euribor Interbank Rate (Interest Rate) Didn\\'t Subscribe')\n",
    "print(bank_n['euribor3m'].describe())"
   ]
  },
  {
   "cell_type": "markdown",
   "metadata": {},
   "source": [
    "### Employment  number (Quaterly Indicator) over subscribing\n",
    "- The lower the employment number is, the more subscribers."
   ]
  },
  {
   "cell_type": "code",
   "execution_count": 65,
   "metadata": {},
   "outputs": [
    {
     "data": {
      "image/png": "[encoded data removed]",
      "text/plain": [
       "<Figure size 720x360 with 1 Axes>"
      ]
     },
     "metadata": {
      "needs_background": "light"
     },
     "output_type": "display_data"
    }
   ],
   "source": [
    "employed_comp = [bank_y['nr.employed'], bank_n['nr.employed']]\n",
    "plt.figure(figsize=(10, 5))\n",
    "plt.boxplot(employed_comp)\n",
    "plt.title('Employed Number Impact on Subscribing')\n",
    "plt.xticks([1,2], ['Subscribed', 'Didn\\'t Subscribe'])\n",
    "plt.ylabel('Employed Number')\n",
    "plt.show()"
   ]
  },
  {
   "cell_type": "code",
   "execution_count": 66,
   "metadata": {},
   "outputs": [
    {
     "name": "stdout",
     "output_type": "stream",
     "text": [
      "Employment Number Subscribed\n",
      "count    4640.000000\n",
      "mean     5095.115991\n",
      "std        87.572641\n",
      "min      4963.600000\n",
      "25%      5017.500000\n",
      "50%      5099.100000\n",
      "75%      5191.000000\n",
      "max      5228.100000\n",
      "Name: nr.employed, dtype: float64\n"
     ]
    }
   ],
   "source": [
    "print('Employment Number Subscribed')\n",
    "print(bank_y['nr.employed'].describe())"
   ]
  },
  {
   "cell_type": "code",
   "execution_count": 67,
   "metadata": {},
   "outputs": [
    {
     "name": "stdout",
     "output_type": "stream",
     "text": [
      "Employment Number Didn't Subscribe\n",
      "count    36548.000000\n",
      "mean      5176.166600\n",
      "std         64.571979\n",
      "min       4963.600000\n",
      "25%       5099.100000\n",
      "50%       5195.800000\n",
      "75%       5228.100000\n",
      "max       5228.100000\n",
      "Name: nr.employed, dtype: float64\n"
     ]
    }
   ],
   "source": [
    "print('Employment Number Didn\\'t Subscribe')\n",
    "print(bank_n['nr.employed'].describe())"
   ]
  },
  {
   "cell_type": "markdown",
   "metadata": {},
   "source": [
    "### Best & Worst Months Over Economic Indicators\n",
    "\n",
    "- To explore the economic indicator variables against months, I will build a new dataset with the variable month as datetime. By making month as datetime, it will be possible to analyze the variation of these economic indicators throughout time with a time series analysis plot. \n",
    "    - To build the time series analysis, I will use groupby on the month variable and get the average economic indicator for each month. \n",
    "        - Because of the outliers in each month, I chose to get the average of the economic indicators with the median.\n",
    "\n",
    "\n",
    "- Finally, I will compare the time series analysis with the subscribed rate of each month by displaying both graphs side by side.\n",
    "\n",
    "\n",
    "- Ps - I will be using the term best and worst months to describe the months that subscribed the most amount of clients and the least amount of clients, respectively.\n"
   ]
  },
  {
   "cell_type": "code",
   "execution_count": 68,
   "metadata": {},
   "outputs": [],
   "source": [
    "# Time Series Analysis\n",
    "\n",
    "\n",
    "bank_date = bank.copy()\n",
    "bank_date_y = bank_y.copy()\n",
    "\n",
    "# List of months   \n",
    "months = bank_y['month'].unique()\n",
    "\n",
    "# Replace the month column from string to integer\n",
    "i = 0\n",
    "for z in months:\n",
    "    month_number = datetime.datetime.strptime(z, '%b').month\n",
    "    bank_date['month'] = bank_date.month.replace(z, month_number)\n",
    "    bank_date_y['month'] = bank_date_y.month.replace(z, month_number)\n",
    "    #bank_date['month'] = bank_date.month.replace(z, pd.Timestamp(2010, month_number, 1))\n",
    "    \n",
    "# Get the average of subscribed per months (month as int)\n",
    "percentage_date = percentage(bank_date_y, 'month', bank_date) \n",
    "\n",
    "# Groupby dataset by getting the median of each economic indicator. \n",
    "bank_date = bank_date.groupby('month').median()     \n",
    "\n",
    "\n",
    "# List of months (string) organized from march to december\n",
    "months_s = ['march', 'april', 'may', 'june', 'july', 'aug', 'sep', 'oct', 'nov', 'dec']"
   ]
  },
  {
   "cell_type": "markdown",
   "metadata": {},
   "source": [
    "##### Interest Rates - Best & Worst Months\n",
    "- By looking at the two graphs below, we can see that there is a correlation between low interest rate and subscribed rate. \n",
    "    - The months with the lowest interest rates have the highest subscribed rate. \n",
    "\n",
    "\n",
    "- Outliers months:\n",
    "    - April had a low interest rate but had a subscribed rate lower than the 'best' months.\n"
   ]
  },
  {
   "cell_type": "code",
   "execution_count": 69,
   "metadata": {},
   "outputs": [
    {
     "data": {
      "image/png": "[encoded data removed]",
      "text/plain": [
       "<Figure size 576x360 with 2 Axes>"
      ]
     },
     "metadata": {
      "needs_background": "light"
     },
     "output_type": "display_data"
    }
   ],
   "source": [
    "plt.figure(figsize=(8, 5))\n",
    "plt.subplot(2,1,2)\n",
    "plt.bar(percentage_date.index, percentage_date.values)\n",
    "plt.ylabel('Subscribed Rate')\n",
    "plt.xticks(bank_date.index, months_s)\n",
    "plt.xlabel('Months')\n",
    "\n",
    "plt.subplot(2,1,1)\n",
    "bank_date['euribor3m'].plot()\n",
    "plt.xticks(bank_date.index, months_s)\n",
    "plt.ylabel('Interest Rate')\n",
    "\n",
    "plt.subplots_adjust(top=1.5, right=1)\n",
    "plt.show()"
   ]
  },
  {
   "cell_type": "markdown",
   "metadata": {},
   "source": [
    "##### Number Employed - Best & Worst Months\n",
    "- By looking at the two graphs below, we can see that there is a correlation between low number of employed and subscribed rate.\n",
    "    - The months with the lowest number of employed had the highest subscribed rate.\n",
    "\n",
    "\n",
    "- Interesting months:\n",
    "    - March and April had a relatively high number of employed but had a subscribed rate higher than the 'worst' months."
   ]
  },
  {
   "cell_type": "code",
   "execution_count": 85,
   "metadata": {},
   "outputs": [
    {
     "data": {
      "image/png": "[encoded data removed]",
      "text/plain": [
       "<Figure size 576x360 with 2 Axes>"
      ]
     },
     "metadata": {},
     "output_type": "display_data"
    }
   ],
   "source": [
    "plt.figure(figsize=(8, 5))\n",
    "plt.subplot(2,1,2)\n",
    "plt.bar(percentage_date.index, percentage_date.values)\n",
    "plt.ylabel('Subscribed Rate')\n",
    "plt.xticks(bank_date.index, months_s)\n",
    "plt.xlabel('Months')\n",
    "\n",
    "plt.subplot(2,1,1)\n",
    "bank_date['nr.employed'].plot()\n",
    "plt.xticks(bank_date.index, months_s)\n",
    "plt.ylabel('Number Employed')\n",
    "\n",
    "plt.subplots_adjust(top=1.5, right=1)\n",
    "plt.show()"
   ]
  },
  {
   "cell_type": "markdown",
   "metadata": {},
   "source": [
    "##### Employment Variation Rate - Best & Worst Months\n",
    "- By looking at the two graphs below, we can see that there is not much correlation between the two variables. For most of the months, the average of number of employed did not swing as much as the 'best' and 'worst' months."
   ]
  },
  {
   "cell_type": "code",
   "execution_count": 70,
   "metadata": {},
   "outputs": [
    {
     "data": {
      "image/png": "[encoded data removed]",
      "text/plain": [
       "<Figure size 576x360 with 2 Axes>"
      ]
     },
     "metadata": {
      "needs_background": "light"
     },
     "output_type": "display_data"
    }
   ],
   "source": [
    "plt.figure(figsize=(8, 5))\n",
    "plt.subplot(2,1,2)\n",
    "plt.bar(percentage_date.index, percentage_date.values)\n",
    "plt.ylabel('Subscribed Rate')\n",
    "plt.xticks(bank_date.index, months_s)\n",
    "plt.xlabel('Months')\n",
    "\n",
    "plt.subplot(2,1,1)\n",
    "bank_date['emp.var.rate'].plot()\n",
    "plt.xticks(bank_date.index, months_s)\n",
    "plt.ylabel('Number Employed')\n",
    "\n",
    "plt.subplots_adjust(top=1.5, right=1)\n",
    "plt.show()"
   ]
  },
  {
   "cell_type": "markdown",
   "metadata": {},
   "source": [
    "##### Consumer Price Index - Best & Worst Months\n",
    "- By looking at the two graphs below, we can see that there is not much correlation between the two variables. The consumer price index has great variation but it does not match with the 'best' and 'worst' subscribed rate months."
   ]
  },
  {
   "cell_type": "code",
   "execution_count": 87,
   "metadata": {},
   "outputs": [
    {
     "data": {
      "image/png": "[encoded data removed]",
      "text/plain": [
       "<Figure size 576x360 with 2 Axes>"
      ]
     },
     "metadata": {},
     "output_type": "display_data"
    }
   ],
   "source": [
    "plt.figure(figsize=(8, 5))\n",
    "plt.subplot(2,1,2)\n",
    "plt.bar(percentage_date.index, percentage_date.values)\n",
    "plt.ylabel('Subscribed Rate')\n",
    "plt.xticks(bank_date.index, months_s)\n",
    "plt.xlabel('Months')\n",
    "\n",
    "plt.subplot(2,1,1)\n",
    "bank_date['cons.price.idx'].plot()\n",
    "plt.xticks(bank_date.index, months_s)\n",
    "plt.ylabel('Consumer Price Index')\n",
    "\n",
    "plt.subplots_adjust(top=1.5, right=1)\n",
    "plt.show()"
   ]
  },
  {
   "cell_type": "markdown",
   "metadata": {},
   "source": [
    "##### Consumer Confidence Index - Best & Worst Months\n",
    "- By looking at the two graphs below, we can see that there might be a correlation between high consumer confidence index and subscribed rate.\n",
    "    - The months with high consumer confidence index have the highest subscribed rate.\n",
    "\n",
    "- Interesting months:\n",
    "    - April had a low consumer confidence index and relative high subscribed rate.\n",
    "    - October had the highest consumer confidence index and a high subscribed rate, while march had the lowest consumer confidence index and the highest subscribed rate."
   ]
  },
  {
   "cell_type": "code",
   "execution_count": 71,
   "metadata": {
    "scrolled": false
   },
   "outputs": [
    {
     "data": {
      "image/png": "[encoded data removed]",
      "text/plain": [
       "<Figure size 576x360 with 2 Axes>"
      ]
     },
     "metadata": {
      "needs_background": "light"
     },
     "output_type": "display_data"
    }
   ],
   "source": [
    "plt.figure(figsize=(8, 5))\n",
    "plt.subplot(2,1,2)\n",
    "plt.bar(percentage_date.index, percentage_date.values)\n",
    "plt.ylabel('Subscribed Rate')\n",
    "plt.xticks(bank_date.index, months_s)\n",
    "plt.xlabel('Months')\n",
    "\n",
    "plt.subplot(2,1,1)\n",
    "bank_date['cons.conf.idx'].plot()\n",
    "plt.xticks(bank_date.index, months_s)\n",
    "plt.ylabel('Consumer Confidence Index')\n",
    "\n",
    "plt.subplots_adjust(top=1.5, right=1)\n",
    "plt.show()"
   ]
  },
  {
   "cell_type": "code",
   "execution_count": null,
   "metadata": {},
   "outputs": [],
   "source": []
  },
  {
   "cell_type": "code",
   "execution_count": null,
   "metadata": {},
   "outputs": [],
   "source": []
  },
  {
   "cell_type": "code",
   "execution_count": null,
   "metadata": {},
   "outputs": [],
   "source": []
  },
  {
   "cell_type": "code",
   "execution_count": null,
   "metadata": {},
   "outputs": [],
   "source": []
  },
  {
   "cell_type": "code",
   "execution_count": null,
   "metadata": {},
   "outputs": [],
   "source": []
  },
  {
   "cell_type": "code",
   "execution_count": null,
   "metadata": {},
   "outputs": [],
   "source": []
  },
  {
   "cell_type": "code",
   "execution_count": null,
   "metadata": {},
   "outputs": [],
   "source": []
  }
 ],
 "metadata": {
  "kernelspec": {
   "display_name": "springboard",
   "language": "python",
   "name": "springboard"
  },
  "language_info": {
   "codemirror_mode": {
    "name": "ipython",
    "version": 3
   },
   "file_extension": ".py",
   "mimetype": "text/x-python",
   "name": "python",
   "nbconvert_exporter": "python",
   "pygments_lexer": "ipython3",
   "version": "3.6.6"
  }
 },
 "nbformat": 4,
 "nbformat_minor": 2
}
