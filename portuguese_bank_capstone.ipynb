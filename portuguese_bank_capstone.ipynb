{
 "cells": [
  {
   "cell_type": "code",
   "execution_count": 295,
   "metadata": {},
   "outputs": [
    {
     "name": "stdout",
     "output_type": "stream",
     "text": [
      "/Users/joaobecker\n"
     ]
    }
   ],
   "source": [
    "cd"
   ]
  },
  {
   "cell_type": "markdown",
   "metadata": {},
   "source": [
    "#  ***Bank Marketing Campaign - Exploratory Data Analysis*** \n",
    "    \n",
    "- In this part of the project, I will explore a Portuguese bank marketing campaign dataset with visualization techniques. The visualization techniques will help define the variables that are going to be used in the machine learning section. \n",
    "\n",
    "## Marketing Campaign Recap:\n",
    "\n",
    "-  The marketing campaign goal is to sell long-term deposits through telemarketing phone calls. The bank agents execute phone calls to a list of clients to see if they are interested in subscribing for a long-term deposit. The result is a binary answer, 'yes' or 'no.'\n",
    "    \n",
    "## The Dataset:\n",
    "\n",
    "-  The dataset is composed of 21 variables. There are 20 independent variables, ranging from numeric to categorical, such as job, marital status, month, amount of times the client was contacted, age and others. And 1 binary dependent variable, if client subscribed 'yes' or 'no'.\n",
    "\n",
    "\n",
    "## Findings:\n",
    "\n",
    " - The exploration analysis was able to identify  variables that have a meaningful impact in a client subscribing to a long-term deposit. These variables are: job category, type of contact, level of education, the month of the year, call duration, number of calls made, if they have previously subscribed to a campaign, if they have previously subscribed to a campaign, quarterly interest rate and quarterly number of employed.\n",
    "    \n",
    "    1. Job category - The categories with the highest subscribed rate were students (31%), retired (25%) and unemployed (14%). An interesting fact is that these are the categories of people that do not have a job.\n",
    "    \n",
    "    2. Type of contact - The most effective way to contact someone is definetely to their cellular rather than their telephone. The cellular total subscribed rate was 14.7%, while on telephone was only 5.2%. In addition, 83% of all subscribers came from calls on their cellular.\n",
    "    \n",
    "    3. Level of education - Most of the subscribers had at least a univerisity degree, and the total subscribed rate for those with university degree was 13.7%. Interestingly,the subscribed rate for illiterate people was an astonishingly 22%. However, it is not very significant as the sample size is very small, with a total of only 4 people subscribing. \n",
    "    \n",
    "    4. Month of the year - It was interesting to notice that some months had over 50% subscription rate, such as March, December and September. Also, May, the month with the highest amount of subscribers, had the worst subscription rate with only 6.4% subscribing to a long-term deposit.\n",
    "    \n",
    "    5. Call Duration - The duration of the call has a significant impact on subscribing a client. Most of the calls that didn't end up in subscription last at most 279 seconds, while the lower quartile of the calls that got people subscribed was 253 seconds. Therefore, the longer the agent stayed on the call with the client, the higher the chance on subscribing to a long-term deposit.\n",
    "    \n",
    "    6. Number of calls - Most clients subscribed with 2 calls or less, meaning that insisting on a client that has already said no, is a waste of time for the sales agents.\n",
    "    \n",
    "    7. Number of days passed by since last contact - 79.1% of the clients that have subscribed were never contacted by the bank. However, if they were previously contacted by the bank, the ideal time to contact is after 3 to 6 days, anything before or after that the probability is very low. \n",
    "    \n",
    "    8. If a client previously subscribed to a bank campaign - If a client previously subscribed to a campaign from this bank, there is a high chance of them subscribing again. 65% of those who have subscribed to a previous campaign, subscribed to the long-term deposit.\n",
    "    \n",
    "    9. Interest rate (Daily indicator) - There is a significant correlation that the lower the interbank interest rate is, the more subscribers. The reason why people subscribe during a lower interest rate might be because they want to take advantage of the long-term high-interest rate, while all the other banks are offering low-interest rate on their money.\n",
    "    \n",
    "    10. Number of employed (Quarterly indicator) - The fewer people employed in the economy, the more subscribers. Similar to what job category shows, the people that are most likely to subscribed are the people without a job. Thus, a higher number of unemployed people, the higher the subscribed rate.\n",
    "\n",
    "- Given the findings above, the next step is to use machine learning to identify how strong these correlations are and predict what clients are going to subscribe.\n",
    "\n",
    "\n",
    "## Machine Learning\n",
    "- This project makes use of three different machine learning models to predict what type of people are more likely to subscribe to a deposit at the Portuguese bank, the models are Logistic Regression, Random Forest and Gradient Boosting. Also, for each model we compare the difference between balanced and non-balanced data, to account for the imbalanced dataset.\n",
    "    - The dataset is imbalanced as the subscribed category represents only 11% of the entries. \n",
    "    \n",
    "### Models\n",
    " - To evaluate the best model for this marketing campaign, we will focus on three metrics: non-subscriber precision rate, subscriber recall rate and AUC.\n",
    "     - Why are we focusing on these metrics?\n",
    "         - The value of each customer is high for the bank, which means that the most important thing for the bank is to make sure that we can predict most of the people that are going to subscribe, even if it comes at a higher cost (lower AUC).\n",
    "         \n",
    "##### Logistic Regression         \n",
    "- Unbalanced - The model obtained a high AUC of 93.28%, a high non-subscribe precision rate of 93%, but only a 41% subscriber recall rate.\n",
    "- Balanced - After balancing our data we obtained an even better AUC of 93.6 %, a  non-subscriber precision rate of 98% and a subscriber recall rate of 89%.\n",
    "\n",
    "- Interesting observation - After balancing the data and running a grid search on the model to evaluate the best parameters, we changed from using l1 regularization to l2 regularization.\n",
    "\n",
    "\n",
    "##### Random Forest\n",
    "- Unbalanced - The model obtained a high AUC of 91.8%, a non-subscriber precision rate of 90% and only a 15% subscriber recall rate.\n",
    "- Balanced - After balancing our date we obtained a higher AUC of 93.06%, a high non-subscriber rate of 99% and an amazing subscriber recall rate of 95%.\n",
    "\n",
    "\n",
    "##### Gradient Boosting Classifier\n",
    "- Unbalanced - The model obtained a high AUC of 95%, a high non-subscriber precision rate of 94%, but only a 53% subscriber recall rate.\n",
    "- Balanced - After balancing the data, the AUC slightly decreased to 93%, the non-subscriber precision rate remained the same at 94%,  and subscriber recall rate went up to 56%.\n",
    "- Interesting observation - With the other two models, Logistic Regression and Random Forest, we were able to balance the data with the parameter class_weight. Since Gradient Boosting does not offer this feature, we balanced the data using the SMOTE function.\n",
    "\n",
    "#### Best Model:\n",
    "- The Gradient Boosting Classifier obtained the highest AUC value but performed poorly in predicting the actual subscribers. Logistic Regression and Random Forest performed similarly, but Random Forest performed better at the most important metrics, non-subscriber precision rate and subscriber recall rate, all at only a slight decrease in AUC.\n",
    "\n",
    "\n",
    "## Conclusion\n",
    "\n",
    "-  The best model for this dataset is the Random Forest Classification. The model has an accuracy of 99% when it predicts someone is not going to subscribe and can predict 95% of all the subscribers. By applying this model to the next campaign, the bank will increase efficiency, effectivity and the number of subscribers. The bank will improve efficiency and effectivity as it will need to contact only 30% of the entire list to obtain the same amount of subscribers, freeing 2068.5 hours from the sales department, saving the bank 28,339 Euros. In addition, the bank can increase the number of subscribers by creating a more enticing marketing campaign to those who are less likely not to subscribe. \n",
    "\n",
    "\n",
    "\n",
    "    \n",
    "## The Experiments and the Data:\n"
   ]
  },
  {
   "cell_type": "markdown",
   "metadata": {},
   "source": [
    "### Importing Libraries"
   ]
  },
  {
   "cell_type": "code",
   "execution_count": 296,
   "metadata": {},
   "outputs": [],
   "source": [
    "import matplotlib.pyplot as plt\n",
    "%matplotlib inline\n",
    "import pandas as pd\n",
    "import numpy as np\n",
    "import datetime \n",
    "import seaborn as sns\n",
    "sns.set()"
   ]
  },
  {
   "cell_type": "markdown",
   "metadata": {},
   "source": [
    "### Converting the dataset from CSV to Dataframe, using pandas."
   ]
  },
  {
   "cell_type": "code",
   "execution_count": 297,
   "metadata": {
    "scrolled": false
   },
   "outputs": [
    {
     "data": {
      "text/html": [
       "<div>\n",
       "<style scoped>\n",
       "    .dataframe tbody tr th:only-of-type {\n",
       "        vertical-align: middle;\n",
       "    }\n",
       "\n",
       "    .dataframe tbody tr th {\n",
       "        vertical-align: top;\n",
       "    }\n",
       "\n",
       "    .dataframe thead th {\n",
       "        text-align: right;\n",
       "    }\n",
       "</style>\n",
       "<table border=\"1\" class=\"dataframe\">\n",
       "  <thead>\n",
       "    <tr style=\"text-align: right;\">\n",
       "      <th></th>\n",
       "      <th>age</th>\n",
       "      <th>job</th>\n",
       "      <th>marital</th>\n",
       "      <th>education</th>\n",
       "      <th>default</th>\n",
       "      <th>housing</th>\n",
       "      <th>loan</th>\n",
       "      <th>contact</th>\n",
       "      <th>month</th>\n",
       "      <th>day_of_week</th>\n",
       "      <th>...</th>\n",
       "      <th>campaign</th>\n",
       "      <th>pdays</th>\n",
       "      <th>previous</th>\n",
       "      <th>poutcome</th>\n",
       "      <th>emp.var.rate</th>\n",
       "      <th>cons.price.idx</th>\n",
       "      <th>cons.conf.idx</th>\n",
       "      <th>euribor3m</th>\n",
       "      <th>nr.employed</th>\n",
       "      <th>y</th>\n",
       "    </tr>\n",
       "  </thead>\n",
       "  <tbody>\n",
       "    <tr>\n",
       "      <th>0</th>\n",
       "      <td>56</td>\n",
       "      <td>housemaid</td>\n",
       "      <td>married</td>\n",
       "      <td>basic.4y</td>\n",
       "      <td>no</td>\n",
       "      <td>no</td>\n",
       "      <td>no</td>\n",
       "      <td>telephone</td>\n",
       "      <td>may</td>\n",
       "      <td>mon</td>\n",
       "      <td>...</td>\n",
       "      <td>1</td>\n",
       "      <td>999</td>\n",
       "      <td>0</td>\n",
       "      <td>nonexistent</td>\n",
       "      <td>1.1</td>\n",
       "      <td>93.994</td>\n",
       "      <td>-36.4</td>\n",
       "      <td>4.857</td>\n",
       "      <td>5191.0</td>\n",
       "      <td>no</td>\n",
       "    </tr>\n",
       "    <tr>\n",
       "      <th>1</th>\n",
       "      <td>57</td>\n",
       "      <td>services</td>\n",
       "      <td>married</td>\n",
       "      <td>high.school</td>\n",
       "      <td>unknown</td>\n",
       "      <td>no</td>\n",
       "      <td>no</td>\n",
       "      <td>telephone</td>\n",
       "      <td>may</td>\n",
       "      <td>mon</td>\n",
       "      <td>...</td>\n",
       "      <td>1</td>\n",
       "      <td>999</td>\n",
       "      <td>0</td>\n",
       "      <td>nonexistent</td>\n",
       "      <td>1.1</td>\n",
       "      <td>93.994</td>\n",
       "      <td>-36.4</td>\n",
       "      <td>4.857</td>\n",
       "      <td>5191.0</td>\n",
       "      <td>no</td>\n",
       "    </tr>\n",
       "    <tr>\n",
       "      <th>2</th>\n",
       "      <td>37</td>\n",
       "      <td>services</td>\n",
       "      <td>married</td>\n",
       "      <td>high.school</td>\n",
       "      <td>no</td>\n",
       "      <td>yes</td>\n",
       "      <td>no</td>\n",
       "      <td>telephone</td>\n",
       "      <td>may</td>\n",
       "      <td>mon</td>\n",
       "      <td>...</td>\n",
       "      <td>1</td>\n",
       "      <td>999</td>\n",
       "      <td>0</td>\n",
       "      <td>nonexistent</td>\n",
       "      <td>1.1</td>\n",
       "      <td>93.994</td>\n",
       "      <td>-36.4</td>\n",
       "      <td>4.857</td>\n",
       "      <td>5191.0</td>\n",
       "      <td>no</td>\n",
       "    </tr>\n",
       "    <tr>\n",
       "      <th>3</th>\n",
       "      <td>40</td>\n",
       "      <td>admin.</td>\n",
       "      <td>married</td>\n",
       "      <td>basic.6y</td>\n",
       "      <td>no</td>\n",
       "      <td>no</td>\n",
       "      <td>no</td>\n",
       "      <td>telephone</td>\n",
       "      <td>may</td>\n",
       "      <td>mon</td>\n",
       "      <td>...</td>\n",
       "      <td>1</td>\n",
       "      <td>999</td>\n",
       "      <td>0</td>\n",
       "      <td>nonexistent</td>\n",
       "      <td>1.1</td>\n",
       "      <td>93.994</td>\n",
       "      <td>-36.4</td>\n",
       "      <td>4.857</td>\n",
       "      <td>5191.0</td>\n",
       "      <td>no</td>\n",
       "    </tr>\n",
       "    <tr>\n",
       "      <th>4</th>\n",
       "      <td>56</td>\n",
       "      <td>services</td>\n",
       "      <td>married</td>\n",
       "      <td>high.school</td>\n",
       "      <td>no</td>\n",
       "      <td>no</td>\n",
       "      <td>yes</td>\n",
       "      <td>telephone</td>\n",
       "      <td>may</td>\n",
       "      <td>mon</td>\n",
       "      <td>...</td>\n",
       "      <td>1</td>\n",
       "      <td>999</td>\n",
       "      <td>0</td>\n",
       "      <td>nonexistent</td>\n",
       "      <td>1.1</td>\n",
       "      <td>93.994</td>\n",
       "      <td>-36.4</td>\n",
       "      <td>4.857</td>\n",
       "      <td>5191.0</td>\n",
       "      <td>no</td>\n",
       "    </tr>\n",
       "  </tbody>\n",
       "</table>\n",
       "<p>5 rows × 21 columns</p>\n",
       "</div>"
      ],
      "text/plain": [
       "   age        job  marital    education  default housing loan    contact  \\\n",
       "0   56  housemaid  married     basic.4y       no      no   no  telephone   \n",
       "1   57   services  married  high.school  unknown      no   no  telephone   \n",
       "2   37   services  married  high.school       no     yes   no  telephone   \n",
       "3   40     admin.  married     basic.6y       no      no   no  telephone   \n",
       "4   56   services  married  high.school       no      no  yes  telephone   \n",
       "\n",
       "  month day_of_week ...  campaign  pdays  previous     poutcome emp.var.rate  \\\n",
       "0   may         mon ...         1    999         0  nonexistent          1.1   \n",
       "1   may         mon ...         1    999         0  nonexistent          1.1   \n",
       "2   may         mon ...         1    999         0  nonexistent          1.1   \n",
       "3   may         mon ...         1    999         0  nonexistent          1.1   \n",
       "4   may         mon ...         1    999         0  nonexistent          1.1   \n",
       "\n",
       "   cons.price.idx  cons.conf.idx  euribor3m  nr.employed   y  \n",
       "0          93.994          -36.4      4.857       5191.0  no  \n",
       "1          93.994          -36.4      4.857       5191.0  no  \n",
       "2          93.994          -36.4      4.857       5191.0  no  \n",
       "3          93.994          -36.4      4.857       5191.0  no  \n",
       "4          93.994          -36.4      4.857       5191.0  no  \n",
       "\n",
       "[5 rows x 21 columns]"
      ]
     },
     "execution_count": 297,
     "metadata": {},
     "output_type": "execute_result"
    }
   ],
   "source": [
    "bank = pd.read_csv('Desktop/Data Science - Springboard/Capstone Project - 1/portuguese_bank_project/bank-additional-full.csv', sep=';')\n",
    "bank.head()"
   ]
  },
  {
   "cell_type": "markdown",
   "metadata": {},
   "source": [
    "### Analyzing data types"
   ]
  },
  {
   "cell_type": "code",
   "execution_count": 298,
   "metadata": {},
   "outputs": [
    {
     "name": "stdout",
     "output_type": "stream",
     "text": [
      "<class 'pandas.core.frame.DataFrame'>\n",
      "RangeIndex: 41188 entries, 0 to 41187\n",
      "Data columns (total 21 columns):\n",
      "age               41188 non-null int64\n",
      "job               41188 non-null object\n",
      "marital           41188 non-null object\n",
      "education         41188 non-null object\n",
      "default           41188 non-null object\n",
      "housing           41188 non-null object\n",
      "loan              41188 non-null object\n",
      "contact           41188 non-null object\n",
      "month             41188 non-null object\n",
      "day_of_week       41188 non-null object\n",
      "duration          41188 non-null int64\n",
      "campaign          41188 non-null int64\n",
      "pdays             41188 non-null int64\n",
      "previous          41188 non-null int64\n",
      "poutcome          41188 non-null object\n",
      "emp.var.rate      41188 non-null float64\n",
      "cons.price.idx    41188 non-null float64\n",
      "cons.conf.idx     41188 non-null float64\n",
      "euribor3m         41188 non-null float64\n",
      "nr.employed       41188 non-null float64\n",
      "y                 41188 non-null object\n",
      "dtypes: float64(5), int64(5), object(11)\n",
      "memory usage: 6.6+ MB\n"
     ]
    }
   ],
   "source": [
    "bank.info()"
   ]
  },
  {
   "cell_type": "markdown",
   "metadata": {},
   "source": [
    "### Convert data types for easier data manipulation\n",
    "1. Convert all the numeric columns to integers\n",
    "2. Convert string columns into categorical columns"
   ]
  },
  {
   "cell_type": "code",
   "execution_count": 299,
   "metadata": {},
   "outputs": [],
   "source": [
    "bank_int = bank[['age','campaign', 'pdays', 'emp.var.rate', 'cons.price.idx', 'cons.conf.idx', 'euribor3m', 'nr.employed']]\n",
    "\n",
    "for i in bank_int:\n",
    "    bank[i] = pd.to_numeric(bank[i])"
   ]
  },
  {
   "cell_type": "code",
   "execution_count": 300,
   "metadata": {},
   "outputs": [],
   "source": [
    "bank_category = bank[['job', 'marital', 'education', 'contact', 'month', 'day_of_week']]\n",
    "\n",
    "for i in bank_category:\n",
    "    bank[i] = bank_category[i].astype('category')"
   ]
  },
  {
   "cell_type": "markdown",
   "metadata": {},
   "source": [
    "### Function and data samples used in the project\n",
    "- A function was created to facilitate the exploration analysis.\n",
    "    1. percentage() - The goal of this function is to get the percentage of a value in a data sample against the \n",
    "        value in the dataset. \n",
    "- Two data samples were created to distinguish the binary output in the dependent variable:\n",
    "    - bank_y - It's a data sample containing only those who have subscribed to the program.\n",
    "    - bank_n - It's a data sample containging only those who didn't subscribed to the program."
   ]
  },
  {
   "cell_type": "code",
   "execution_count": 301,
   "metadata": {},
   "outputs": [],
   "source": [
    "# Function\n",
    "def percentage(df_sample, variable, df):\n",
    "    \"\"\"\" The goal of this funcion is to return the percentage of a specific variable (variable) \n",
    "    in a data sample (df_sample), against the same variable in the population data set (df).\n",
    "    \"\"\"\n",
    "    return df_sample[variable].value_counts() / df[variable].value_counts() * 100\n"
   ]
  },
  {
   "cell_type": "code",
   "execution_count": 302,
   "metadata": {},
   "outputs": [],
   "source": [
    "# Data samples\n",
    "\n",
    "bank_y = bank[bank.y == 'yes']  # Subscribed to the campaign\\n\",\n",
    "bank_n = bank[bank.y == 'no']   # Didn't subscribe to the campaign"
   ]
  },
  {
   "cell_type": "markdown",
   "metadata": {},
   "source": [
    "## ***Exploring categorical variables***\n"
   ]
  },
  {
   "cell_type": "markdown",
   "metadata": {},
   "source": [
    "### Job category over subscribing\n",
    "- Most people that have subscribed to the program have an admin job. \n",
    "- However, an interesting finding is that the job categories that are most likely to subscribe to the program\n",
    "    are student, retired and unemployed. Thus, this data shows that there might be a correlation with those that \n",
    "    are not working with subscribing to the program."
   ]
  },
  {
   "cell_type": "code",
   "execution_count": 303,
   "metadata": {},
   "outputs": [
    {
     "data": {
      "text/plain": [
       "admin.           0.291379\n",
       "technician       0.157328\n",
       "blue-collar      0.137500\n",
       "retired          0.093534\n",
       "management       0.070690\n",
       "services         0.069612\n",
       "student          0.059267\n",
       "self-employed    0.032112\n",
       "unemployed       0.031034\n",
       "entrepreneur     0.026724\n",
       "housemaid        0.022845\n",
       "unknown          0.007974\n",
       "Name: job, dtype: float64"
      ]
     },
     "execution_count": 303,
     "metadata": {},
     "output_type": "execute_result"
    }
   ],
   "source": [
    "bank_y.job.value_counts(normalize=True)"
   ]
  },
  {
   "cell_type": "code",
   "execution_count": 304,
   "metadata": {},
   "outputs": [
    {
     "data": {
      "image/png": "[encoded data removed]",
      "text/plain": [
       "<Figure size 720x504 with 1 Axes>"
      ]
     },
     "metadata": {},
     "output_type": "display_data"
    }
   ],
   "source": [
    "plt.figure(figsize=(10, 7))\n",
    "bank_y.job.value_counts(ascending=True).plot(kind='barh', color='steelblue')\n",
    "plt.ylabel('Job Category', fontsize=16)\n",
    "plt.xlabel('Total Subscribers', fontsize=16)\n",
    "plt.title('Total Subscribers - Job Category', fontsize=18)\n",
    "plt.show()"
   ]
  },
  {
   "cell_type": "code",
   "execution_count": 305,
   "metadata": {},
   "outputs": [
    {
     "data": {
      "text/plain": [
       "student          31.428571\n",
       "retired          25.232558\n",
       "unemployed       14.201183\n",
       "admin.           12.972558\n",
       "management       11.217510\n",
       "unknown          11.212121\n",
       "technician       10.826042\n",
       "self-employed    10.485574\n",
       "housemaid        10.000000\n",
       "entrepreneur      8.516484\n",
       "services          8.138070\n",
       "blue-collar       6.894316\n",
       "Name: job, dtype: float64"
      ]
     },
     "execution_count": 305,
     "metadata": {},
     "output_type": "execute_result"
    }
   ],
   "source": [
    "pct_job = percentage(bank_y, 'job', bank).sort_values(ascending=False)\n",
    "pct_job"
   ]
  },
  {
   "cell_type": "code",
   "execution_count": 306,
   "metadata": {},
   "outputs": [
    {
     "data": {
      "image/png": "[encoded data removed]",
      "text/plain": [
       "<Figure size 720x504 with 1 Axes>"
      ]
     },
     "metadata": {},
     "output_type": "display_data"
    }
   ],
   "source": [
    "plt.figure(figsize=(10, 7))\n",
    "plt.barh(pct_job.index, pct_job.values)\n",
    "plt.xlabel('Subscribed Rate', fontsize=16)\n",
    "plt.ylabel('Job Categories', fontsize=16)\n",
    "plt.title('Job Category Rate Over Subscribing', fontsize=18)\n",
    "plt.gca().invert_yaxis()\n",
    "plt.show()"
   ]
  },
  {
   "cell_type": "markdown",
   "metadata": {},
   "source": [
    "### Level of education over subscribing\n",
    "- Most people that subscribed have a university degree.\n",
    "- However, when comparing against the whole data set, Illiterate has the highest subscribing percentage, \n",
    "    with 22% subscribing to the program. While university degree has a 13% subscription rate. "
   ]
  },
  {
   "cell_type": "code",
   "execution_count": 307,
   "metadata": {},
   "outputs": [
    {
     "data": {
      "text/plain": [
       "university.degree      1670\n",
       "high.school            1031\n",
       "professional.course     595\n",
       "basic.9y                473\n",
       "basic.4y                428\n",
       "unknown                 251\n",
       "basic.6y                188\n",
       "illiterate                4\n",
       "Name: education, dtype: int64"
      ]
     },
     "execution_count": 307,
     "metadata": {},
     "output_type": "execute_result"
    }
   ],
   "source": [
    "bank_y.education.value_counts()"
   ]
  },
  {
   "cell_type": "code",
   "execution_count": 310,
   "metadata": {},
   "outputs": [
    {
     "data": {
      "text/plain": [
       "illiterate             22.222222\n",
       "unknown                14.500289\n",
       "university.degree      13.724523\n",
       "professional.course    11.348465\n",
       "high.school            10.835523\n",
       "basic.4y               10.249042\n",
       "basic.6y                8.202443\n",
       "basic.9y                7.824648\n",
       "Name: education, dtype: float64"
      ]
     },
     "execution_count": 310,
     "metadata": {},
     "output_type": "execute_result"
    }
   ],
   "source": [
    "percentage(bank_y, 'education', bank).sort_values(ascending=False)"
   ]
  },
  {
   "cell_type": "markdown",
   "metadata": {},
   "source": [
    "### Type of contact over subscribing\n",
    "- 83% of the subscription were obtained by calling to client's cellular phones\n",
    "    - Calls to cellular have a total subscription rate of 14% while telephone has only 5%. "
   ]
  },
  {
   "cell_type": "code",
   "execution_count": 15,
   "metadata": {},
   "outputs": [
    {
     "data": {
      "text/plain": [
       "cellular     3853\n",
       "telephone     787\n",
       "Name: contact, dtype: int64"
      ]
     },
     "execution_count": 15,
     "metadata": {},
     "output_type": "execute_result"
    }
   ],
   "source": [
    "bank_y.contact.value_counts()"
   ]
  },
  {
   "cell_type": "code",
   "execution_count": 16,
   "metadata": {},
   "outputs": [
    {
     "data": {
      "text/plain": [
       "cellular     83.038793\n",
       "telephone    16.961207\n",
       "Name: contact, dtype: float64"
      ]
     },
     "execution_count": 16,
     "metadata": {},
     "output_type": "execute_result"
    }
   ],
   "source": [
    "bank_y.contact.value_counts(normalize=True) * 100"
   ]
  },
  {
   "cell_type": "code",
   "execution_count": 17,
   "metadata": {},
   "outputs": [
    {
     "data": {
      "image/png": "[encoded data removed]",
      "text/plain": [
       "<Figure size 720x504 with 1 Axes>"
      ]
     },
     "metadata": {
      "needs_background": "light"
     },
     "output_type": "display_data"
    }
   ],
   "source": [
    "plt.figure(figsize=(10, 7))\n",
    "bank_y.contact.value_counts().plot(kind='bar')\n",
    "plt.ylabel('Subscribed', fontsize=16)\n",
    "plt.title('Type of Contact', fontsize=18)\n",
    "plt.show()"
   ]
  },
  {
   "cell_type": "code",
   "execution_count": 18,
   "metadata": {},
   "outputs": [
    {
     "data": {
      "text/plain": [
       "cellular     14.737607\n",
       "telephone     5.231321\n",
       "Name: contact, dtype: float64"
      ]
     },
     "execution_count": 18,
     "metadata": {},
     "output_type": "execute_result"
    }
   ],
   "source": [
    "percentage(bank_y, 'contact', bank)"
   ]
  },
  {
   "cell_type": "markdown",
   "metadata": {},
   "source": [
    "### Month of the year over subscribing\n",
    "- May was the month with the most subscription. However it was also the month with the lowest subscription \n",
    "    rate, with only 6% subscribing.\n",
    "- The months with the best subscription rate were March, September, October and December. These months \n",
    "    had a success rate of near 50%!"
   ]
  },
  {
   "cell_type": "code",
   "execution_count": 19,
   "metadata": {},
   "outputs": [
    {
     "data": {
      "text/plain": [
       "may    19.094828\n",
       "aug    14.116379\n",
       "jul    13.987069\n",
       "jun    12.047414\n",
       "apr    11.616379\n",
       "nov     8.965517\n",
       "oct     6.788793\n",
       "mar     5.948276\n",
       "sep     5.517241\n",
       "dec     1.918103\n",
       "Name: month, dtype: float64"
      ]
     },
     "execution_count": 19,
     "metadata": {},
     "output_type": "execute_result"
    }
   ],
   "source": [
    "total_month = bank_y.month.value_counts(normalize=True) * 100\n",
    "total_month"
   ]
  },
  {
   "cell_type": "code",
   "execution_count": 20,
   "metadata": {},
   "outputs": [
    {
     "data": {
      "image/png": "[encoded data removed]",
      "text/plain": [
       "<Figure size 720x504 with 1 Axes>"
      ]
     },
     "metadata": {
      "needs_background": "light"
     },
     "output_type": "display_data"
    }
   ],
   "source": [
    "plt.figure(figsize=(10, 7))\n",
    "plt.bar(total_month.index, total_month.values)\n",
    "plt.title('Subscribed -  Months with Most Subscribers', fontsize=18)\n",
    "plt.ylabel('Percentage of Subscribers', fontsize=16)\n",
    "plt.xlabel('Months', fontsize=16)\n",
    "plt.show()"
   ]
  },
  {
   "cell_type": "code",
   "execution_count": 21,
   "metadata": {},
   "outputs": [
    {
     "data": {
      "text/plain": [
       "mar    50.549451\n",
       "dec    48.901099\n",
       "sep    44.912281\n",
       "oct    43.871866\n",
       "apr    20.478723\n",
       "aug    10.602137\n",
       "jun    10.511470\n",
       "nov    10.143867\n",
       "jul     9.046557\n",
       "may     6.434745\n",
       "Name: month, dtype: float64"
      ]
     },
     "execution_count": 21,
     "metadata": {},
     "output_type": "execute_result"
    }
   ],
   "source": [
    "pct_month = percentage(bank_y, 'month', bank).sort_values(ascending=False)\n",
    "pct_month"
   ]
  },
  {
   "cell_type": "code",
   "execution_count": 22,
   "metadata": {},
   "outputs": [
    {
     "data": {
      "image/png": "[encoded data removed]",
      "text/plain": [
       "<Figure size 720x504 with 1 Axes>"
      ]
     },
     "metadata": {
      "needs_background": "light"
     },
     "output_type": "display_data"
    }
   ],
   "source": [
    "plt.figure(figsize=(10, 7))\n",
    "plt.bar(pct_month.index, pct_month.values)\n",
    "plt.title('Months Subscribed Rate', fontsize=18)\n",
    "plt.ylabel('Subscribed Rate', fontsize=16)\n",
    "plt.xlabel('Months', fontsize=16)\n",
    "plt.show()"
   ]
  },
  {
   "cell_type": "markdown",
   "metadata": {},
   "source": [
    "### Day of the week over subscribing\n",
    "- The data for the day of the week is well distributed, not showing any significant impact on subscription."
   ]
  },
  {
   "cell_type": "code",
   "execution_count": 23,
   "metadata": {},
   "outputs": [
    {
     "data": {
      "text/plain": [
       "thu    1045\n",
       "tue     953\n",
       "wed     949\n",
       "mon     847\n",
       "fri     846\n",
       "Name: day_of_week, dtype: int64"
      ]
     },
     "execution_count": 23,
     "metadata": {},
     "output_type": "execute_result"
    }
   ],
   "source": [
    "bank_y.day_of_week.value_counts()"
   ]
  },
  {
   "cell_type": "code",
   "execution_count": 24,
   "metadata": {},
   "outputs": [
    {
     "data": {
      "text/plain": [
       "fri    10.808739\n",
       "mon     9.948320\n",
       "thu    12.118752\n",
       "tue    11.779975\n",
       "wed    11.667076\n",
       "Name: day_of_week, dtype: float64"
      ]
     },
     "execution_count": 24,
     "metadata": {},
     "output_type": "execute_result"
    }
   ],
   "source": [
    "percentage(bank_y, 'day_of_week', bank)"
   ]
  },
  {
   "cell_type": "markdown",
   "metadata": {},
   "source": [
    "## ***Exploring Numeric variables***"
   ]
  },
  {
   "cell_type": "markdown",
   "metadata": {},
   "source": [
    "### Client's age over subscribing\n",
    "- Most subscribers are around 30 years old. \n",
    "- However, when comparing the subscribed data sample with the dataset, age doesn't seem to have a \n",
    "    significant impact."
   ]
  },
  {
   "cell_type": "code",
   "execution_count": 25,
   "metadata": {},
   "outputs": [],
   "source": [
    "age_y = bank_y.age.value_counts()\n",
    "age_y = age_y.sort_index()"
   ]
  },
  {
   "cell_type": "code",
   "execution_count": 26,
   "metadata": {
    "scrolled": false
   },
   "outputs": [
    {
     "data": {
      "image/png": "[encoded data removed]",
      "text/plain": [
       "<Figure size 720x504 with 1 Axes>"
      ]
     },
     "metadata": {
      "needs_background": "light"
     },
     "output_type": "display_data"
    }
   ],
   "source": [
    "plt.figure(figsize=(10, 7))\n",
    "bank_y.age.hist(alpha=0.8)\n",
    "#plt.grid(False)\n",
    "plt.title('Subscribed People\\'s Age', fontsize=18)\n",
    "plt.ylabel('Total Amount of People', fontsize=16)\n",
    "plt.xlabel('Age', fontsize=16)\n",
    "plt.show()"
   ]
  },
  {
   "cell_type": "code",
   "execution_count": 27,
   "metadata": {
    "scrolled": false
   },
   "outputs": [
    {
     "data": {
      "image/png": "[encoded data removed]",
      "text/plain": [
       "<Figure size 720x504 with 1 Axes>"
      ]
     },
     "metadata": {
      "needs_background": "light"
     },
     "output_type": "display_data"
    }
   ],
   "source": [
    "age_bank_comp = [bank_y.age, bank_n.age]\n",
    "\n",
    "plt.figure(figsize=(10, 7))\n",
    "plt.boxplot(age_bank_comp)\n",
    "plt.title('Population Age', fontsize=18)\n",
    "plt.xticks([1,2], ['Subscribed', 'Didn\\'t Subscribe'])\n",
    "plt.ylabel('Age', fontsize=16)\n",
    "plt.show()"
   ]
  },
  {
   "cell_type": "code",
   "execution_count": 28,
   "metadata": {},
   "outputs": [
    {
     "name": "stdout",
     "output_type": "stream",
     "text": [
      "Age Subscribed\n",
      "count    4640.000000\n",
      "mean       40.913147\n",
      "std        13.837476\n",
      "min        17.000000\n",
      "25%        31.000000\n",
      "50%        37.000000\n",
      "75%        50.000000\n",
      "max        98.000000\n",
      "Name: age, dtype: float64\n"
     ]
    }
   ],
   "source": [
    "print('Age Subscribed')\n",
    "print(bank_y.age.describe())"
   ]
  },
  {
   "cell_type": "code",
   "execution_count": 29,
   "metadata": {},
   "outputs": [
    {
     "name": "stdout",
     "output_type": "stream",
     "text": [
      "Age Didn't Subscribe\n",
      "count    36548.000000\n",
      "mean        39.911185\n",
      "std          9.898132\n",
      "min         17.000000\n",
      "25%         32.000000\n",
      "50%         38.000000\n",
      "75%         47.000000\n",
      "max         95.000000\n",
      "Name: age, dtype: float64\n"
     ]
    }
   ],
   "source": [
    "print('Age Didn\\'t Subscribe')\n",
    "print(bank_n.age.describe())"
   ]
  },
  {
   "cell_type": "markdown",
   "metadata": {},
   "source": [
    "### Call duration over subscribing\n",
    "- There seems to be a high correlation with longer calls and of client subscribing. \n",
    "- The median duration of calls in the subscribed data sample is of 449 seconds, while the median in the \n",
    "    dataset is only 163, which is the less than the lower quartile of subscribed data sample."
   ]
  },
  {
   "cell_type": "code",
   "execution_count": 30,
   "metadata": {
    "scrolled": false
   },
   "outputs": [
    {
     "data": {
      "image/png": "[encoded data removed]",
      "text/plain": [
       "<Figure size 720x504 with 1 Axes>"
      ]
     },
     "metadata": {
      "needs_background": "light"
     },
     "output_type": "display_data"
    }
   ],
   "source": [
    "duration_comp = [bank_y.duration, bank_n.duration]\n",
    "plt.figure(figsize=(10, 7))\n",
    "plt.boxplot(duration_comp)\n",
    "plt.title('Call Duration', fontsize=18)\n",
    "plt.xticks([1,2], ['Subscribed', 'Didn\\'t Subscribe'])\n",
    "plt.ylabel('Duration in seconds', fontsize=16)\n",
    "plt.show()"
   ]
  },
  {
   "cell_type": "code",
   "execution_count": 31,
   "metadata": {},
   "outputs": [
    {
     "name": "stdout",
     "output_type": "stream",
     "text": [
      "Duration Subscribed\n",
      "count    4640.000000\n",
      "mean      553.191164\n",
      "std       401.171871\n",
      "min        37.000000\n",
      "25%       253.000000\n",
      "50%       449.000000\n",
      "75%       741.250000\n",
      "max      4199.000000\n",
      "Name: duration, dtype: float64\n"
     ]
    }
   ],
   "source": [
    "print('Duration Subscribed')\n",
    "print(bank_y.duration.describe())"
   ]
  },
  {
   "cell_type": "code",
   "execution_count": 32,
   "metadata": {},
   "outputs": [
    {
     "name": "stdout",
     "output_type": "stream",
     "text": [
      "Duration Didn't Subscribe\n",
      "count    36548.000000\n",
      "mean       220.844807\n",
      "std        207.096293\n",
      "min          0.000000\n",
      "25%         95.000000\n",
      "50%        163.500000\n",
      "75%        279.000000\n",
      "max       4918.000000\n",
      "Name: duration, dtype: float64\n"
     ]
    }
   ],
   "source": [
    "print('Duration Didn\\'t Subscribe')\n",
    "print(bank_n.duration.describe())"
   ]
  },
  {
   "cell_type": "markdown",
   "metadata": {},
   "source": [
    "### Number of calls over subscribing\n",
    "- Most clients subscribed with less than 2 calls. \n",
    "    - With the scatterplot we can see that the amount of subscribers decline significantly when more \n",
    "        than 2 calls were made."
   ]
  },
  {
   "cell_type": "code",
   "execution_count": 33,
   "metadata": {},
   "outputs": [
    {
     "data": {
      "image/png": "[encoded data removed]",
      "text/plain": [
       "<Figure size 720x504 with 1 Axes>"
      ]
     },
     "metadata": {
      "needs_background": "light"
     },
     "output_type": "display_data"
    }
   ],
   "source": [
    "number_calls = [bank_y.campaign, bank_n.campaign[bank_n.campaign < 30]]\n",
    "plt.figure(figsize=(10, 7))\n",
    "plt.boxplot(number_calls)\n",
    "plt.title('Number of Calls', fontsize=18)\n",
    "plt.xticks([1,2], ['Subscribed', 'Didn\\'t Subscribe'])\n",
    "plt.ylabel('Total Calls', fontsize=16)\n",
    "plt.show()"
   ]
  },
  {
   "cell_type": "code",
   "execution_count": 34,
   "metadata": {},
   "outputs": [
    {
     "name": "stdout",
     "output_type": "stream",
     "text": [
      "Number of Calls Subscribed\n",
      "count    4640.000000\n",
      "mean        2.051724\n",
      "std         1.666245\n",
      "min         1.000000\n",
      "25%         1.000000\n",
      "50%         2.000000\n",
      "75%         2.000000\n",
      "max        23.000000\n",
      "Name: campaign, dtype: float64\n"
     ]
    }
   ],
   "source": [
    "print('Number of Calls Subscribed')\n",
    "print(bank_y.campaign.describe())"
   ]
  },
  {
   "cell_type": "code",
   "execution_count": 35,
   "metadata": {},
   "outputs": [
    {
     "name": "stdout",
     "output_type": "stream",
     "text": [
      "Number of Calls Didn't Subscribe\n",
      "count    36548.000000\n",
      "mean         2.633085\n",
      "std          2.873438\n",
      "min          1.000000\n",
      "25%          1.000000\n",
      "50%          2.000000\n",
      "75%          3.000000\n",
      "max         56.000000\n",
      "Name: campaign, dtype: float64\n"
     ]
    }
   ],
   "source": [
    "print('Number of Calls Didn\\'t Subscribe')\n",
    "print(bank_n.campaign.describe())"
   ]
  },
  {
   "cell_type": "code",
   "execution_count": 36,
   "metadata": {},
   "outputs": [
    {
     "data": {
      "image/png": "[encoded data removed]",
      "text/plain": [
       "<Figure size 720x504 with 1 Axes>"
      ]
     },
     "metadata": {
      "needs_background": "light"
     },
     "output_type": "display_data"
    }
   ],
   "source": [
    "plt.figure(figsize=(10, 7))\n",
    "bank_y.campaign.hist(grid=False)\n",
    "plt.title('Subscribed & Number of Calls', fontsize=18)\n",
    "plt.xlabel('Number of Calls', fontsize=16)\n",
    "plt.ylabel('Total Amount', fontsize=16)\n",
    "plt.show()"
   ]
  },
  {
   "cell_type": "markdown",
   "metadata": {},
   "source": [
    "### Number of days passed by after client was last contact over subscribing\n",
    "- Most of the clients who have signed up were not contacted previously.\n",
    "    - 999 means that they were not contacted previously by the bank.\n",
    "- If the client has been contacted by the bank previously, the ideal time to contact a client is after 3-6 \n",
    "    from the last campaign.\n",
    "    - Contacting a lead 1 day after, seems to decrease chance of subscribing"
   ]
  },
  {
   "cell_type": "code",
   "execution_count": 37,
   "metadata": {},
   "outputs": [
    {
     "data": {
      "text/plain": [
       "999    79.159483\n",
       "3       6.422414\n",
       "6       6.228448\n",
       "4       1.357759\n",
       "7       0.862069\n",
       "2       0.797414\n",
       "9       0.754310\n",
       "10      0.646552\n",
       "5       0.625000\n",
       "13      0.603448\n",
       "Name: pdays, dtype: float64"
      ]
     },
     "execution_count": 37,
     "metadata": {},
     "output_type": "execute_result"
    }
   ],
   "source": [
    "bank_y.pdays.value_counts(normalize=True).head(10)*100"
   ]
  },
  {
   "cell_type": "code",
   "execution_count": 38,
   "metadata": {},
   "outputs": [
    {
     "data": {
      "image/png": "[encoded data removed]",
      "text/plain": [
       "<Figure size 720x504 with 1 Axes>"
      ]
     },
     "metadata": {
      "needs_background": "light"
     },
     "output_type": "display_data"
    }
   ],
   "source": [
    "pdays_comp = [bank_y.pdays[bank_y.pdays != 999], bank_n.pdays[bank_n.pdays != 999]]\n",
    "plt.figure(figsize=(10, 7))\n",
    "plt.boxplot(pdays_comp)\n",
    "plt.title('Days Passed After Last Campaign', fontsize=18)\n",
    "plt.xticks([1,2], ['Subscribed', 'Didn\\'t Subscribe'])\n",
    "plt.ylabel('Days Passed By', fontsize=16)\n",
    "plt.show()"
   ]
  },
  {
   "cell_type": "code",
   "execution_count": 39,
   "metadata": {},
   "outputs": [
    {
     "name": "stdout",
     "output_type": "stream",
     "text": [
      "Days passed after last campaign Subscribed\n",
      "count    967.000000\n",
      "mean       5.913133\n",
      "std        3.727896\n",
      "min        0.000000\n",
      "25%        3.000000\n",
      "50%        6.000000\n",
      "75%        6.000000\n",
      "max       27.000000\n",
      "Name: pdays, dtype: float64\n"
     ]
    }
   ],
   "source": [
    "print('Days passed after last campaign Subscribed')\n",
    "print(bank_y.pdays[bank_y.pdays != 999].describe())"
   ]
  },
  {
   "cell_type": "code",
   "execution_count": 40,
   "metadata": {},
   "outputs": [
    {
     "name": "stdout",
     "output_type": "stream",
     "text": [
      "Days passed after last campaign Didn't Subscribe\n",
      "count    548.000000\n",
      "mean       6.193431\n",
      "std        3.987525\n",
      "min        0.000000\n",
      "25%        3.000000\n",
      "50%        6.000000\n",
      "75%        9.000000\n",
      "max       22.000000\n",
      "Name: pdays, dtype: float64\n"
     ]
    }
   ],
   "source": [
    "print('Days passed after last campaign Didn\\'t Subscribe')\n",
    "print(bank_n.pdays[bank_n.pdays != 999].describe())"
   ]
  },
  {
   "cell_type": "markdown",
   "metadata": {},
   "source": [
    "### If client has previously subscribed to a campaign over subscribing (current campaign)\n",
    "- Most of the signups came from those who were not offered anything previously.\n",
    "- 65% of the clients that have previously subscribed to a campaign have enrolled in the current campaign."
   ]
  },
  {
   "cell_type": "code",
   "execution_count": 41,
   "metadata": {},
   "outputs": [
    {
     "data": {
      "text/plain": [
       "nonexistent    3141\n",
       "success         894\n",
       "failure         605\n",
       "Name: poutcome, dtype: int64"
      ]
     },
     "execution_count": 41,
     "metadata": {},
     "output_type": "execute_result"
    }
   ],
   "source": [
    "bank_y.poutcome.value_counts()"
   ]
  },
  {
   "cell_type": "code",
   "execution_count": 42,
   "metadata": {},
   "outputs": [
    {
     "data": {
      "text/plain": [
       "failure        14.228598\n",
       "nonexistent     8.832213\n",
       "success        65.112891\n",
       "Name: poutcome, dtype: float64"
      ]
     },
     "execution_count": 42,
     "metadata": {},
     "output_type": "execute_result"
    }
   ],
   "source": [
    "prev_sub = percentage(bank_y, 'poutcome', bank)\n",
    "prev_sub"
   ]
  },
  {
   "cell_type": "code",
   "execution_count": 43,
   "metadata": {},
   "outputs": [
    {
     "data": {
      "image/png": "[encoded data removed]",
      "text/plain": [
       "<Figure size 720x504 with 1 Axes>"
      ]
     },
     "metadata": {
      "needs_background": "light"
     },
     "output_type": "display_data"
    }
   ],
   "source": [
    "plt.figure(figsize=(10,7))\n",
    "plt.bar(prev_sub.index, prev_sub.values)\n",
    "plt.ylabel(\"Subscribed Rate\", fontsize=16)\n",
    "plt.title(\"Previously Subscribed to a Campaign\", fontsize=18)\n",
    "plt.show()"
   ]
  },
  {
   "cell_type": "markdown",
   "metadata": {},
   "source": [
    "## ***Exploring Economic Indicator Variables***"
   ]
  },
  {
   "cell_type": "markdown",
   "metadata": {},
   "source": [
    "### Interest rate (Daily Indicator) over subscribing\n",
    "- There boxplot shows that there were more subscribers when interest rates were low.\n",
    "- Since the program is offering 'attractive interest rates' as you deposit money into the bank, it \n",
    "    makes sense the lower the interest rate of the Central Bank the more appealing the interest bank \n",
    "    from the bank will be."
   ]
  },
  {
   "cell_type": "code",
   "execution_count": 44,
   "metadata": {},
   "outputs": [
    {
     "data": {
      "image/png": "[encoded data removed]",
      "text/plain": [
       "<Figure size 720x504 with 1 Axes>"
      ]
     },
     "metadata": {
      "needs_background": "light"
     },
     "output_type": "display_data"
    }
   ],
   "source": [
    "int_rate_comp = [bank_y['euribor3m'], bank_n['euribor3m']]\n",
    "\n",
    "plt.figure(figsize=(10, 7))\n",
    "plt.boxplot(int_rate_comp)\n",
    "plt.title('Interest Rate Impact on Subscribing', fontsize=18)\n",
    "plt.xticks([1,2], ['Subscribed', 'Didn\\'t Subscribe'])\n",
    "plt.ylabel('Interest Rates', fontsize=16)\n",
    "plt.show()"
   ]
  },
  {
   "cell_type": "code",
   "execution_count": 45,
   "metadata": {},
   "outputs": [
    {
     "name": "stdout",
     "output_type": "stream",
     "text": [
      "Euribor Interbank Rate (Interest Rate) Subscribed\n",
      "count    4640.000000\n",
      "mean        2.123135\n",
      "std         1.742598\n",
      "min         0.634000\n",
      "25%         0.849000\n",
      "50%         1.266000\n",
      "75%         4.406000\n",
      "max         5.045000\n",
      "Name: euribor3m, dtype: float64\n"
     ]
    }
   ],
   "source": [
    "print('Euribor Interbank Rate (Interest Rate) Subscribed')\n",
    "print(bank_y['euribor3m'].describe())"
   ]
  },
  {
   "cell_type": "code",
   "execution_count": 46,
   "metadata": {},
   "outputs": [
    {
     "name": "stdout",
     "output_type": "stream",
     "text": [
      "Euribor Interbank Rate (Interest Rate) Didn't Subscribe\n",
      "count    36548.000000\n",
      "mean         3.811491\n",
      "std          1.638187\n",
      "min          0.634000\n",
      "25%          1.405000\n",
      "50%          4.857000\n",
      "75%          4.962000\n",
      "max          5.045000\n",
      "Name: euribor3m, dtype: float64\n"
     ]
    }
   ],
   "source": [
    "print('Euribor Interbank Rate (Interest Rate) Didn\\'t Subscribe')\n",
    "print(bank_n['euribor3m'].describe())"
   ]
  },
  {
   "cell_type": "markdown",
   "metadata": {},
   "source": [
    "### Employment  number (Quaterly Indicator) over subscribing\n",
    "- The lower the employment number is, the more subscribers."
   ]
  },
  {
   "cell_type": "code",
   "execution_count": 47,
   "metadata": {},
   "outputs": [
    {
     "data": {
      "image/png": "[encoded data removed]",
      "text/plain": [
       "<Figure size 720x504 with 1 Axes>"
      ]
     },
     "metadata": {
      "needs_background": "light"
     },
     "output_type": "display_data"
    }
   ],
   "source": [
    "employed_comp = [bank_y['nr.employed'], bank_n['nr.employed']]\n",
    "plt.figure(figsize=(10, 7))\n",
    "plt.boxplot(employed_comp)\n",
    "plt.title('Employed Number Impact on Subscribing', fontsize=18)\n",
    "plt.xticks([1,2], ['Subscribed', 'Didn\\'t Subscribe'])\n",
    "plt.ylabel('Employed Number', fontsize=16)\n",
    "plt.show()"
   ]
  },
  {
   "cell_type": "code",
   "execution_count": 48,
   "metadata": {},
   "outputs": [
    {
     "name": "stdout",
     "output_type": "stream",
     "text": [
      "Employment Number Subscribed\n",
      "count    4640.000000\n",
      "mean     5095.115991\n",
      "std        87.572641\n",
      "min      4963.600000\n",
      "25%      5017.500000\n",
      "50%      5099.100000\n",
      "75%      5191.000000\n",
      "max      5228.100000\n",
      "Name: nr.employed, dtype: float64\n"
     ]
    }
   ],
   "source": [
    "print('Employment Number Subscribed')\n",
    "print(bank_y['nr.employed'].describe())"
   ]
  },
  {
   "cell_type": "code",
   "execution_count": 49,
   "metadata": {},
   "outputs": [
    {
     "name": "stdout",
     "output_type": "stream",
     "text": [
      "Employment Number Didn't Subscribe\n",
      "count    36548.000000\n",
      "mean      5176.166600\n",
      "std         64.571979\n",
      "min       4963.600000\n",
      "25%       5099.100000\n",
      "50%       5195.800000\n",
      "75%       5228.100000\n",
      "max       5228.100000\n",
      "Name: nr.employed, dtype: float64\n"
     ]
    }
   ],
   "source": [
    "print('Employment Number Didn\\'t Subscribe')\n",
    "print(bank_n['nr.employed'].describe())"
   ]
  },
  {
   "cell_type": "markdown",
   "metadata": {},
   "source": [
    "### Best & Worst Months Over Economic Indicators\n",
    "\n",
    "- To explore the economic indicator variables against months, I will build a new dataset with the variable month as datetime. By making month as datetime, it will be possible to analyze the variation of these economic indicators throughout time with a time series analysis plot. \n",
    "    - To build the time series analysis, I will use groupby on the month variable and get the average economic indicator for each month. \n",
    "        - Because of the outliers in each month, I chose to get the average of the economic indicators with the median.\n",
    "\n",
    "\n",
    "- Finally, I will compare the time series analysis with the subscribed rate of each month by displaying both graphs side by side.\n",
    "\n",
    "\n",
    "- Ps - I will be using the term best and worst months to describe the months that subscribed the most amount of clients and the least amount of clients, respectively.\n"
   ]
  },
  {
   "cell_type": "code",
   "execution_count": 50,
   "metadata": {},
   "outputs": [],
   "source": [
    "# Time Series Analysis\n",
    "\n",
    "\n",
    "bank_date = bank.copy()\n",
    "bank_date_y = bank_y.copy()\n",
    "\n",
    "# List of months   \n",
    "months = bank_y['month'].unique()\n",
    "\n",
    "# Replace the month column from string to integer\n",
    "i = 0\n",
    "for z in months:\n",
    "    month_number = datetime.datetime.strptime(z, '%b').month\n",
    "    bank_date['month'] = bank_date.month.replace(z, month_number)\n",
    "    bank_date_y['month'] = bank_date_y.month.replace(z, month_number)\n",
    "    #bank_date['month'] = bank_date.month.replace(z, pd.Timestamp(2010, month_number, 1))\n",
    "    \n",
    "# Get the average of subscribed per months (month as int)\n",
    "percentage_date = percentage(bank_date_y, 'month', bank_date) \n",
    "\n",
    "# Groupby dataset by getting the median of each economic indicator. \n",
    "bank_date = bank_date.groupby('month').median()     \n",
    "\n",
    "\n",
    "# List of months (string) organized from march to december\n",
    "months_s = ['march', 'april', 'may', 'june', 'july', 'aug', 'sep', 'oct', 'nov', 'dec']"
   ]
  },
  {
   "cell_type": "markdown",
   "metadata": {},
   "source": [
    "##### Interest Rates - Best & Worst Months\n",
    "- By looking at the two graphs below, we can see that there is a correlation between low interest rate and subscribed rate. \n",
    "    - The months with the lowest interest rates have the highest subscribed rate. \n",
    "\n",
    "\n",
    "- Outliers months:\n",
    "    - April had a low interest rate but had a subscribed rate lower than the 'best' months.\n"
   ]
  },
  {
   "cell_type": "code",
   "execution_count": 51,
   "metadata": {},
   "outputs": [
    {
     "data": {
      "image/png": "[encoded data removed]",
      "text/plain": [
       "<Figure size 720x504 with 2 Axes>"
      ]
     },
     "metadata": {
      "needs_background": "light"
     },
     "output_type": "display_data"
    }
   ],
   "source": [
    "plt.figure(figsize=(10, 7))\n",
    "plt.subplot(2,1,2)\n",
    "plt.bar(percentage_date.index, percentage_date.values)\n",
    "plt.ylabel('Subscribed Rate', fontsize=16)\n",
    "plt.xticks(bank_date.index, months_s)\n",
    "plt.xlabel('Months', fontsize=16)\n",
    "\n",
    "plt.subplot(2,1,1)\n",
    "bank_date['euribor3m'].plot()\n",
    "plt.xticks(bank_date.index, months_s)\n",
    "plt.ylabel('Interest Rate', fontsize=16)\n",
    "\n",
    "plt.subplots_adjust(top=1.5, right=1)\n",
    "plt.show()"
   ]
  },
  {
   "cell_type": "markdown",
   "metadata": {},
   "source": [
    "##### Number Employed - Best & Worst Months\n",
    "- By looking at the two graphs below, we can see that there is a correlation between low number of employed and subscribed rate.\n",
    "    - The months with the lowest number of employed had the highest subscribed rate.\n",
    "\n",
    "\n",
    "- Interesting months:\n",
    "    - March and April had a relatively high number of employed but had a subscribed rate higher than the 'worst' months."
   ]
  },
  {
   "cell_type": "code",
   "execution_count": 52,
   "metadata": {},
   "outputs": [
    {
     "data": {
      "image/png": "[encoded data removed]",
      "text/plain": [
       "<Figure size 720x504 with 2 Axes>"
      ]
     },
     "metadata": {
      "needs_background": "light"
     },
     "output_type": "display_data"
    }
   ],
   "source": [
    "plt.figure(figsize=(10, 7))\n",
    "plt.subplot(2,1,2)\n",
    "plt.bar(percentage_date.index, percentage_date.values)\n",
    "plt.ylabel('Subscribed Rate', fontsize=16)\n",
    "plt.xticks(bank_date.index, months_s)\n",
    "plt.xlabel('Months', fontsize=16)\n",
    "\n",
    "plt.subplot(2,1,1)\n",
    "bank_date['nr.employed'].plot()\n",
    "plt.xticks(bank_date.index, months_s)\n",
    "plt.ylabel('Number Employed', fontsize=16)\n",
    "\n",
    "plt.subplots_adjust(top=1.5, right=1)\n",
    "plt.show()"
   ]
  },
  {
   "cell_type": "markdown",
   "metadata": {},
   "source": [
    "# Machine Learning"
   ]
  },
  {
   "attachments": {},
   "cell_type": "markdown",
   "metadata": {},
   "source": [
    "#### The project will focus on specific metrics to estimate model accuracy rather than just accuracy score. Since the target variable is imbalanced, an accuracy score of 90% would be basically the same as a random guess. In addition, the most important thing for the bank is to make sure to predict the most subscribers as most possible, even if it comes at a cost of increased false positives. Therefore, the metrics we will focus on are the non-subscriber precision rate, subscribed recall rate and AUC."
   ]
  },
  {
   "cell_type": "code",
   "execution_count": 277,
   "metadata": {},
   "outputs": [
    {
     "name": "stdout",
     "output_type": "stream",
     "text": [
      "Total Percentage Subscribers 0.11265417111780131\n",
      "Total Percentage Not Subscribers 0.8873458288821987\n"
     ]
    }
   ],
   "source": [
    "print(\"Total Percentage Subscribers {}\".format( len(bank[bank['y'] == 1]) /  len(bank)))\n",
    "print(\"Total Percentage Not Subscribers {}\".format( len(bank[bank['y'] == 0]) / len(bank)))"
   ]
  },
  {
   "cell_type": "markdown",
   "metadata": {},
   "source": [
    "- We will start the machine learning part by selecting the variables that seems to have the highest correlation with increasing the subscription rate, transform the target variable into a boolean (0,1), false and positive, and assign all our feature variables to 'X' and the target variable to 'Y.'"
   ]
  },
  {
   "cell_type": "code",
   "execution_count": 272,
   "metadata": {},
   "outputs": [],
   "source": [
    "cat_chosen = ['job', 'contact', 'education', 'month', 'duration', 'campaign', 'pdays', 'poutcome', 'euribor3m', 'nr.employed']\n",
    "\n",
    "# Making y a unit dtype\n",
    "\n",
    "bank['y'] = bank['y'].replace('no', 0)\n",
    "bank['y'] = bank['y'].replace('yes', 1)\n",
    "bank['y'] = bank['y'].astype('uint8')\n",
    "\n",
    "\n",
    "# Assign X to feature variables and Y to the target variable.\n",
    "ml_bank = bank[cat_chosen]\n",
    "\n",
    "X = pd.get_dummies(ml_bank)\n",
    "y = bank['y']"
   ]
  },
  {
   "cell_type": "markdown",
   "metadata": {},
   "source": [
    "- Now that we have selected our feature variables and target variables, we will run the prediction models. The project will run 3 different models to see which one performs the best in our data. The models are Logistic Regression, Random Forest and Gradient Boosting."
   ]
  },
  {
   "cell_type": "markdown",
   "metadata": {},
   "source": [
    "### Logistic Regression Model"
   ]
  },
  {
   "cell_type": "markdown",
   "metadata": {},
   "source": [
    "- First, we will run a Grid Search over C and penalty, to see which C strength and what regularaization (Lasso (l1) or Ridge (l2)) method is the best for our model. Then, we will compute the confusion matrix."
   ]
  },
  {
   "cell_type": "code",
   "execution_count": 249,
   "metadata": {},
   "outputs": [
    {
     "name": "stdout",
     "output_type": "stream",
     "text": [
      "{'C': 1, 'penalty': 'l1'}\n",
      "0.9091255939787035\n"
     ]
    }
   ],
   "source": [
    "from sklearn.model_selection import GridSearchCV\n",
    "\n",
    "Cs = [0.0001, 0.001, 0.01, 0.1, 1, 10, 100, 1000]\n",
    "L = ['l1', 'l2']\n",
    "\n",
    "logreg = LogisticRegression()\n",
    "\n",
    "param_grid = {'C': Cs, 'penalty':L}\n",
    "\n",
    "logreg_cv = GridSearchCV(logreg, param_grid ,cv=5)\n",
    "\n",
    "logreg_cv.fit(X_train, y_train)\n",
    "\n",
    "print(logreg_cv.best_params_)\n",
    "print(logreg_cv.best_score_)"
   ]
  },
  {
   "cell_type": "markdown",
   "metadata": {},
   "source": [
    "- Now let's refine the C parameter."
   ]
  },
  {
   "cell_type": "code",
   "execution_count": 250,
   "metadata": {},
   "outputs": [
    {
     "name": "stdout",
     "output_type": "stream",
     "text": [
      "{'C': 5.0}\n",
      "0.9091602788664979\n"
     ]
    }
   ],
   "source": [
    "from sklearn.model_selection import RandomizedSearchCV\n",
    "\n",
    "Cs = np.arange(0.1, 10, 0.1)\n",
    "\n",
    "logreg = LogisticRegression(penalty= 'l1')\n",
    "\n",
    "param_grid = {'C': Cs}\n",
    "\n",
    "logreg_cv = RandomizedSearchCV(logreg, param_grid ,cv=5)\n",
    "\n",
    "logreg_cv.fit(X_train, y_train)\n",
    "\n",
    "print(logreg_cv.best_params_)\n",
    "print(logreg_cv.best_score_)"
   ]
  },
  {
   "cell_type": "code",
   "execution_count": 278,
   "metadata": {},
   "outputs": [
    {
     "name": "stdout",
     "output_type": "stream",
     "text": [
      "[[10684   284]\n",
      " [  821   568]]\n",
      "             precision    recall  f1-score   support\n",
      "\n",
      "          0       0.93      0.97      0.95     10968\n",
      "          1       0.67      0.41      0.51      1389\n",
      "\n",
      "avg / total       0.90      0.91      0.90     12357\n",
      "\n"
     ]
    }
   ],
   "source": [
    "model = LogisticRegression(C=5, penalty='l1')\n",
    "model.fit(X_train, y_train)\n",
    "model_pred = model.predict(X_test)\n",
    "\n",
    "print(confusion_matrix(y_test, model_pred))\n",
    "print(classification_report(y_test, model_pred))"
   ]
  },
  {
   "cell_type": "code",
   "execution_count": 279,
   "metadata": {},
   "outputs": [
    {
     "name": "stdout",
     "output_type": "stream",
     "text": [
      "AUC: 0.9332132641642498\n"
     ]
    }
   ],
   "source": [
    "# 1st Step - Import necessary modules\n",
    "from sklearn.metrics import roc_auc_score\n",
    "from sklearn.model_selection import cross_val_score\n",
    "\n",
    "# Compute predicted probabilities with predict_proba\n",
    "y_pred_prob = model.predict_proba(X_test)[:,1]\n",
    "\n",
    "# Compute and print AUC score with roc_auc_score()\n",
    "print(\"AUC: {}\".format(roc_auc_score(y_test, y_pred_prob)))"
   ]
  },
  {
   "cell_type": "markdown",
   "metadata": {},
   "source": [
    "- By tunning the parameters 'C' and 'penalty', we obtained a high AUC of 93.3%, a non-subscriber precision rate of 93% and only a 41% subscriber recall rate."
   ]
  },
  {
   "cell_type": "code",
   "execution_count": 260,
   "metadata": {},
   "outputs": [
    {
     "name": "stdout",
     "output_type": "stream",
     "text": [
      "{'C': 1000, 'penalty': 'l2'}\n",
      "0.8593527799937567\n"
     ]
    }
   ],
   "source": [
    "from sklearn.model_selection import GridSearchCV\n",
    "\n",
    "Cs = [0.0001, 0.001, 0.01, 0.1, 1, 10, 100, 1000]\n",
    "L = ['l1', 'l2']\n",
    "\n",
    "logreg_balanced = LogisticRegression(class_weight = \"balanced\")\n",
    "\n",
    "param_grid = {'C': Cs, 'penalty':L}\n",
    "\n",
    "logreg_cv = GridSearchCV(logreg_balanced, param_grid ,cv=5)\n",
    "\n",
    "logreg_cv.fit(X_train, y_train)\n",
    "\n",
    "print(logreg_cv.best_params_)"
   ]
  },
  {
   "cell_type": "code",
   "execution_count": 262,
   "metadata": {},
   "outputs": [
    {
     "name": "stdout",
     "output_type": "stream",
     "text": [
      "{'C': 1100}\n",
      "0.8593874648815512\n"
     ]
    }
   ],
   "source": [
    "from sklearn.model_selection import GridSearchCV\n",
    "\n",
    "Cs = [800, 900, 1000, 1100, 1200]\n",
    "L = ['l1', 'l2']\n",
    "\n",
    "logreg_balanced = LogisticRegression(class_weight = \"balanced\", penalty = 'l2')\n",
    "\n",
    "param_grid = {'C': Cs}\n",
    "\n",
    "logreg_cv = GridSearchCV(logreg_balanced, param_grid ,cv=5)\n",
    "\n",
    "logreg_cv.fit(X_train, y_train)\n",
    "\n",
    "print(logreg_cv.best_params_)"
   ]
  },
  {
   "cell_type": "code",
   "execution_count": 280,
   "metadata": {
    "scrolled": true
   },
   "outputs": [
    {
     "name": "stdout",
     "output_type": "stream",
     "text": [
      "[[9402 1566]\n",
      " [ 154 1235]]\n",
      "             precision    recall  f1-score   support\n",
      "\n",
      "          0       0.98      0.86      0.92     10968\n",
      "          1       0.44      0.89      0.59      1389\n",
      "\n",
      "avg / total       0.92      0.86      0.88     12357\n",
      "\n"
     ]
    }
   ],
   "source": [
    "model = LogisticRegression(C=1100, penalty='l2', class_weight = \"balanced\")\n",
    "model.fit(X_train, y_train)\n",
    "model_pred = model.predict(X_test)\n",
    "\n",
    "print(confusion_matrix(y_test, model_pred))\n",
    "print(classification_report(y_test, model_pred))"
   ]
  },
  {
   "cell_type": "code",
   "execution_count": 281,
   "metadata": {},
   "outputs": [
    {
     "name": "stdout",
     "output_type": "stream",
     "text": [
      "AUC: 0.9368286642101455\n"
     ]
    }
   ],
   "source": [
    "# 1st Step - Import necessary modules\n",
    "from sklearn.metrics import roc_auc_score\n",
    "from sklearn.model_selection import cross_val_score\n",
    "\n",
    "# Compute predicted probabilities with predict_proba\n",
    "y_pred_prob = model.predict_proba(X_test)[:,1]\n",
    "\n",
    "print(\"AUC: {}\".format(roc_auc_score(y_test, y_pred_prob)))"
   ]
  },
  {
   "cell_type": "code",
   "execution_count": 282,
   "metadata": {},
   "outputs": [
    {
     "data": {
      "image/png": "[encoded data removed]",
      "text/plain": [
       "<Figure size 720x504 with 1 Axes>"
      ]
     },
     "metadata": {
      "needs_background": "light"
     },
     "output_type": "display_data"
    }
   ],
   "source": [
    "from sklearn.metrics import roc_curve\n",
    "\n",
    "# 2nd Step - Compute predicted probabilities with predict_proba - It returns the probability of the sample for each class in the model.\n",
    "y_pred_prob = model.predict_proba(X_test)[:,1]\n",
    "\n",
    "# 3rd Step - Generate ROC curve values: fpr (False Positive Rate - x-axis), tpr (True Positive Rate - y-axis), thresholds\n",
    "fpr, tpr, thresholds = roc_curve(y_test, y_pred_prob)\n",
    "\n",
    "# 4th Step - Plot ROC curve\n",
    "plt.figure(figsize=(10,7))\n",
    "plt.plot([0, 1], [0, 1], 'k--')\n",
    "plt.plot(fpr, tpr)\n",
    "plt.xlabel('False Positive Rate')\n",
    "plt.ylabel('True Positive Rate')\n",
    "plt.title('ROC Curve')\n",
    "plt.show()"
   ]
  },
  {
   "attachments": {},
   "cell_type": "markdown",
   "metadata": {},
   "source": [
    "- After balancing the data, the model increased the AUC to 93.6%, non-subscriber precision rate to 98% and subscriber recall rate to 89%.\n",
    "\n",
    "- This means that with this model we are able to predict with 98% accuracy those who are not going to subscribe, predict 89% of the all the people that are going to subscribe with a 93.6% AUC."
   ]
  },
  {
   "cell_type": "markdown",
   "metadata": {},
   "source": [
    "### Random Forest Classification Model\n",
    "\n",
    "- Now, we are going to compare our logistic regression model with a random forest classification and see which model performs better in our dataset.\n",
    "\n",
    "- We will start by tuning the parameters: n_estimators, min_samples_split and max_features"
   ]
  },
  {
   "cell_type": "code",
   "execution_count": 176,
   "metadata": {},
   "outputs": [
    {
     "name": "stdout",
     "output_type": "stream",
     "text": [
      "{'n_estimators': 2, 'min_samples_split': 0.2, 'max_features': 0.23333333333333334}\n",
      "0.8967084041483125\n"
     ]
    }
   ],
   "source": [
    "from sklearn.model_selection import RandomizedSearchCV\n",
    "from sklearn.ensemble import RandomForestClassifier\n",
    "\n",
    "estimators = [1, 2, 4, 8, 16, 32, 64, 100]\n",
    "sample_split = np.linspace(0.1, 1, 10, endpoint=True)\n",
    "features_choice = np.linspace(0.1, 0.5, 10, endpoint=True)\n",
    "\n",
    "param_grid = {'n_estimators': estimators,\n",
    "              'min_samples_split' : sample_split,\n",
    "              'max_features' : features_choice\n",
    "             }\n",
    "\n",
    "my_forest = RandomForestClassifier()\n",
    "my_forest_cv = RandomizedSearchCV(my_forest, param_grid ,cv=5)\n",
    "my_forest_cv = my_forest_cv.fit(X_train, y_train)\n",
    "\n",
    "print(my_forest_cv.best_params_)\n",
    "print(my_forest_cv.best_score_)"
   ]
  },
  {
   "cell_type": "code",
   "execution_count": 235,
   "metadata": {
    "scrolled": true
   },
   "outputs": [
    {
     "name": "stdout",
     "output_type": "stream",
     "text": [
      "[[10867   101]\n",
      " [ 1181   208]]\n",
      "             precision    recall  f1-score   support\n",
      "\n",
      "          0       0.90      0.99      0.94     10968\n",
      "          1       0.67      0.15      0.24      1389\n",
      "\n",
      "avg / total       0.88      0.90      0.87     12357\n",
      "\n"
     ]
    }
   ],
   "source": [
    "rfc_model = RandomForestClassifier(n_estimators=2, min_samples_split=0.2, max_features=0.234)\n",
    "rfc_model.fit(X_train, y_train)\n",
    "rfc_model_pred = rfc_model.predict(X_test)\n",
    "\n",
    "print(confusion_matrix(y_test, rfc_model_pred))\n",
    "print(classification_report(y_test, rfc_model_pred))"
   ]
  },
  {
   "cell_type": "code",
   "execution_count": 248,
   "metadata": {},
   "outputs": [
    {
     "name": "stdout",
     "output_type": "stream",
     "text": [
      "AUC: 0.9184873962818204\n"
     ]
    }
   ],
   "source": [
    "from sklearn.metrics import roc_auc_score\n",
    "from sklearn.model_selection import cross_val_score\n",
    "\n",
    "# Compute predicted probabilities with predict_proba\n",
    "y_pred_prob = rfc_model.predict_proba(X_test)[:,1]\n",
    "\n",
    "# Compute and print AUC score with roc_auc_score()\n",
    "print(\"AUC: {}\".format(roc_auc_score(y_test, y_pred_prob)))"
   ]
  },
  {
   "cell_type": "markdown",
   "metadata": {},
   "source": [
    "- The model obtained a high AUC of 91.4%, 90% non-subscriber precision rate, and only 15% subscriber recall rate."
   ]
  },
  {
   "cell_type": "code",
   "execution_count": 230,
   "metadata": {},
   "outputs": [
    {
     "name": "stdout",
     "output_type": "stream",
     "text": [
      "{'n_estimators': 64, 'min_samples_split': 0.1, 'max_features': 0.4111111111111111}\n",
      "0.8093024869064549\n"
     ]
    }
   ],
   "source": [
    "from sklearn.ensemble import RandomForestClassifier\n",
    "\n",
    "estimators = [1, 2, 4, 8, 16, 32, 64, 100, 200]\n",
    "sample_split = np.linspace(0.1, 0.5, 10, endpoint=True)\n",
    "features_choice = np.linspace(0.1, 0.5, 10, endpoint=True)\n",
    "\n",
    "param_grid = {'n_estimators': estimators,\n",
    "              'min_samples_split' : sample_split,\n",
    "              'max_features' : features_choice\n",
    "             }\n",
    "\n",
    "my_forest = RandomForestClassifier(class_weight='balanced', n_jobs=-1)\n",
    "my_forest_cv = RandomizedSearchCV(my_forest, param_grid ,cv=5)\n",
    "my_forest_cv = my_forest_cv.fit(X_train, y_train)\n",
    "\n",
    "print(my_forest_cv.best_params_)\n",
    "print(my_forest_cv.best_score_)"
   ]
  },
  {
   "cell_type": "code",
   "execution_count": 284,
   "metadata": {},
   "outputs": [
    {
     "name": "stdout",
     "output_type": "stream",
     "text": [
      "[[8639 2329]\n",
      " [  71 1318]]\n",
      "             precision    recall  f1-score   support\n",
      "\n",
      "          0       0.99      0.79      0.88     10968\n",
      "          1       0.36      0.95      0.52      1389\n",
      "\n",
      "avg / total       0.92      0.81      0.84     12357\n",
      "\n"
     ]
    }
   ],
   "source": [
    "rfc_model = RandomForestClassifier(n_estimators=64, min_samples_split=0.1, max_features=0.41, class_weight='balanced', random_state=51, n_jobs=-1)\n",
    "rfc_model.fit(X_train, y_train)\n",
    "rfc_model_pred = rfc_model.predict(X_test)\n",
    "\n",
    "print(confusion_matrix(y_test, rfc_model_pred))\n",
    "print(classification_report(y_test, rfc_model_pred))\n",
    "\n"
   ]
  },
  {
   "cell_type": "code",
   "execution_count": 286,
   "metadata": {},
   "outputs": [
    {
     "name": "stdout",
     "output_type": "stream",
     "text": [
      "AUC: 0.9306493554913856\n"
     ]
    }
   ],
   "source": [
    "from sklearn.metrics import roc_auc_score\n",
    "from sklearn.model_selection import cross_val_score\n",
    "\n",
    "# Compute predicted probabilities with predict_proba\n",
    "y_pred_prob = rfc_model.predict_proba(X_test)[:,1]\n",
    "\n",
    "# Compute and print AUC score with roc_auc_score()\n",
    "print(\"AUC: {}\".format(roc_auc_score(y_test, y_pred_prob)))"
   ]
  },
  {
   "cell_type": "code",
   "execution_count": 267,
   "metadata": {},
   "outputs": [
    {
     "data": {
      "image/png": "[encoded data removed]",
      "text/plain": [
       "<Figure size 720x504 with 1 Axes>"
      ]
     },
     "metadata": {
      "needs_background": "light"
     },
     "output_type": "display_data"
    }
   ],
   "source": [
    "from sklearn.metrics import roc_curve\n",
    "\n",
    "# 2nd Step - Compute predicted probabilities with predict_proba - It returns the probability of the sample for each class in the model.\n",
    "y_pred_prob = rfc_model.predict_proba(X_test)[:,1]\n",
    "\n",
    "# 3rd Step - Generate ROC curve values: fpr (False Positive Rate - x-axis), tpr (True Positive Rate - y-axis), thresholds\n",
    "fpr, tpr, thresholds = roc_curve(y_test, y_pred_prob)\n",
    "\n",
    "# 4th Step - Plot ROC curve\n",
    "plt.figure(figsize=(10,7))\n",
    "plt.plot([0, 1], [0, 1], 'k--')\n",
    "plt.plot(fpr, tpr)\n",
    "plt.xlabel('False Positive Rate')\n",
    "plt.ylabel('True Positive Rate')\n",
    "plt.title('ROC Curve')\n",
    "plt.show()"
   ]
  },
  {
   "cell_type": "markdown",
   "metadata": {},
   "source": [
    "- After balancing our data, we were able to increase our recall rate to 95%, meaning that now we are able to predict 95% of all the actual subscribers. In addition, the precision rate for non-subscribers is 99%, meaning that when we predict a non-subscriber our model will be correct 99% of the time.\n",
    "- Comparing to the logistic regression model, we obtained a better non-subscriber precision rate and subscriber recall rate with a slight decrease in AUC. Thus, overall, offering a better model to according to the bank's plan."
   ]
  },
  {
   "cell_type": "markdown",
   "metadata": {},
   "source": [
    "### Gradient Boosting Classifier\n",
    "- For the last part, we will compare the two last models with Gradient Boosting Classifier.\n"
   ]
  },
  {
   "cell_type": "code",
   "execution_count": 174,
   "metadata": {
    "scrolled": false
   },
   "outputs": [
    {
     "name": "stdout",
     "output_type": "stream",
     "text": [
      "{'min_samples_leaf': 3, 'max_features': 'log2', 'max_depth': 5, 'learning_rate': 0.01}\n",
      "0.9142242724844785\n"
     ]
    }
   ],
   "source": [
    "from sklearn.ensemble import GradientBoostingClassifier\n",
    "from sklearn.model_selection import RandomizedSearchCV\n",
    "\n",
    "gbc = GradientBoostingClassifier(n_estimators=3000)\n",
    "\n",
    "learn = np.linspace(0.01,0.1, 5, endpoint=True)\n",
    "depth = np.arange(2,7)\n",
    "samples_leaf = [3, 5, 9, 17]\n",
    "features = ['sqrt', 'log2', None]\n",
    "\n",
    "param_grid = {'learning_rate':learn,\n",
    "              'max_depth':depth,\n",
    "              'min_samples_leaf':samples_leaf,\n",
    "              'max_features':features\n",
    "                }\n",
    "\n",
    "gbc_cv = RandomizedSearchCV(gbc, param_grid, cv=5)\n",
    "gbc_cv.fit(X_train, y_train)\n",
    "print(gbc_cv.best_params_)\n",
    "print(gbc_cv.best_score_)"
   ]
  },
  {
   "cell_type": "code",
   "execution_count": 175,
   "metadata": {
    "scrolled": true
   },
   "outputs": [
    {
     "name": "stdout",
     "output_type": "stream",
     "text": [
      "[[10603   365]\n",
      " [  654   735]]\n",
      "             precision    recall  f1-score   support\n",
      "\n",
      "          0       0.94      0.97      0.95     10968\n",
      "          1       0.67      0.53      0.59      1389\n",
      "\n",
      "avg / total       0.91      0.92      0.91     12357\n",
      "\n"
     ]
    }
   ],
   "source": [
    "gbc = GradientBoostingClassifier(n_estimators=3000, min_samples_leaf=3, max_features='log2', max_depth=5, learning_rate=0.01)\n",
    "\n",
    "gbc.fit(X_train, y_train)\n",
    "gbc_pred = gbc.predict(X_test)\n",
    "\n",
    "print(confusion_matrix(y_test, gbc_pred))\n",
    "print(classification_report(y_test, gbc_pred))"
   ]
  },
  {
   "cell_type": "code",
   "execution_count": 246,
   "metadata": {},
   "outputs": [
    {
     "name": "stdout",
     "output_type": "stream",
     "text": [
      "AUC: 0.9499888805394474\n"
     ]
    }
   ],
   "source": [
    "from sklearn.metrics import roc_auc_score\n",
    "from sklearn.model_selection import cross_val_score\n",
    "\n",
    "# Compute predicted probabilities with predict_proba\n",
    "y_pred_prob = gbc.predict_proba(X_test)[:,1]\n",
    "\n",
    "# Compute and print AUC score with roc_auc_score()\n",
    "print(\"AUC: {}\".format(roc_auc_score(y_test, y_pred_prob)))"
   ]
  },
  {
   "cell_type": "markdown",
   "metadata": {},
   "source": [
    "- So far, this model obtained the highest AUC, 95%, and obtained a high non-subscriber precision rate of 94%. However, the subscriber recall rate was only 53%."
   ]
  },
  {
   "cell_type": "code",
   "execution_count": 169,
   "metadata": {},
   "outputs": [
    {
     "name": "stdout",
     "output_type": "stream",
     "text": [
      "{'gradientboostingclassifier__min_samples_leaf': 5, 'gradientboostingclassifier__max_features': 'sqrt', 'gradientboostingclassifier__max_depth': 6, 'gradientboostingclassifier__learning_rate': 0.1}\n",
      "0.9093337033054698\n"
     ]
    }
   ],
   "source": [
    "from sklearn.model_selection import RandomizedSearchCV\n",
    "\n",
    "from imblearn.over_sampling import SMOTE\n",
    "from imblearn.pipeline import make_pipeline as make_pipeline_imb\n",
    "\n",
    "smote_pipeline = make_pipeline_imb(SMOTE(random_state=42), GradientBoostingClassifier(n_estimators=3000))\n",
    "\n",
    "param_grid = {'gradientboostingclassifier__learning_rate':learn,\n",
    "              'gradientboostingclassifier__max_depth':depth,\n",
    "              'gradientboostingclassifier__min_samples_leaf':samples_leaf,\n",
    "              'gradientboostingclassifier__max_features':features\n",
    "                }\n",
    "\n",
    "gbc_smote = RandomizedSearchCV(smote_pipeline, param_grid, cv=5)\n",
    "gbc_smote.fit(X_train, y_train)\n",
    "print(gbc_smote.best_params_)\n",
    "print(gbc_smote.best_score_)"
   ]
  },
  {
   "cell_type": "code",
   "execution_count": 171,
   "metadata": {
    "scrolled": true
   },
   "outputs": [
    {
     "name": "stdout",
     "output_type": "stream",
     "text": [
      "[[10475   493]\n",
      " [  617   772]]\n",
      "             precision    recall  f1-score   support\n",
      "\n",
      "          0       0.94      0.96      0.95     10968\n",
      "          1       0.61      0.56      0.58      1389\n",
      "\n",
      "avg / total       0.91      0.91      0.91     12357\n",
      "\n"
     ]
    }
   ],
   "source": [
    "from sklearn.model_selection import RandomizedSearchCV\n",
    "\n",
    "from imblearn.over_sampling import SMOTE\n",
    "from imblearn.pipeline import make_pipeline as make_pipeline_imb\n",
    "\n",
    "smote_pipeline = make_pipeline_imb(SMOTE(random_state=42), GradientBoostingClassifier(n_estimators=3000, min_samples_leaf=5, max_features='sqrt', max_depth=6, learning_rate=0.1))\n",
    "\n",
    "smote_pipeline.fit(X_train, y_train)\n",
    "smote_pipeline_pred = smote_pipeline.predict(X_test)\n",
    "\n",
    "print(confusion_matrix(y_test, smote_pipeline_pred))\n",
    "print(classification_report(y_test, smote_pipeline_pred))"
   ]
  },
  {
   "cell_type": "code",
   "execution_count": 239,
   "metadata": {},
   "outputs": [
    {
     "data": {
      "image/png": "[encoded data removed]",
      "text/plain": [
       "<Figure size 720x504 with 1 Axes>"
      ]
     },
     "metadata": {
      "needs_background": "light"
     },
     "output_type": "display_data"
    }
   ],
   "source": [
    "from sklearn.metrics import roc_curve\n",
    "\n",
    "# 2nd Step - Compute predicted probabilities with predict_proba - It returns the probability of the sample for each class in the model.\n",
    "y_pred_prob = smote_pipeline.predict_proba(X_test)[:,1]\n",
    "\n",
    "# 3rd Step - Generate ROC curve values: fpr (False Positive Rate - x-axis), tpr (True Positive Rate - y-axis), thresholds\n",
    "fpr, tpr, thresholds = roc_curve(y_test, y_pred_prob)\n",
    "\n",
    "# 4th Step - Plot ROC curve\n",
    "plt.figure(figsize=(10,7))\n",
    "plt.plot([0, 1], [0, 1], 'k--')\n",
    "plt.plot(fpr, tpr)\n",
    "plt.xlabel('False Positive Rate')\n",
    "plt.ylabel('True Positive Rate')\n",
    "plt.title('ROC Curve')\n",
    "plt.show()"
   ]
  },
  {
   "cell_type": "code",
   "execution_count": 271,
   "metadata": {},
   "outputs": [
    {
     "name": "stdout",
     "output_type": "stream",
     "text": [
      "AUC: 0.9306923498636521\n"
     ]
    }
   ],
   "source": [
    "from sklearn.metrics import roc_auc_score\n",
    "from sklearn.model_selection import cross_val_score\n",
    "\n",
    "y_pred_prob = smote_pipeline.predict_proba(X_test)[:,1]\n",
    "\n",
    "# Compute and print AUC score with roc_auc_score()\n",
    "print(\"AUC: {}\".format(roc_auc_score(y_test, y_pred_prob)))"
   ]
  },
  {
   "cell_type": "markdown",
   "metadata": {},
   "source": [
    "- After balancing the data, the AUC rate decrease to 93% from 95%, the same rate in non-subscriber precision rate of 94 and only small increase in subscriber recall rate to 56% from 53%."
   ]
  },
  {
   "cell_type": "markdown",
   "metadata": {},
   "source": [
    "## Conclusion"
   ]
  },
  {
   "cell_type": "markdown",
   "metadata": {},
   "source": [
    "- The best model for this dataset is the Random Forest Classification. The model has an accuracy of 99% when it predicts someone is not going to subscribe and predicts 95% of all the subscribers. By applying this model to the next campagin, the bank will increase efficiency, effectivity and increse the amount of subscribers. The bank will increase efficiency and effectivity as it will need to contact only 30% the entire list to obtain the same amount of subscribers, freeing 2068.5 hours from the agents to be allocated somewhere else, and the bank will be directly saving 28,339 Euros with this type of campaign. In addition, the bank can increase the amount of subscribers by creating a more enticing marketing campaign to those who are less likely to not subscribe."
   ]
  },
  {
   "cell_type": "code",
   "execution_count": 311,
   "metadata": {},
   "outputs": [
    {
     "name": "stdout",
     "output_type": "stream",
     "text": [
      "Total time spent in contacting people (in hours) - 2955.0675\n",
      "Total time needed to spend in new campaign to obtain the same amount of subscribers (in hours) - 886.52025\n",
      "Total time saved - 2068.54725\n",
      "Total amount saved - 28339 Euros\n"
     ]
    }
   ],
   "source": [
    "# Average spend p/ call (in seconds)\n",
    "duration = np.mean(bank['duration'])\n",
    "\n",
    "# Total amount of people contacted\n",
    "total_list = len(bank)\n",
    "\n",
    "# Total time spent contacting people in hours\n",
    "total_time_hours = total_list * duration / 3600\n",
    "\n",
    "# Total time needed to contact people to obtain the same amount of subscribers with our model\n",
    "total_time_campaign = total_time_hours *0.3\n",
    "\n",
    "# Total amount of money saved (Average salary p/ hour in Portugal - 13,7 Euros)\n",
    "amount_saved = (total_time_hours - total_time_campaign) * 13.7\n",
    "\n",
    "\n",
    "\n",
    "print(\"Total time spent in contacting people (in hours) - {}\".format(total_time_hours))\n",
    "print(\"Total time needed to spend in new campaign to obtain the same amount of subscribers (in hours) - {}\".format(total_time_campaign))\n",
    "print(\"Total time saved - {}\".format(total_time_hours - total_time_campaign))\n",
    "print(\"Total amount saved - {} Euros\".format(round(amount_saved)))\n"
   ]
  },
  {
   "cell_type": "code",
   "execution_count": null,
   "metadata": {},
   "outputs": [],
   "source": []
  }
 ],
 "metadata": {
  "kernelspec": {
   "display_name": "springboard",
   "language": "python",
   "name": "springboard"
  },
  "language_info": {
   "codemirror_mode": {
    "name": "ipython",
    "version": 3
   },
   "file_extension": ".py",
   "mimetype": "text/x-python",
   "name": "python",
   "nbconvert_exporter": "python",
   "pygments_lexer": "ipython3",
   "version": "3.6.8"
  }
 },
 "nbformat": 4,
 "nbformat_minor": 2
}
